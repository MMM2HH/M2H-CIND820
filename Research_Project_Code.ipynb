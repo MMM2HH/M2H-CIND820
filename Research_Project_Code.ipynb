{
  "nbformat": 4,
  "nbformat_minor": 0,
  "metadata": {
    "colab": {
      "name": "Research Project Code.ipynb",
      "provenance": [],
      "authorship_tag": "ABX9TyNIKN58iWAaFTNp+2Wt3W2a",
      "include_colab_link": true
    },
    "kernelspec": {
      "name": "python3",
      "display_name": "Python 3"
    },
    "language_info": {
      "name": "python"
    }
  },
  "cells": [
    {
      "cell_type": "markdown",
      "metadata": {
        "id": "view-in-github",
        "colab_type": "text"
      },
      "source": [
        "<a href=\"https://colab.research.google.com/github/MMM2HH/M2H-CIND820/blob/main/Research_Project_Code.ipynb\" target=\"_parent\"><img src=\"https://colab.research.google.com/assets/colab-badge.svg\" alt=\"Open In Colab\"/></a>"
      ]
    },
    {
      "cell_type": "markdown",
      "source": [
        "**Data Exploration & Pre-processing**"
      ],
      "metadata": {
        "id": "RgkIALmXq6CS"
      }
    },
    {
      "cell_type": "code",
      "execution_count": 1,
      "metadata": {
        "colab": {
          "base_uri": "https://localhost:8080/"
        },
        "id": "YZZbVKdxdsYa",
        "outputId": "1b7ca1e1-cc13-44b0-b0d7-9d5a4897cfc3"
      },
      "outputs": [
        {
          "output_type": "stream",
          "name": "stderr",
          "text": [
            "/usr/local/lib/python3.7/dist-packages/statsmodels/tools/_testing.py:19: FutureWarning: pandas.util.testing is deprecated. Use the functions in the public API at pandas.testing instead.\n",
            "  import pandas.util.testing as tm\n"
          ]
        },
        {
          "output_type": "stream",
          "name": "stdout",
          "text": [
            "<class 'pandas.core.frame.DataFrame'>\n",
            "RangeIndex: 50000 entries, 0 to 49999\n",
            "Data columns (total 11 columns):\n",
            " #   Column          Non-Null Count  Dtype  \n",
            "---  ------          --------------  -----  \n",
            " 0   step            50000 non-null  int64  \n",
            " 1   type            50000 non-null  object \n",
            " 2   amount          50000 non-null  float64\n",
            " 3   nameOrig        50000 non-null  object \n",
            " 4   oldbalanceOrg   50000 non-null  float64\n",
            " 5   newbalanceOrig  50000 non-null  float64\n",
            " 6   nameDest        50000 non-null  object \n",
            " 7   oldbalanceDest  50000 non-null  float64\n",
            " 8   newbalanceDest  50000 non-null  float64\n",
            " 9   isFraud         50000 non-null  int64  \n",
            " 10  isFlaggedFraud  50000 non-null  int64  \n",
            "dtypes: float64(5), int64(3), object(3)\n",
            "memory usage: 4.2+ MB\n"
          ]
        }
      ],
      "source": [
        "#https://www.udacity.com/blog/2020/04/python-and-data-analysis-cheat-sheet.html\n",
        "from mpl_toolkits.mplot3d import Axes3D\n",
        "from sklearn.preprocessing import StandardScaler\n",
        "import rpy2\n",
        "import pandas as pd \n",
        "import numpy as np\n",
        "import os \n",
        "import matplotlib.pyplot as plt\n",
        "import seaborn as sns\n",
        "import statsmodels.api as sm\n",
        "import scipy.stats as stats\n",
        "df = pd.read_csv('ExportedSubsetData.csv')\n",
        "#Print data frame\n",
        "df\n",
        "#Dataset Info Summary\n",
        "df.info()"
      ]
    },
    {
      "cell_type": "code",
      "source": [
        "#Statistical Summary of Numeric Variables - Sample Dataset\n",
        "df.describe()"
      ],
      "metadata": {
        "colab": {
          "base_uri": "https://localhost:8080/",
          "height": 300
        },
        "id": "J10nH5lMreVD",
        "outputId": "796c7686-1dca-4245-916c-7a3cb0621ded"
      },
      "execution_count": 2,
      "outputs": [
        {
          "output_type": "execute_result",
          "data": {
            "text/plain": [
              "               step        amount  oldbalanceOrg  newbalanceOrig  \\\n",
              "count  50000.000000  5.000000e+04   5.000000e+04    5.000000e+04   \n",
              "mean     243.140540  1.862960e+05   8.612681e+05    8.824226e+05   \n",
              "std      142.194128  6.793675e+05   2.952606e+06    2.989308e+06   \n",
              "min        1.000000  1.970000e+00   0.000000e+00    0.000000e+00   \n",
              "25%      155.000000  1.360874e+04   0.000000e+00    0.000000e+00   \n",
              "50%      238.000000  7.638024e+04   1.442752e+04    0.000000e+00   \n",
              "75%      334.000000  2.086110e+05   1.096545e+05    1.502079e+05   \n",
              "max      742.000000  4.218381e+07   4.381886e+07    4.368662e+07   \n",
              "\n",
              "       oldbalanceDest  newbalanceDest       isFraud  isFlaggedFraud  \n",
              "count    5.000000e+04    5.000000e+04  50000.000000         50000.0  \n",
              "mean     1.124943e+06    1.253782e+06      0.001360             0.0  \n",
              "std      3.298256e+06    3.602902e+06      0.036853             0.0  \n",
              "min      0.000000e+00    0.000000e+00      0.000000             0.0  \n",
              "25%      0.000000e+00    0.000000e+00      0.000000             0.0  \n",
              "50%      1.459809e+05    2.251965e+05      0.000000             0.0  \n",
              "75%      9.704811e+05    1.134654e+06      0.000000             0.0  \n",
              "max      1.569947e+08    1.571410e+08      1.000000             0.0  "
            ],
            "text/html": [
              "\n",
              "  <div id=\"df-3ca0cc62-612b-4a1c-a398-0e6302e3230e\">\n",
              "    <div class=\"colab-df-container\">\n",
              "      <div>\n",
              "<style scoped>\n",
              "    .dataframe tbody tr th:only-of-type {\n",
              "        vertical-align: middle;\n",
              "    }\n",
              "\n",
              "    .dataframe tbody tr th {\n",
              "        vertical-align: top;\n",
              "    }\n",
              "\n",
              "    .dataframe thead th {\n",
              "        text-align: right;\n",
              "    }\n",
              "</style>\n",
              "<table border=\"1\" class=\"dataframe\">\n",
              "  <thead>\n",
              "    <tr style=\"text-align: right;\">\n",
              "      <th></th>\n",
              "      <th>step</th>\n",
              "      <th>amount</th>\n",
              "      <th>oldbalanceOrg</th>\n",
              "      <th>newbalanceOrig</th>\n",
              "      <th>oldbalanceDest</th>\n",
              "      <th>newbalanceDest</th>\n",
              "      <th>isFraud</th>\n",
              "      <th>isFlaggedFraud</th>\n",
              "    </tr>\n",
              "  </thead>\n",
              "  <tbody>\n",
              "    <tr>\n",
              "      <th>count</th>\n",
              "      <td>50000.000000</td>\n",
              "      <td>5.000000e+04</td>\n",
              "      <td>5.000000e+04</td>\n",
              "      <td>5.000000e+04</td>\n",
              "      <td>5.000000e+04</td>\n",
              "      <td>5.000000e+04</td>\n",
              "      <td>50000.000000</td>\n",
              "      <td>50000.0</td>\n",
              "    </tr>\n",
              "    <tr>\n",
              "      <th>mean</th>\n",
              "      <td>243.140540</td>\n",
              "      <td>1.862960e+05</td>\n",
              "      <td>8.612681e+05</td>\n",
              "      <td>8.824226e+05</td>\n",
              "      <td>1.124943e+06</td>\n",
              "      <td>1.253782e+06</td>\n",
              "      <td>0.001360</td>\n",
              "      <td>0.0</td>\n",
              "    </tr>\n",
              "    <tr>\n",
              "      <th>std</th>\n",
              "      <td>142.194128</td>\n",
              "      <td>6.793675e+05</td>\n",
              "      <td>2.952606e+06</td>\n",
              "      <td>2.989308e+06</td>\n",
              "      <td>3.298256e+06</td>\n",
              "      <td>3.602902e+06</td>\n",
              "      <td>0.036853</td>\n",
              "      <td>0.0</td>\n",
              "    </tr>\n",
              "    <tr>\n",
              "      <th>min</th>\n",
              "      <td>1.000000</td>\n",
              "      <td>1.970000e+00</td>\n",
              "      <td>0.000000e+00</td>\n",
              "      <td>0.000000e+00</td>\n",
              "      <td>0.000000e+00</td>\n",
              "      <td>0.000000e+00</td>\n",
              "      <td>0.000000</td>\n",
              "      <td>0.0</td>\n",
              "    </tr>\n",
              "    <tr>\n",
              "      <th>25%</th>\n",
              "      <td>155.000000</td>\n",
              "      <td>1.360874e+04</td>\n",
              "      <td>0.000000e+00</td>\n",
              "      <td>0.000000e+00</td>\n",
              "      <td>0.000000e+00</td>\n",
              "      <td>0.000000e+00</td>\n",
              "      <td>0.000000</td>\n",
              "      <td>0.0</td>\n",
              "    </tr>\n",
              "    <tr>\n",
              "      <th>50%</th>\n",
              "      <td>238.000000</td>\n",
              "      <td>7.638024e+04</td>\n",
              "      <td>1.442752e+04</td>\n",
              "      <td>0.000000e+00</td>\n",
              "      <td>1.459809e+05</td>\n",
              "      <td>2.251965e+05</td>\n",
              "      <td>0.000000</td>\n",
              "      <td>0.0</td>\n",
              "    </tr>\n",
              "    <tr>\n",
              "      <th>75%</th>\n",
              "      <td>334.000000</td>\n",
              "      <td>2.086110e+05</td>\n",
              "      <td>1.096545e+05</td>\n",
              "      <td>1.502079e+05</td>\n",
              "      <td>9.704811e+05</td>\n",
              "      <td>1.134654e+06</td>\n",
              "      <td>0.000000</td>\n",
              "      <td>0.0</td>\n",
              "    </tr>\n",
              "    <tr>\n",
              "      <th>max</th>\n",
              "      <td>742.000000</td>\n",
              "      <td>4.218381e+07</td>\n",
              "      <td>4.381886e+07</td>\n",
              "      <td>4.368662e+07</td>\n",
              "      <td>1.569947e+08</td>\n",
              "      <td>1.571410e+08</td>\n",
              "      <td>1.000000</td>\n",
              "      <td>0.0</td>\n",
              "    </tr>\n",
              "  </tbody>\n",
              "</table>\n",
              "</div>\n",
              "      <button class=\"colab-df-convert\" onclick=\"convertToInteractive('df-3ca0cc62-612b-4a1c-a398-0e6302e3230e')\"\n",
              "              title=\"Convert this dataframe to an interactive table.\"\n",
              "              style=\"display:none;\">\n",
              "        \n",
              "  <svg xmlns=\"http://www.w3.org/2000/svg\" height=\"24px\"viewBox=\"0 0 24 24\"\n",
              "       width=\"24px\">\n",
              "    <path d=\"M0 0h24v24H0V0z\" fill=\"none\"/>\n",
              "    <path d=\"M18.56 5.44l.94 2.06.94-2.06 2.06-.94-2.06-.94-.94-2.06-.94 2.06-2.06.94zm-11 1L8.5 8.5l.94-2.06 2.06-.94-2.06-.94L8.5 2.5l-.94 2.06-2.06.94zm10 10l.94 2.06.94-2.06 2.06-.94-2.06-.94-.94-2.06-.94 2.06-2.06.94z\"/><path d=\"M17.41 7.96l-1.37-1.37c-.4-.4-.92-.59-1.43-.59-.52 0-1.04.2-1.43.59L10.3 9.45l-7.72 7.72c-.78.78-.78 2.05 0 2.83L4 21.41c.39.39.9.59 1.41.59.51 0 1.02-.2 1.41-.59l7.78-7.78 2.81-2.81c.8-.78.8-2.07 0-2.86zM5.41 20L4 18.59l7.72-7.72 1.47 1.35L5.41 20z\"/>\n",
              "  </svg>\n",
              "      </button>\n",
              "      \n",
              "  <style>\n",
              "    .colab-df-container {\n",
              "      display:flex;\n",
              "      flex-wrap:wrap;\n",
              "      gap: 12px;\n",
              "    }\n",
              "\n",
              "    .colab-df-convert {\n",
              "      background-color: #E8F0FE;\n",
              "      border: none;\n",
              "      border-radius: 50%;\n",
              "      cursor: pointer;\n",
              "      display: none;\n",
              "      fill: #1967D2;\n",
              "      height: 32px;\n",
              "      padding: 0 0 0 0;\n",
              "      width: 32px;\n",
              "    }\n",
              "\n",
              "    .colab-df-convert:hover {\n",
              "      background-color: #E2EBFA;\n",
              "      box-shadow: 0px 1px 2px rgba(60, 64, 67, 0.3), 0px 1px 3px 1px rgba(60, 64, 67, 0.15);\n",
              "      fill: #174EA6;\n",
              "    }\n",
              "\n",
              "    [theme=dark] .colab-df-convert {\n",
              "      background-color: #3B4455;\n",
              "      fill: #D2E3FC;\n",
              "    }\n",
              "\n",
              "    [theme=dark] .colab-df-convert:hover {\n",
              "      background-color: #434B5C;\n",
              "      box-shadow: 0px 1px 3px 1px rgba(0, 0, 0, 0.15);\n",
              "      filter: drop-shadow(0px 1px 2px rgba(0, 0, 0, 0.3));\n",
              "      fill: #FFFFFF;\n",
              "    }\n",
              "  </style>\n",
              "\n",
              "      <script>\n",
              "        const buttonEl =\n",
              "          document.querySelector('#df-3ca0cc62-612b-4a1c-a398-0e6302e3230e button.colab-df-convert');\n",
              "        buttonEl.style.display =\n",
              "          google.colab.kernel.accessAllowed ? 'block' : 'none';\n",
              "\n",
              "        async function convertToInteractive(key) {\n",
              "          const element = document.querySelector('#df-3ca0cc62-612b-4a1c-a398-0e6302e3230e');\n",
              "          const dataTable =\n",
              "            await google.colab.kernel.invokeFunction('convertToInteractive',\n",
              "                                                     [key], {});\n",
              "          if (!dataTable) return;\n",
              "\n",
              "          const docLinkHtml = 'Like what you see? Visit the ' +\n",
              "            '<a target=\"_blank\" href=https://colab.research.google.com/notebooks/data_table.ipynb>data table notebook</a>'\n",
              "            + ' to learn more about interactive tables.';\n",
              "          element.innerHTML = '';\n",
              "          dataTable['output_type'] = 'display_data';\n",
              "          await google.colab.output.renderOutput(dataTable, element);\n",
              "          const docLink = document.createElement('div');\n",
              "          docLink.innerHTML = docLinkHtml;\n",
              "          element.appendChild(docLink);\n",
              "        }\n",
              "      </script>\n",
              "    </div>\n",
              "  </div>\n",
              "  "
            ]
          },
          "metadata": {},
          "execution_count": 2
        }
      ]
    },
    {
      "cell_type": "code",
      "source": [
        "#Convert categorical variable \"type\" into dummy variables: \n",
        "#https://stackoverflow.com/questions/44694228/how-to-check-for-correlation-among-continuous-and-categorical-variables\n",
        "df_dummies = pd.get_dummies(df['type'])\n",
        "del df_dummies[df_dummies.columns[-1]]\n",
        "df_new = pd.concat([df, df_dummies], axis=1)\n",
        "del df_new['type']\n",
        "df_new\n"
      ],
      "metadata": {
        "colab": {
          "base_uri": "https://localhost:8080/",
          "height": 488
        },
        "id": "UrlVN8GXDX7g",
        "outputId": "d8306933-6f3b-44f6-b452-c0224afc6747"
      },
      "execution_count": 3,
      "outputs": [
        {
          "output_type": "execute_result",
          "data": {
            "text/plain": [
              "       step     amount     nameOrig  oldbalanceOrg  newbalanceOrig  \\\n",
              "0       182  129804.96   C557034178           0.00            0.00   \n",
              "1       347   31443.09   C106157646      523617.58       492174.49   \n",
              "2        37   37045.02  C2119144137      563001.93       600046.95   \n",
              "3       321   54229.95  C1783369537           0.00        54229.95   \n",
              "4       252   61214.57   C680060894           0.00            0.00   \n",
              "...     ...        ...          ...            ...             ...   \n",
              "49995   380   10534.48   C120732296           0.00            0.00   \n",
              "49996   402   32294.97  C1902387221       17712.00        50006.97   \n",
              "49997   165   81109.38  C1587276247       23905.07            0.00   \n",
              "49998   258   17050.46  C1571710982       32554.77        15504.31   \n",
              "49999    36  116260.40    C53560337       40688.00            0.00   \n",
              "\n",
              "          nameDest  oldbalanceDest  newbalanceDest  isFraud  isFlaggedFraud  \\\n",
              "0       C823541396      4225880.68      4355685.64        0               0   \n",
              "1      M1964962587            0.00            0.00        0               0   \n",
              "2      C1617537788      1276384.02      1109350.62        0               0   \n",
              "3      C1462363253       205541.10       151311.15        0               0   \n",
              "4       C534934221       364102.11       425316.68        0               0   \n",
              "...            ...             ...             ...      ...             ...   \n",
              "49995  M1915420007            0.00            0.00        0               0   \n",
              "49996  C1964108523       117531.60        85236.59        0               0   \n",
              "49997   C174210259      1501333.00      1582443.00        0               0   \n",
              "49998  M1926601839            0.00            0.00        0               0   \n",
              "49999    C60144461          343.00        20519.93        0               0   \n",
              "\n",
              "       CASH_IN  CASH_OUT  DEBIT  PAYMENT  \n",
              "0            0         1      0        0  \n",
              "1            0         0      0        1  \n",
              "2            1         0      0        0  \n",
              "3            1         0      0        0  \n",
              "4            0         1      0        0  \n",
              "...        ...       ...    ...      ...  \n",
              "49995        0         0      0        1  \n",
              "49996        1         0      0        0  \n",
              "49997        0         1      0        0  \n",
              "49998        0         0      0        1  \n",
              "49999        0         1      0        0  \n",
              "\n",
              "[50000 rows x 14 columns]"
            ],
            "text/html": [
              "\n",
              "  <div id=\"df-d175607b-f53d-44b8-a66a-95a345523165\">\n",
              "    <div class=\"colab-df-container\">\n",
              "      <div>\n",
              "<style scoped>\n",
              "    .dataframe tbody tr th:only-of-type {\n",
              "        vertical-align: middle;\n",
              "    }\n",
              "\n",
              "    .dataframe tbody tr th {\n",
              "        vertical-align: top;\n",
              "    }\n",
              "\n",
              "    .dataframe thead th {\n",
              "        text-align: right;\n",
              "    }\n",
              "</style>\n",
              "<table border=\"1\" class=\"dataframe\">\n",
              "  <thead>\n",
              "    <tr style=\"text-align: right;\">\n",
              "      <th></th>\n",
              "      <th>step</th>\n",
              "      <th>amount</th>\n",
              "      <th>nameOrig</th>\n",
              "      <th>oldbalanceOrg</th>\n",
              "      <th>newbalanceOrig</th>\n",
              "      <th>nameDest</th>\n",
              "      <th>oldbalanceDest</th>\n",
              "      <th>newbalanceDest</th>\n",
              "      <th>isFraud</th>\n",
              "      <th>isFlaggedFraud</th>\n",
              "      <th>CASH_IN</th>\n",
              "      <th>CASH_OUT</th>\n",
              "      <th>DEBIT</th>\n",
              "      <th>PAYMENT</th>\n",
              "    </tr>\n",
              "  </thead>\n",
              "  <tbody>\n",
              "    <tr>\n",
              "      <th>0</th>\n",
              "      <td>182</td>\n",
              "      <td>129804.96</td>\n",
              "      <td>C557034178</td>\n",
              "      <td>0.00</td>\n",
              "      <td>0.00</td>\n",
              "      <td>C823541396</td>\n",
              "      <td>4225880.68</td>\n",
              "      <td>4355685.64</td>\n",
              "      <td>0</td>\n",
              "      <td>0</td>\n",
              "      <td>0</td>\n",
              "      <td>1</td>\n",
              "      <td>0</td>\n",
              "      <td>0</td>\n",
              "    </tr>\n",
              "    <tr>\n",
              "      <th>1</th>\n",
              "      <td>347</td>\n",
              "      <td>31443.09</td>\n",
              "      <td>C106157646</td>\n",
              "      <td>523617.58</td>\n",
              "      <td>492174.49</td>\n",
              "      <td>M1964962587</td>\n",
              "      <td>0.00</td>\n",
              "      <td>0.00</td>\n",
              "      <td>0</td>\n",
              "      <td>0</td>\n",
              "      <td>0</td>\n",
              "      <td>0</td>\n",
              "      <td>0</td>\n",
              "      <td>1</td>\n",
              "    </tr>\n",
              "    <tr>\n",
              "      <th>2</th>\n",
              "      <td>37</td>\n",
              "      <td>37045.02</td>\n",
              "      <td>C2119144137</td>\n",
              "      <td>563001.93</td>\n",
              "      <td>600046.95</td>\n",
              "      <td>C1617537788</td>\n",
              "      <td>1276384.02</td>\n",
              "      <td>1109350.62</td>\n",
              "      <td>0</td>\n",
              "      <td>0</td>\n",
              "      <td>1</td>\n",
              "      <td>0</td>\n",
              "      <td>0</td>\n",
              "      <td>0</td>\n",
              "    </tr>\n",
              "    <tr>\n",
              "      <th>3</th>\n",
              "      <td>321</td>\n",
              "      <td>54229.95</td>\n",
              "      <td>C1783369537</td>\n",
              "      <td>0.00</td>\n",
              "      <td>54229.95</td>\n",
              "      <td>C1462363253</td>\n",
              "      <td>205541.10</td>\n",
              "      <td>151311.15</td>\n",
              "      <td>0</td>\n",
              "      <td>0</td>\n",
              "      <td>1</td>\n",
              "      <td>0</td>\n",
              "      <td>0</td>\n",
              "      <td>0</td>\n",
              "    </tr>\n",
              "    <tr>\n",
              "      <th>4</th>\n",
              "      <td>252</td>\n",
              "      <td>61214.57</td>\n",
              "      <td>C680060894</td>\n",
              "      <td>0.00</td>\n",
              "      <td>0.00</td>\n",
              "      <td>C534934221</td>\n",
              "      <td>364102.11</td>\n",
              "      <td>425316.68</td>\n",
              "      <td>0</td>\n",
              "      <td>0</td>\n",
              "      <td>0</td>\n",
              "      <td>1</td>\n",
              "      <td>0</td>\n",
              "      <td>0</td>\n",
              "    </tr>\n",
              "    <tr>\n",
              "      <th>...</th>\n",
              "      <td>...</td>\n",
              "      <td>...</td>\n",
              "      <td>...</td>\n",
              "      <td>...</td>\n",
              "      <td>...</td>\n",
              "      <td>...</td>\n",
              "      <td>...</td>\n",
              "      <td>...</td>\n",
              "      <td>...</td>\n",
              "      <td>...</td>\n",
              "      <td>...</td>\n",
              "      <td>...</td>\n",
              "      <td>...</td>\n",
              "      <td>...</td>\n",
              "    </tr>\n",
              "    <tr>\n",
              "      <th>49995</th>\n",
              "      <td>380</td>\n",
              "      <td>10534.48</td>\n",
              "      <td>C120732296</td>\n",
              "      <td>0.00</td>\n",
              "      <td>0.00</td>\n",
              "      <td>M1915420007</td>\n",
              "      <td>0.00</td>\n",
              "      <td>0.00</td>\n",
              "      <td>0</td>\n",
              "      <td>0</td>\n",
              "      <td>0</td>\n",
              "      <td>0</td>\n",
              "      <td>0</td>\n",
              "      <td>1</td>\n",
              "    </tr>\n",
              "    <tr>\n",
              "      <th>49996</th>\n",
              "      <td>402</td>\n",
              "      <td>32294.97</td>\n",
              "      <td>C1902387221</td>\n",
              "      <td>17712.00</td>\n",
              "      <td>50006.97</td>\n",
              "      <td>C1964108523</td>\n",
              "      <td>117531.60</td>\n",
              "      <td>85236.59</td>\n",
              "      <td>0</td>\n",
              "      <td>0</td>\n",
              "      <td>1</td>\n",
              "      <td>0</td>\n",
              "      <td>0</td>\n",
              "      <td>0</td>\n",
              "    </tr>\n",
              "    <tr>\n",
              "      <th>49997</th>\n",
              "      <td>165</td>\n",
              "      <td>81109.38</td>\n",
              "      <td>C1587276247</td>\n",
              "      <td>23905.07</td>\n",
              "      <td>0.00</td>\n",
              "      <td>C174210259</td>\n",
              "      <td>1501333.00</td>\n",
              "      <td>1582443.00</td>\n",
              "      <td>0</td>\n",
              "      <td>0</td>\n",
              "      <td>0</td>\n",
              "      <td>1</td>\n",
              "      <td>0</td>\n",
              "      <td>0</td>\n",
              "    </tr>\n",
              "    <tr>\n",
              "      <th>49998</th>\n",
              "      <td>258</td>\n",
              "      <td>17050.46</td>\n",
              "      <td>C1571710982</td>\n",
              "      <td>32554.77</td>\n",
              "      <td>15504.31</td>\n",
              "      <td>M1926601839</td>\n",
              "      <td>0.00</td>\n",
              "      <td>0.00</td>\n",
              "      <td>0</td>\n",
              "      <td>0</td>\n",
              "      <td>0</td>\n",
              "      <td>0</td>\n",
              "      <td>0</td>\n",
              "      <td>1</td>\n",
              "    </tr>\n",
              "    <tr>\n",
              "      <th>49999</th>\n",
              "      <td>36</td>\n",
              "      <td>116260.40</td>\n",
              "      <td>C53560337</td>\n",
              "      <td>40688.00</td>\n",
              "      <td>0.00</td>\n",
              "      <td>C60144461</td>\n",
              "      <td>343.00</td>\n",
              "      <td>20519.93</td>\n",
              "      <td>0</td>\n",
              "      <td>0</td>\n",
              "      <td>0</td>\n",
              "      <td>1</td>\n",
              "      <td>0</td>\n",
              "      <td>0</td>\n",
              "    </tr>\n",
              "  </tbody>\n",
              "</table>\n",
              "<p>50000 rows × 14 columns</p>\n",
              "</div>\n",
              "      <button class=\"colab-df-convert\" onclick=\"convertToInteractive('df-d175607b-f53d-44b8-a66a-95a345523165')\"\n",
              "              title=\"Convert this dataframe to an interactive table.\"\n",
              "              style=\"display:none;\">\n",
              "        \n",
              "  <svg xmlns=\"http://www.w3.org/2000/svg\" height=\"24px\"viewBox=\"0 0 24 24\"\n",
              "       width=\"24px\">\n",
              "    <path d=\"M0 0h24v24H0V0z\" fill=\"none\"/>\n",
              "    <path d=\"M18.56 5.44l.94 2.06.94-2.06 2.06-.94-2.06-.94-.94-2.06-.94 2.06-2.06.94zm-11 1L8.5 8.5l.94-2.06 2.06-.94-2.06-.94L8.5 2.5l-.94 2.06-2.06.94zm10 10l.94 2.06.94-2.06 2.06-.94-2.06-.94-.94-2.06-.94 2.06-2.06.94z\"/><path d=\"M17.41 7.96l-1.37-1.37c-.4-.4-.92-.59-1.43-.59-.52 0-1.04.2-1.43.59L10.3 9.45l-7.72 7.72c-.78.78-.78 2.05 0 2.83L4 21.41c.39.39.9.59 1.41.59.51 0 1.02-.2 1.41-.59l7.78-7.78 2.81-2.81c.8-.78.8-2.07 0-2.86zM5.41 20L4 18.59l7.72-7.72 1.47 1.35L5.41 20z\"/>\n",
              "  </svg>\n",
              "      </button>\n",
              "      \n",
              "  <style>\n",
              "    .colab-df-container {\n",
              "      display:flex;\n",
              "      flex-wrap:wrap;\n",
              "      gap: 12px;\n",
              "    }\n",
              "\n",
              "    .colab-df-convert {\n",
              "      background-color: #E8F0FE;\n",
              "      border: none;\n",
              "      border-radius: 50%;\n",
              "      cursor: pointer;\n",
              "      display: none;\n",
              "      fill: #1967D2;\n",
              "      height: 32px;\n",
              "      padding: 0 0 0 0;\n",
              "      width: 32px;\n",
              "    }\n",
              "\n",
              "    .colab-df-convert:hover {\n",
              "      background-color: #E2EBFA;\n",
              "      box-shadow: 0px 1px 2px rgba(60, 64, 67, 0.3), 0px 1px 3px 1px rgba(60, 64, 67, 0.15);\n",
              "      fill: #174EA6;\n",
              "    }\n",
              "\n",
              "    [theme=dark] .colab-df-convert {\n",
              "      background-color: #3B4455;\n",
              "      fill: #D2E3FC;\n",
              "    }\n",
              "\n",
              "    [theme=dark] .colab-df-convert:hover {\n",
              "      background-color: #434B5C;\n",
              "      box-shadow: 0px 1px 3px 1px rgba(0, 0, 0, 0.15);\n",
              "      filter: drop-shadow(0px 1px 2px rgba(0, 0, 0, 0.3));\n",
              "      fill: #FFFFFF;\n",
              "    }\n",
              "  </style>\n",
              "\n",
              "      <script>\n",
              "        const buttonEl =\n",
              "          document.querySelector('#df-d175607b-f53d-44b8-a66a-95a345523165 button.colab-df-convert');\n",
              "        buttonEl.style.display =\n",
              "          google.colab.kernel.accessAllowed ? 'block' : 'none';\n",
              "\n",
              "        async function convertToInteractive(key) {\n",
              "          const element = document.querySelector('#df-d175607b-f53d-44b8-a66a-95a345523165');\n",
              "          const dataTable =\n",
              "            await google.colab.kernel.invokeFunction('convertToInteractive',\n",
              "                                                     [key], {});\n",
              "          if (!dataTable) return;\n",
              "\n",
              "          const docLinkHtml = 'Like what you see? Visit the ' +\n",
              "            '<a target=\"_blank\" href=https://colab.research.google.com/notebooks/data_table.ipynb>data table notebook</a>'\n",
              "            + ' to learn more about interactive tables.';\n",
              "          element.innerHTML = '';\n",
              "          dataTable['output_type'] = 'display_data';\n",
              "          await google.colab.output.renderOutput(dataTable, element);\n",
              "          const docLink = document.createElement('div');\n",
              "          docLink.innerHTML = docLinkHtml;\n",
              "          element.appendChild(docLink);\n",
              "        }\n",
              "      </script>\n",
              "    </div>\n",
              "  </div>\n",
              "  "
            ]
          },
          "metadata": {},
          "execution_count": 3
        }
      ]
    },
    {
      "cell_type": "code",
      "source": [
        "# Convert class variables type to object\n",
        "df['isFraud'] = df['isFraud'].astype('object')\n",
        "df['isFlaggedFraud'] = df['isFlaggedFraud'].astype('object')\n",
        "df.info()"
      ],
      "metadata": {
        "colab": {
          "base_uri": "https://localhost:8080/"
        },
        "id": "UftSfrsJngab",
        "outputId": "08463aeb-b5b7-4714-ac0a-9630691a554b"
      },
      "execution_count": 4,
      "outputs": [
        {
          "output_type": "stream",
          "name": "stdout",
          "text": [
            "<class 'pandas.core.frame.DataFrame'>\n",
            "RangeIndex: 50000 entries, 0 to 49999\n",
            "Data columns (total 11 columns):\n",
            " #   Column          Non-Null Count  Dtype  \n",
            "---  ------          --------------  -----  \n",
            " 0   step            50000 non-null  int64  \n",
            " 1   type            50000 non-null  object \n",
            " 2   amount          50000 non-null  float64\n",
            " 3   nameOrig        50000 non-null  object \n",
            " 4   oldbalanceOrg   50000 non-null  float64\n",
            " 5   newbalanceOrig  50000 non-null  float64\n",
            " 6   nameDest        50000 non-null  object \n",
            " 7   oldbalanceDest  50000 non-null  float64\n",
            " 8   newbalanceDest  50000 non-null  float64\n",
            " 9   isFraud         50000 non-null  object \n",
            " 10  isFlaggedFraud  50000 non-null  object \n",
            "dtypes: float64(5), int64(1), object(5)\n",
            "memory usage: 4.2+ MB\n"
          ]
        }
      ]
    },
    {
      "cell_type": "code",
      "source": [
        "ax = sns.boxplot(x=\"isFraud\", y=\"step\", data=df)"
      ],
      "metadata": {
        "colab": {
          "base_uri": "https://localhost:8080/",
          "height": 279
        },
        "id": "l_GSFpCD73Zy",
        "outputId": "65012c3c-5a63-4120-fc86-f8f4320a79ac"
      },
      "execution_count": null,
      "outputs": [
        {
          "output_type": "display_data",
          "data": {
            "text/plain": [
              "<Figure size 432x288 with 1 Axes>"
            ],
            "image/png": "[encoded data removed]"
          },
          "metadata": {
            "needs_background": "light"
          }
        }
      ]
    },
    {
      "cell_type": "code",
      "source": [
        "#Boxplot grouped by categorical variables\n",
        "ax = sns.boxplot(x=\"isFraud\", y=\"type\", data=df)"
      ],
      "metadata": {
        "colab": {
          "base_uri": "https://localhost:8080/",
          "height": 279
        },
        "id": "TOJ6VgPZzyuG",
        "outputId": "de11f4e2-71fa-4cde-877f-582bce2e2c5e"
      },
      "execution_count": null,
      "outputs": [
        {
          "output_type": "display_data",
          "data": {
            "text/plain": [
              "<Figure size 432x288 with 1 Axes>"
            ],
            "image/png": "[encoded data removed]"
          },
          "metadata": {
            "needs_background": "light"
          }
        }
      ]
    },
    {
      "cell_type": "code",
      "source": [
        "ax = sns.boxplot(x=\"isFraud\", y=\"amount\", data=df)"
      ],
      "metadata": {
        "colab": {
          "base_uri": "https://localhost:8080/",
          "height": 290
        },
        "id": "VmSIBzH48Qlt",
        "outputId": "1ed27af4-2507-45db-b347-02a65ce46530"
      },
      "execution_count": null,
      "outputs": [
        {
          "output_type": "display_data",
          "data": {
            "text/plain": [
              "<Figure size 432x288 with 1 Axes>"
            ],
            "image/png": "[encoded data removed]"
          },
          "metadata": {
            "needs_background": "light"
          }
        }
      ]
    },
    {
      "cell_type": "code",
      "source": [
        "ax = sns.boxplot(x=\"isFraud\", y=\"newbalanceOrig\", data=df)"
      ],
      "metadata": {
        "colab": {
          "base_uri": "https://localhost:8080/",
          "height": 290
        },
        "id": "nA0rEKqB9KKV",
        "outputId": "092c919d-5226-4167-81ae-a515402ef15d"
      },
      "execution_count": null,
      "outputs": [
        {
          "output_type": "display_data",
          "data": {
            "text/plain": [
              "<Figure size 432x288 with 1 Axes>"
            ],
            "image/png": "[encoded data removed]"
          },
          "metadata": {
            "needs_background": "light"
          }
        }
      ]
    },
    {
      "cell_type": "code",
      "source": [
        "ax = sns.boxplot(x=\"isFraud\", y=\"newbalanceDest\", data=df)"
      ],
      "metadata": {
        "colab": {
          "base_uri": "https://localhost:8080/",
          "height": 290
        },
        "id": "-TpAzfig9jqP",
        "outputId": "352dcc2e-d323-4878-f506-ffbfaec9173f"
      },
      "execution_count": null,
      "outputs": [
        {
          "output_type": "display_data",
          "data": {
            "text/plain": [
              "<Figure size 432x288 with 1 Axes>"
            ],
            "image/png": "[encoded data removed]"
          },
          "metadata": {
            "needs_background": "light"
          }
        }
      ]
    },
    {
      "cell_type": "code",
      "source": [
        "ax = sns.boxplot(x=\"isFraud\", y=\"oldbalanceOrg\", data=df)"
      ],
      "metadata": {
        "colab": {
          "base_uri": "https://localhost:8080/",
          "height": 290
        },
        "id": "NIRjuOAK9Eoy",
        "outputId": "a883877e-9440-4dd8-9c9b-babb04c1be50"
      },
      "execution_count": null,
      "outputs": [
        {
          "output_type": "display_data",
          "data": {
            "text/plain": [
              "<Figure size 432x288 with 1 Axes>"
            ],
            "image/png": "[encoded data removed]"
          },
          "metadata": {
            "needs_background": "light"
          }
        }
      ]
    },
    {
      "cell_type": "code",
      "source": [
        "ax = sns.boxplot(x=\"isFraud\", y=\"oldbalanceDest\", data=df)"
      ],
      "metadata": {
        "colab": {
          "base_uri": "https://localhost:8080/",
          "height": 290
        },
        "id": "d3lGtjLp8YPN",
        "outputId": "1479ccd2-2766-4ed2-f703-ee7263ad9e29"
      },
      "execution_count": null,
      "outputs": [
        {
          "output_type": "display_data",
          "data": {
            "text/plain": [
              "<Figure size 432x288 with 1 Axes>"
            ],
            "image/png": "[encoded data removed]"
          },
          "metadata": {
            "needs_background": "light"
          }
        }
      ]
    },
    {
      "cell_type": "code",
      "source": [
        "print(\"1. What are the types for fraud transactions? \\n\\n Answer: {}\".\\\n",
        "      format(df.type.drop_duplicates().values))"
      ],
      "metadata": {
        "colab": {
          "base_uri": "https://localhost:8080/"
        },
        "id": "CpJn2POWGl0N",
        "outputId": "345cc23d-20ff-4669-d90a-92fd26f037df"
      },
      "execution_count": null,
      "outputs": [
        {
          "output_type": "stream",
          "name": "stdout",
          "text": [
            "1. What are the types for fraud transactions? \n",
            "\n",
            " Answer: ['CASH_OUT' 'PAYMENT' 'CASH_IN' 'TRANSFER' 'DEBIT']\n"
          ]
        }
      ]
    },
    {
      "cell_type": "code",
      "source": [
        "#Create the Data Frame\n",
        "ColumnNames=['CASH-OUT','AGE','GENDER' ,'SALARY', 'APPROVE_LOAN']\n",
        "dfNEW=pd.DataFrame(data=df.isFraud,columns=df.type)\n",
        "print(dfNEW.head())\n",
        "#CrosstabResult = pd.crosstab(index=dfNEW['type'],columns=dfNEW['isFraud'])\n"
      ],
      "metadata": {
        "colab": {
          "base_uri": "https://localhost:8080/"
        },
        "id": "h1xS7dfeGKu_",
        "outputId": "2d7fd0bc-4dc2-48f6-e72e-27e2fbaf8f67"
      },
      "execution_count": null,
      "outputs": [
        {
          "output_type": "stream",
          "name": "stdout",
          "text": [
            "Empty DataFrame\n",
            "Columns: [0, 0, 0, 0, 0, 0, 0, 0, 0, 0, 0, 0, 0, 0, 0, 0, 0, 0, 0, 0, 0, 0, 0, 0, 0, 0, 0, 0, 0, 0, 0, 0, 0, 0, 0, 0, 0, 0, 0, 0, 0, 0, 0, 0, 0, 0, 0, 0, 0, 0, 0, 0, 0, 0, 0, 0, 0, 0, 0, 0, 0, 0, 0, 0, 0, 0, 0, 0, 0, 0, 0, 0, 0, 0, 0, 0, 0, 0, 0, 0, 0, 0, 0, 0, 0, 0, 0, 0, 0, 0, 0, 0, 0, 0, 0, 0, 0, 0, 0, 0, ...]\n",
            "Index: []\n",
            "\n",
            "[0 rows x 50000 columns]\n"
          ]
        }
      ]
    },
    {
      "cell_type": "code",
      "source": [
        "# Visualize distributions\n",
        "df.hist(bins=30, figsize=(20,30), layout=(8,3));"
      ],
      "metadata": {
        "colab": {
          "base_uri": "https://localhost:8080/",
          "height": 477
        },
        "id": "TR4V6wn8rzHy",
        "outputId": "236ace73-295d-423f-a3ab-18be9e1a8faa"
      },
      "execution_count": null,
      "outputs": [
        {
          "output_type": "display_data",
          "data": {
            "text/plain": [
              "<Figure size 1440x2160 with 24 Axes>"
            ],
            "image/png": "[encoded data removed]"
          },
          "metadata": {
            "needs_background": "light"
          }
        }
      ]
    },
    {
      "cell_type": "code",
      "source": [
        "#Data Normalization using the min-max method \n",
        "normalized_df = df.drop(['type','nameOrig','nameDest'], axis=1).copy()\n",
        "for column in normalized_df.columns:\n",
        "    normalized_df[column] = (normalized_df[column] - normalized_df[column].min())/(normalized_df[column].max() - normalized_df[column].min())"
      ],
      "metadata": {
        "id": "K8fZZU6uyQoo"
      },
      "execution_count": null,
      "outputs": []
    },
    {
      "cell_type": "code",
      "source": [
        "#Transformation of Independent Variables with visually non-normal distributions \n",
        "normalized_df[['step', \n",
        "         'amount',\n",
        "         'oldbalanceOrg',\n",
        "         'newbalanceOrig',\n",
        "         'oldbalanceDest',\n",
        "         'newbalanceDest',\n",
        "         'isFraud',\n",
        "         'isFlaggedFraud']] = normalized_df[['step', \n",
        "         'amount',\n",
        "         'oldbalanceOrg',\n",
        "         'newbalanceOrig',\n",
        "         'oldbalanceDest',\n",
        "         'newbalanceDest',\n",
        "         'isFraud',\n",
        "         'isFlaggedFraud']].applymap(lambda x: np.log(1+x))"
      ],
      "metadata": {
        "id": "2jCiaeAqxaoC"
      },
      "execution_count": null,
      "outputs": []
    },
    {
      "cell_type": "code",
      "source": [
        "normalized_df.describe()"
      ],
      "metadata": {
        "colab": {
          "base_uri": "https://localhost:8080/",
          "height": 364
        },
        "id": "-FdQeq-e1dWV",
        "outputId": "3a3dc8ea-ca51-416b-d25a-91cb1cc34584"
      },
      "execution_count": null,
      "outputs": [
        {
          "output_type": "execute_result",
          "data": {
            "text/plain": [
              "               step        amount  oldbalanceOrg  newbalanceOrig  \\\n",
              "count  50000.000000  50000.000000   50000.000000    50000.000000   \n",
              "mean       0.272351      0.004304       0.017657        0.018136   \n",
              "std        0.144373      0.013601       0.057441        0.058289   \n",
              "min        0.000000      0.000000       0.000000        0.000000   \n",
              "25%        0.188823      0.000323       0.000000        0.000000   \n",
              "50%        0.277509      0.001809       0.000329        0.000000   \n",
              "75%        0.371145      0.004933       0.002499        0.003432   \n",
              "max        0.693147      0.693147       0.693147        0.693147   \n",
              "\n",
              "       oldbalanceDest  newbalanceDest       isFraud  isFlaggedFraud  \n",
              "count    50000.000000    50000.000000  50000.000000             0.0  \n",
              "mean         0.006952        0.007726      0.000943             NaN  \n",
              "std          0.018746        0.020274      0.025545             NaN  \n",
              "min          0.000000        0.000000      0.000000             NaN  \n",
              "25%          0.000000        0.000000      0.000000             NaN  \n",
              "50%          0.000929        0.001432      0.000000             NaN  \n",
              "75%          0.006163        0.007195      0.000000             NaN  \n",
              "max          0.693147        0.693147      0.693147             NaN  "
            ],
            "text/html": [
              "\n",
              "  <div id=\"df-c951daf1-48bb-44dd-b402-aa065e1ebbff\">\n",
              "    <div class=\"colab-df-container\">\n",
              "      <div>\n",
              "<style scoped>\n",
              "    .dataframe tbody tr th:only-of-type {\n",
              "        vertical-align: middle;\n",
              "    }\n",
              "\n",
              "    .dataframe tbody tr th {\n",
              "        vertical-align: top;\n",
              "    }\n",
              "\n",
              "    .dataframe thead th {\n",
              "        text-align: right;\n",
              "    }\n",
              "</style>\n",
              "<table border=\"1\" class=\"dataframe\">\n",
              "  <thead>\n",
              "    <tr style=\"text-align: right;\">\n",
              "      <th></th>\n",
              "      <th>step</th>\n",
              "      <th>amount</th>\n",
              "      <th>oldbalanceOrg</th>\n",
              "      <th>newbalanceOrig</th>\n",
              "      <th>oldbalanceDest</th>\n",
              "      <th>newbalanceDest</th>\n",
              "      <th>isFraud</th>\n",
              "      <th>isFlaggedFraud</th>\n",
              "    </tr>\n",
              "  </thead>\n",
              "  <tbody>\n",
              "    <tr>\n",
              "      <th>count</th>\n",
              "      <td>50000.000000</td>\n",
              "      <td>50000.000000</td>\n",
              "      <td>50000.000000</td>\n",
              "      <td>50000.000000</td>\n",
              "      <td>50000.000000</td>\n",
              "      <td>50000.000000</td>\n",
              "      <td>50000.000000</td>\n",
              "      <td>0.0</td>\n",
              "    </tr>\n",
              "    <tr>\n",
              "      <th>mean</th>\n",
              "      <td>0.272351</td>\n",
              "      <td>0.004304</td>\n",
              "      <td>0.017657</td>\n",
              "      <td>0.018136</td>\n",
              "      <td>0.006952</td>\n",
              "      <td>0.007726</td>\n",
              "      <td>0.000943</td>\n",
              "      <td>NaN</td>\n",
              "    </tr>\n",
              "    <tr>\n",
              "      <th>std</th>\n",
              "      <td>0.144373</td>\n",
              "      <td>0.013601</td>\n",
              "      <td>0.057441</td>\n",
              "      <td>0.058289</td>\n",
              "      <td>0.018746</td>\n",
              "      <td>0.020274</td>\n",
              "      <td>0.025545</td>\n",
              "      <td>NaN</td>\n",
              "    </tr>\n",
              "    <tr>\n",
              "      <th>min</th>\n",
              "      <td>0.000000</td>\n",
              "      <td>0.000000</td>\n",
              "      <td>0.000000</td>\n",
              "      <td>0.000000</td>\n",
              "      <td>0.000000</td>\n",
              "      <td>0.000000</td>\n",
              "      <td>0.000000</td>\n",
              "      <td>NaN</td>\n",
              "    </tr>\n",
              "    <tr>\n",
              "      <th>25%</th>\n",
              "      <td>0.188823</td>\n",
              "      <td>0.000323</td>\n",
              "      <td>0.000000</td>\n",
              "      <td>0.000000</td>\n",
              "      <td>0.000000</td>\n",
              "      <td>0.000000</td>\n",
              "      <td>0.000000</td>\n",
              "      <td>NaN</td>\n",
              "    </tr>\n",
              "    <tr>\n",
              "      <th>50%</th>\n",
              "      <td>0.277509</td>\n",
              "      <td>0.001809</td>\n",
              "      <td>0.000329</td>\n",
              "      <td>0.000000</td>\n",
              "      <td>0.000929</td>\n",
              "      <td>0.001432</td>\n",
              "      <td>0.000000</td>\n",
              "      <td>NaN</td>\n",
              "    </tr>\n",
              "    <tr>\n",
              "      <th>75%</th>\n",
              "      <td>0.371145</td>\n",
              "      <td>0.004933</td>\n",
              "      <td>0.002499</td>\n",
              "      <td>0.003432</td>\n",
              "      <td>0.006163</td>\n",
              "      <td>0.007195</td>\n",
              "      <td>0.000000</td>\n",
              "      <td>NaN</td>\n",
              "    </tr>\n",
              "    <tr>\n",
              "      <th>max</th>\n",
              "      <td>0.693147</td>\n",
              "      <td>0.693147</td>\n",
              "      <td>0.693147</td>\n",
              "      <td>0.693147</td>\n",
              "      <td>0.693147</td>\n",
              "      <td>0.693147</td>\n",
              "      <td>0.693147</td>\n",
              "      <td>NaN</td>\n",
              "    </tr>\n",
              "  </tbody>\n",
              "</table>\n",
              "</div>\n",
              "      <button class=\"colab-df-convert\" onclick=\"convertToInteractive('df-c951daf1-48bb-44dd-b402-aa065e1ebbff')\"\n",
              "              title=\"Convert this dataframe to an interactive table.\"\n",
              "              style=\"display:none;\">\n",
              "        \n",
              "  <svg xmlns=\"http://www.w3.org/2000/svg\" height=\"24px\"viewBox=\"0 0 24 24\"\n",
              "       width=\"24px\">\n",
              "    <path d=\"M0 0h24v24H0V0z\" fill=\"none\"/>\n",
              "    <path d=\"M18.56 5.44l.94 2.06.94-2.06 2.06-.94-2.06-.94-.94-2.06-.94 2.06-2.06.94zm-11 1L8.5 8.5l.94-2.06 2.06-.94-2.06-.94L8.5 2.5l-.94 2.06-2.06.94zm10 10l.94 2.06.94-2.06 2.06-.94-2.06-.94-.94-2.06-.94 2.06-2.06.94z\"/><path d=\"M17.41 7.96l-1.37-1.37c-.4-.4-.92-.59-1.43-.59-.52 0-1.04.2-1.43.59L10.3 9.45l-7.72 7.72c-.78.78-.78 2.05 0 2.83L4 21.41c.39.39.9.59 1.41.59.51 0 1.02-.2 1.41-.59l7.78-7.78 2.81-2.81c.8-.78.8-2.07 0-2.86zM5.41 20L4 18.59l7.72-7.72 1.47 1.35L5.41 20z\"/>\n",
              "  </svg>\n",
              "      </button>\n",
              "      \n",
              "  <style>\n",
              "    .colab-df-container {\n",
              "      display:flex;\n",
              "      flex-wrap:wrap;\n",
              "      gap: 12px;\n",
              "    }\n",
              "\n",
              "    .colab-df-convert {\n",
              "      background-color: #E8F0FE;\n",
              "      border: none;\n",
              "      border-radius: 50%;\n",
              "      cursor: pointer;\n",
              "      display: none;\n",
              "      fill: #1967D2;\n",
              "      height: 32px;\n",
              "      padding: 0 0 0 0;\n",
              "      width: 32px;\n",
              "    }\n",
              "\n",
              "    .colab-df-convert:hover {\n",
              "      background-color: #E2EBFA;\n",
              "      box-shadow: 0px 1px 2px rgba(60, 64, 67, 0.3), 0px 1px 3px 1px rgba(60, 64, 67, 0.15);\n",
              "      fill: #174EA6;\n",
              "    }\n",
              "\n",
              "    [theme=dark] .colab-df-convert {\n",
              "      background-color: #3B4455;\n",
              "      fill: #D2E3FC;\n",
              "    }\n",
              "\n",
              "    [theme=dark] .colab-df-convert:hover {\n",
              "      background-color: #434B5C;\n",
              "      box-shadow: 0px 1px 3px 1px rgba(0, 0, 0, 0.15);\n",
              "      filter: drop-shadow(0px 1px 2px rgba(0, 0, 0, 0.3));\n",
              "      fill: #FFFFFF;\n",
              "    }\n",
              "  </style>\n",
              "\n",
              "      <script>\n",
              "        const buttonEl =\n",
              "          document.querySelector('#df-c951daf1-48bb-44dd-b402-aa065e1ebbff button.colab-df-convert');\n",
              "        buttonEl.style.display =\n",
              "          google.colab.kernel.accessAllowed ? 'block' : 'none';\n",
              "\n",
              "        async function convertToInteractive(key) {\n",
              "          const element = document.querySelector('#df-c951daf1-48bb-44dd-b402-aa065e1ebbff');\n",
              "          const dataTable =\n",
              "            await google.colab.kernel.invokeFunction('convertToInteractive',\n",
              "                                                     [key], {});\n",
              "          if (!dataTable) return;\n",
              "\n",
              "          const docLinkHtml = 'Like what you see? Visit the ' +\n",
              "            '<a target=\"_blank\" href=https://colab.research.google.com/notebooks/data_table.ipynb>data table notebook</a>'\n",
              "            + ' to learn more about interactive tables.';\n",
              "          element.innerHTML = '';\n",
              "          dataTable['output_type'] = 'display_data';\n",
              "          await google.colab.output.renderOutput(dataTable, element);\n",
              "          const docLink = document.createElement('div');\n",
              "          docLink.innerHTML = docLinkHtml;\n",
              "          element.appendChild(docLink);\n",
              "        }\n",
              "      </script>\n",
              "    </div>\n",
              "  </div>\n",
              "  "
            ]
          },
          "metadata": {},
          "execution_count": 33
        }
      ]
    },
    {
      "cell_type": "code",
      "source": [
        "# Visualize distributions\n",
        "normalized_df.hist(bins=30, figsize=(20,30), layout=(8,3));"
      ],
      "metadata": {
        "colab": {
          "base_uri": "https://localhost:8080/",
          "height": 477
        },
        "id": "S4NXfalF195g",
        "outputId": "a7a8b357-458f-4a3b-b718-3d247522802f"
      },
      "execution_count": null,
      "outputs": [
        {
          "output_type": "display_data",
          "data": {
            "text/plain": [
              "<Figure size 1440x2160 with 24 Axes>"
            ],
            "image/png": "[encoded data removed]"
          },
          "metadata": {
            "needs_background": "light"
          }
        }
      ]
    },
    {
      "cell_type": "code",
      "source": [
        "#Summary of Statistics of Categorical Variables\n",
        "from pandas import DataFrame\n",
        "df1 = DataFrame(df, columns= ['type','nameOrig','nameDest','isFraud','isFlaggedFraud'])\n",
        "stats = df1.describe(include='all')\n",
        "print (stats)"
      ],
      "metadata": {
        "colab": {
          "base_uri": "https://localhost:8080/"
        },
        "id": "sXVPJAO0qsXQ",
        "outputId": "12dfd685-312d-4312-c87e-270807ec5dd3"
      },
      "execution_count": null,
      "outputs": [
        {
          "output_type": "stream",
          "name": "stdout",
          "text": [
            "            type    nameOrig   nameDest  isFraud  isFlaggedFraud\n",
            "count      50000       50000      50000    50000           50000\n",
            "unique         5       50000      48047        2               1\n",
            "top     CASH_OUT  C557034178  C31789747        0               0\n",
            "freq       17723           1          4    49932           50000\n"
          ]
        }
      ]
    },
    {
      "cell_type": "code",
      "source": [
        "#Missing Values Check\n",
        "print('Maximum number of missing vlaues in any column: ' + str(df.isnull().sum().max()))"
      ],
      "metadata": {
        "colab": {
          "base_uri": "https://localhost:8080/"
        },
        "id": "afF0ARuCsF95",
        "outputId": "37900db8-1fcb-43f6-c156-996cfc8d14b2"
      },
      "execution_count": null,
      "outputs": [
        {
          "output_type": "stream",
          "name": "stdout",
          "text": [
            "Maximum number of missing vlaues in any column: 0\n"
          ]
        }
      ]
    },
    {
      "cell_type": "code",
      "source": [
        "#Only evaluate number of unique categories, the most frequent category and its frequency\n",
        "df['isFraud'].describe(include='all')"
      ],
      "metadata": {
        "colab": {
          "base_uri": "https://localhost:8080/"
        },
        "id": "Qt_-6Zmdq2hu",
        "outputId": "5f7b27a6-e8b4-46c3-801c-9c06725bcb5b"
      },
      "execution_count": null,
      "outputs": [
        {
          "output_type": "execute_result",
          "data": {
            "text/plain": [
              "count     50000\n",
              "unique        2\n",
              "top           0\n",
              "freq      49932\n",
              "Name: isFraud, dtype: int64"
            ]
          },
          "metadata": {},
          "execution_count": 72
        }
      ]
    },
    {
      "cell_type": "code",
      "source": [
        "#Class Imbalance - Percentage Frequency\n",
        "dFraud = pd.DataFrame(df, columns= ['isFraud'])\n",
        "# Percentage calculation\n",
        "(dFraud['isFraud'].value_counts()/dFraud['isFraud'].count())*100"
      ],
      "metadata": {
        "colab": {
          "base_uri": "https://localhost:8080/"
        },
        "id": "qD-axFi_uR9Y",
        "outputId": "8c7cf9f7-924d-44b1-d39f-c8adf9d84464"
      },
      "execution_count": null,
      "outputs": [
        {
          "output_type": "execute_result",
          "data": {
            "text/plain": [
              "0    99.864\n",
              "1     0.136\n",
              "Name: isFraud, dtype: float64"
            ]
          },
          "metadata": {},
          "execution_count": 44
        }
      ]
    },
    {
      "cell_type": "code",
      "source": [
        "# Histogram for Imbalance Data Visualization\n",
        "import matplotlib.pyplot as plt\n",
        "  \n",
        "# x-coordinates of left sides of bars \n",
        "left = [1, 2]\n",
        "  \n",
        "# heights of bars\n",
        "height = [99.864, 0.136]\n",
        "  \n",
        "# labels for bars\n",
        "tick_label = ['Non-Fraud', 'Fraud']\n",
        "  \n",
        "# plotting a bar chart\n",
        "plt.bar(left, height, tick_label = tick_label,\n",
        "        width = 0.8, color = ['red', 'green'])\n",
        "  \n",
        "# naming the x-axis\n",
        "plt.xlabel('Fraud Alerts')\n",
        "# naming the y-axis\n",
        "plt.ylabel('Percentage Transactions')\n",
        "# plot title\n",
        "plt.title('Class Imbalance Dataset')\n",
        "  \n",
        "# function to show the plot\n",
        "plt.show()"
      ],
      "metadata": {
        "colab": {
          "base_uri": "https://localhost:8080/",
          "height": 295
        },
        "id": "-I4STgxjx_re",
        "outputId": "c62a4a73-8bfe-41fa-9c12-7d2a0f4ba373"
      },
      "execution_count": null,
      "outputs": [
        {
          "output_type": "display_data",
          "data": {
            "text/plain": [
              "<Figure size 432x288 with 1 Axes>"
            ],
            "image/png": "[encoded data removed]"
          },
          "metadata": {
            "needs_background": "light"
          }
        }
      ]
    },
    {
      "cell_type": "code",
      "source": [
        "# Type of Transactions\n",
        "df['type'].describe(include='all')\n",
        "# Percentage Frequency-Type\n",
        "dType = pd.DataFrame(df, columns= ['type'])\n",
        "# Percentage calculation\n",
        "#(dType['type'].value_counts()/dType['type'].count())*100\n",
        "# Type - Count of Volume\n",
        "(dType['type'].value_counts())"
      ],
      "metadata": {
        "colab": {
          "base_uri": "https://localhost:8080/"
        },
        "id": "hjf3NjrdzOh4",
        "outputId": "b2308696-0373-46b6-87cf-3e071eb51131"
      },
      "execution_count": null,
      "outputs": [
        {
          "output_type": "execute_result",
          "data": {
            "text/plain": [
              "CASH_OUT    17723\n",
              "PAYMENT     16665\n",
              "CASH_IN     11129\n",
              "TRANSFER     4156\n",
              "DEBIT         327\n",
              "Name: type, dtype: int64"
            ]
          },
          "metadata": {},
          "execution_count": 73
        }
      ]
    },
    {
      "cell_type": "code",
      "source": [
        "# Histogram for Type\n",
        "# x-coordinates of left sides of bars \n",
        "left = [1, 2, 3, 4, 5]\n",
        "  \n",
        "# heights of bars\n",
        "height = [17723, 16665, 11129, 4156, 327]\n",
        "  \n",
        "# labels for bars\n",
        "tick_label = ['CASH_OUT', 'PAYMENT', 'CASH_IN', 'TRANSFER', 'DEBIT']\n",
        "  \n",
        "# plotting a bar chart\n",
        "plt.bar(left, height, tick_label = tick_label,\n",
        "        width = 0.8, color = ['purple','orange'])\n",
        "  \n",
        "# naming the x-axis\n",
        "plt.xlabel('Type')\n",
        "# naming the y-axis\n",
        "plt.ylabel('Transaction Volume')\n",
        "# plot title\n",
        "plt.title('Frequency of Transaction Type')\n",
        "  \n",
        "# function to show the plot\n",
        "plt.show()"
      ],
      "metadata": {
        "colab": {
          "base_uri": "https://localhost:8080/",
          "height": 296
        },
        "id": "czylIpACz38j",
        "outputId": "b65065f8-8752-4c14-b4af-a34a35e8bc5b"
      },
      "execution_count": null,
      "outputs": [
        {
          "output_type": "display_data",
          "data": {
            "text/plain": [
              "<Figure size 432x288 with 1 Axes>"
            ],
            "image/png": "[encoded data removed]"
          },
          "metadata": {
            "needs_background": "light"
          }
        }
      ]
    },
    {
      "cell_type": "code",
      "source": [
        "# Correlation Matrix\n",
        "import pandas as pd\n",
        "#df2 = pd.DataFrame(df, columns= ['type','isFraud'])\n",
        "#corrMatrix = df2.corr()\n",
        "#print (corrMatrix)\n",
        "\n",
        "data = {'type','isFraud'\n",
        "        }\n",
        "\n",
        "df = pd.DataFrame(data,columns=['A','B','C'])\n",
        "\n",
        "corrMatrix = df.corr()\n",
        "print (corrMatrix)"
      ],
      "metadata": {
        "colab": {
          "base_uri": "https://localhost:8080/"
        },
        "id": "Lh40mhWo3UkZ",
        "outputId": "efa3e81b-bffa-42a5-e92f-17d0e20b2953"
      },
      "execution_count": null,
      "outputs": [
        {
          "output_type": "stream",
          "name": "stdout",
          "text": [
            "          A         B         C\n",
            "A  1.000000  0.518457 -0.701886\n",
            "B  0.518457  1.000000 -0.860941\n",
            "C -0.701886 -0.860941  1.000000\n"
          ]
        }
      ]
    },
    {
      "cell_type": "code",
      "source": [
        "nRowsRead = 1000 # specify 'None' if want to read whole file\n",
        "# PS_20174392719_1491204439457_log.csv may have more rows in reality, but we are only loading/previewing the first 1000 rows\n",
        "cf = pd.read_csv('ExportedSubsetData.csv', delimiter=',', nrows = nRowsRead)\n",
        "cf.head(5)"
      ],
      "metadata": {
        "colab": {
          "base_uri": "https://localhost:8080/",
          "height": 270
        },
        "id": "liJX5_Mv8HeK",
        "outputId": "e616796a-f94e-4783-9de8-e3449d9252c6"
      },
      "execution_count": null,
      "outputs": [
        {
          "output_type": "execute_result",
          "data": {
            "text/plain": [
              "   step      type     amount     nameOrig  oldbalanceOrg  newbalanceOrig  \\\n",
              "0   182  CASH_OUT  129804.96   C557034178           0.00            0.00   \n",
              "1   347   PAYMENT   31443.09   C106157646      523617.58       492174.49   \n",
              "2    37   CASH_IN   37045.02  C2119144137      563001.93       600046.95   \n",
              "3   321   CASH_IN   54229.95  C1783369537           0.00        54229.95   \n",
              "4   252  CASH_OUT   61214.57   C680060894           0.00            0.00   \n",
              "\n",
              "      nameDest  oldbalanceDest  newbalanceDest  isFraud  isFlaggedFraud  \n",
              "0   C823541396      4225880.68      4355685.64        0               0  \n",
              "1  M1964962587            0.00            0.00        0               0  \n",
              "2  C1617537788      1276384.02      1109350.62        0               0  \n",
              "3  C1462363253       205541.10       151311.15        0               0  \n",
              "4   C534934221       364102.11       425316.68        0               0  "
            ],
            "text/html": [
              "\n",
              "  <div id=\"df-c6de89cc-9c09-4d91-98b3-5124e96750b7\">\n",
              "    <div class=\"colab-df-container\">\n",
              "      <div>\n",
              "<style scoped>\n",
              "    .dataframe tbody tr th:only-of-type {\n",
              "        vertical-align: middle;\n",
              "    }\n",
              "\n",
              "    .dataframe tbody tr th {\n",
              "        vertical-align: top;\n",
              "    }\n",
              "\n",
              "    .dataframe thead th {\n",
              "        text-align: right;\n",
              "    }\n",
              "</style>\n",
              "<table border=\"1\" class=\"dataframe\">\n",
              "  <thead>\n",
              "    <tr style=\"text-align: right;\">\n",
              "      <th></th>\n",
              "      <th>step</th>\n",
              "      <th>type</th>\n",
              "      <th>amount</th>\n",
              "      <th>nameOrig</th>\n",
              "      <th>oldbalanceOrg</th>\n",
              "      <th>newbalanceOrig</th>\n",
              "      <th>nameDest</th>\n",
              "      <th>oldbalanceDest</th>\n",
              "      <th>newbalanceDest</th>\n",
              "      <th>isFraud</th>\n",
              "      <th>isFlaggedFraud</th>\n",
              "    </tr>\n",
              "  </thead>\n",
              "  <tbody>\n",
              "    <tr>\n",
              "      <th>0</th>\n",
              "      <td>182</td>\n",
              "      <td>CASH_OUT</td>\n",
              "      <td>129804.96</td>\n",
              "      <td>C557034178</td>\n",
              "      <td>0.00</td>\n",
              "      <td>0.00</td>\n",
              "      <td>C823541396</td>\n",
              "      <td>4225880.68</td>\n",
              "      <td>4355685.64</td>\n",
              "      <td>0</td>\n",
              "      <td>0</td>\n",
              "    </tr>\n",
              "    <tr>\n",
              "      <th>1</th>\n",
              "      <td>347</td>\n",
              "      <td>PAYMENT</td>\n",
              "      <td>31443.09</td>\n",
              "      <td>C106157646</td>\n",
              "      <td>523617.58</td>\n",
              "      <td>492174.49</td>\n",
              "      <td>M1964962587</td>\n",
              "      <td>0.00</td>\n",
              "      <td>0.00</td>\n",
              "      <td>0</td>\n",
              "      <td>0</td>\n",
              "    </tr>\n",
              "    <tr>\n",
              "      <th>2</th>\n",
              "      <td>37</td>\n",
              "      <td>CASH_IN</td>\n",
              "      <td>37045.02</td>\n",
              "      <td>C2119144137</td>\n",
              "      <td>563001.93</td>\n",
              "      <td>600046.95</td>\n",
              "      <td>C1617537788</td>\n",
              "      <td>1276384.02</td>\n",
              "      <td>1109350.62</td>\n",
              "      <td>0</td>\n",
              "      <td>0</td>\n",
              "    </tr>\n",
              "    <tr>\n",
              "      <th>3</th>\n",
              "      <td>321</td>\n",
              "      <td>CASH_IN</td>\n",
              "      <td>54229.95</td>\n",
              "      <td>C1783369537</td>\n",
              "      <td>0.00</td>\n",
              "      <td>54229.95</td>\n",
              "      <td>C1462363253</td>\n",
              "      <td>205541.10</td>\n",
              "      <td>151311.15</td>\n",
              "      <td>0</td>\n",
              "      <td>0</td>\n",
              "    </tr>\n",
              "    <tr>\n",
              "      <th>4</th>\n",
              "      <td>252</td>\n",
              "      <td>CASH_OUT</td>\n",
              "      <td>61214.57</td>\n",
              "      <td>C680060894</td>\n",
              "      <td>0.00</td>\n",
              "      <td>0.00</td>\n",
              "      <td>C534934221</td>\n",
              "      <td>364102.11</td>\n",
              "      <td>425316.68</td>\n",
              "      <td>0</td>\n",
              "      <td>0</td>\n",
              "    </tr>\n",
              "  </tbody>\n",
              "</table>\n",
              "</div>\n",
              "      <button class=\"colab-df-convert\" onclick=\"convertToInteractive('df-c6de89cc-9c09-4d91-98b3-5124e96750b7')\"\n",
              "              title=\"Convert this dataframe to an interactive table.\"\n",
              "              style=\"display:none;\">\n",
              "        \n",
              "  <svg xmlns=\"http://www.w3.org/2000/svg\" height=\"24px\"viewBox=\"0 0 24 24\"\n",
              "       width=\"24px\">\n",
              "    <path d=\"M0 0h24v24H0V0z\" fill=\"none\"/>\n",
              "    <path d=\"M18.56 5.44l.94 2.06.94-2.06 2.06-.94-2.06-.94-.94-2.06-.94 2.06-2.06.94zm-11 1L8.5 8.5l.94-2.06 2.06-.94-2.06-.94L8.5 2.5l-.94 2.06-2.06.94zm10 10l.94 2.06.94-2.06 2.06-.94-2.06-.94-.94-2.06-.94 2.06-2.06.94z\"/><path d=\"M17.41 7.96l-1.37-1.37c-.4-.4-.92-.59-1.43-.59-.52 0-1.04.2-1.43.59L10.3 9.45l-7.72 7.72c-.78.78-.78 2.05 0 2.83L4 21.41c.39.39.9.59 1.41.59.51 0 1.02-.2 1.41-.59l7.78-7.78 2.81-2.81c.8-.78.8-2.07 0-2.86zM5.41 20L4 18.59l7.72-7.72 1.47 1.35L5.41 20z\"/>\n",
              "  </svg>\n",
              "      </button>\n",
              "      \n",
              "  <style>\n",
              "    .colab-df-container {\n",
              "      display:flex;\n",
              "      flex-wrap:wrap;\n",
              "      gap: 12px;\n",
              "    }\n",
              "\n",
              "    .colab-df-convert {\n",
              "      background-color: #E8F0FE;\n",
              "      border: none;\n",
              "      border-radius: 50%;\n",
              "      cursor: pointer;\n",
              "      display: none;\n",
              "      fill: #1967D2;\n",
              "      height: 32px;\n",
              "      padding: 0 0 0 0;\n",
              "      width: 32px;\n",
              "    }\n",
              "\n",
              "    .colab-df-convert:hover {\n",
              "      background-color: #E2EBFA;\n",
              "      box-shadow: 0px 1px 2px rgba(60, 64, 67, 0.3), 0px 1px 3px 1px rgba(60, 64, 67, 0.15);\n",
              "      fill: #174EA6;\n",
              "    }\n",
              "\n",
              "    [theme=dark] .colab-df-convert {\n",
              "      background-color: #3B4455;\n",
              "      fill: #D2E3FC;\n",
              "    }\n",
              "\n",
              "    [theme=dark] .colab-df-convert:hover {\n",
              "      background-color: #434B5C;\n",
              "      box-shadow: 0px 1px 3px 1px rgba(0, 0, 0, 0.15);\n",
              "      filter: drop-shadow(0px 1px 2px rgba(0, 0, 0, 0.3));\n",
              "      fill: #FFFFFF;\n",
              "    }\n",
              "  </style>\n",
              "\n",
              "      <script>\n",
              "        const buttonEl =\n",
              "          document.querySelector('#df-c6de89cc-9c09-4d91-98b3-5124e96750b7 button.colab-df-convert');\n",
              "        buttonEl.style.display =\n",
              "          google.colab.kernel.accessAllowed ? 'block' : 'none';\n",
              "\n",
              "        async function convertToInteractive(key) {\n",
              "          const element = document.querySelector('#df-c6de89cc-9c09-4d91-98b3-5124e96750b7');\n",
              "          const dataTable =\n",
              "            await google.colab.kernel.invokeFunction('convertToInteractive',\n",
              "                                                     [key], {});\n",
              "          if (!dataTable) return;\n",
              "\n",
              "          const docLinkHtml = 'Like what you see? Visit the ' +\n",
              "            '<a target=\"_blank\" href=https://colab.research.google.com/notebooks/data_table.ipynb>data table notebook</a>'\n",
              "            + ' to learn more about interactive tables.';\n",
              "          element.innerHTML = '';\n",
              "          dataTable['output_type'] = 'display_data';\n",
              "          await google.colab.output.renderOutput(dataTable, element);\n",
              "          const docLink = document.createElement('div');\n",
              "          docLink.innerHTML = docLinkHtml;\n",
              "          element.appendChild(docLink);\n",
              "        }\n",
              "      </script>\n",
              "    </div>\n",
              "  </div>\n",
              "  "
            ]
          },
          "metadata": {},
          "execution_count": 25
        }
      ]
    },
    {
      "cell_type": "code",
      "source": [
        "def plotPerColumnDistribution(df, nGraphShown, nGraphPerRow):\n",
        "  plotPerColumnDistribution(df1, 10, 5)\n",
        "  print(plotPerColumnDistribution)"
      ],
      "metadata": {
        "id": "56dckvjC5ds3"
      },
      "execution_count": null,
      "outputs": []
    },
    {
      "cell_type": "code",
      "source": [
        "# https://datagy.io/python-correlation-matrix/ (Calculate and Plot a Correlation Matrix in Python and Pandas)\n",
        "# Calculating a Correlation Matrix with Pandas\n",
        "import pandas as pd\n",
        "\n",
        "matrix = df.corr()\n",
        "print(matrix)"
      ],
      "metadata": {
        "colab": {
          "base_uri": "https://localhost:8080/"
        },
        "id": "fNGJPvAvCZSz",
        "outputId": "5adfeb5d-5f63-4d15-c4bd-5cf0430b167c"
      },
      "execution_count": null,
      "outputs": [
        {
          "output_type": "stream",
          "name": "stdout",
          "text": [
            "                    step    amount  oldbalanceOrg  newbalanceOrig  \\\n",
            "step            1.000000  0.024259      -0.016355       -0.017055   \n",
            "amount          0.024259  1.000000      -0.002685       -0.010167   \n",
            "oldbalanceOrg  -0.016355 -0.002685       1.000000        0.998519   \n",
            "newbalanceOrig -0.017055 -0.010167       0.998519        1.000000   \n",
            "oldbalanceDest  0.030215  0.295156       0.074079        0.075819   \n",
            "newbalanceDest  0.029405  0.474885       0.048339        0.047744   \n",
            "isFraud         0.038672  0.092325       0.012807       -0.010894   \n",
            "isFlaggedFraud       NaN       NaN            NaN             NaN   \n",
            "\n",
            "                oldbalanceDest  newbalanceDest   isFraud  isFlaggedFraud  \n",
            "step                  0.030215        0.029405  0.038672             NaN  \n",
            "amount                0.295156        0.474885  0.092325             NaN  \n",
            "oldbalanceOrg         0.074079        0.048339  0.012807             NaN  \n",
            "newbalanceOrig        0.075819        0.047744 -0.010894             NaN  \n",
            "oldbalanceDest        1.000000        0.974243 -0.010293             NaN  \n",
            "newbalanceDest        0.974243        1.000000  0.001320             NaN  \n",
            "isFraud              -0.010293        0.001320  1.000000             NaN  \n",
            "isFlaggedFraud             NaN             NaN       NaN             NaN  \n"
          ]
        }
      ]
    },
    {
      "cell_type": "code",
      "source": [
        "#https://likegeeks.com/python-correlation-matrix/"
      ],
      "metadata": {
        "id": "SUDATYVnIy11"
      },
      "execution_count": null,
      "outputs": []
    },
    {
      "cell_type": "code",
      "source": [
        "# https://datagy.io/python-correlation-matrix/\n",
        "#Heatmap-Numeric Variables\n",
        "matrix = df.corr().round(2)\n",
        "#print(matrix)\n",
        "sns.heatmap(matrix, annot=True, vmax=1, vmin=-1, center=0, cmap='vlag')\n",
        "# mask = np.triu(np.ones_like(matrix, dtype=bool)) #Showing only the bottom half of our correlation matrix\n",
        "#sns.heatmap(matrix, annot=True, vmax=1, vmin=-1, center=0, cmap='vlag', mask=mask)\n",
        "plt.show()"
      ],
      "metadata": {
        "colab": {
          "base_uri": "https://localhost:8080/",
          "height": 342
        },
        "id": "Z2lI4IDZvTJZ",
        "outputId": "66fa1b2d-aff2-4b61-d7ef-e32c30f752c8"
      },
      "execution_count": 5,
      "outputs": [
        {
          "output_type": "display_data",
          "data": {
            "text/plain": [
              "<Figure size 432x288 with 2 Axes>"
            ],
            "image/png": "[encoded data removed]"
          },
          "metadata": {
            "needs_background": "light"
          }
        }
      ]
    },
    {
      "cell_type": "code",
      "source": [
        "#Heatmap-Categorical Variables\n",
        "sns.heatmap(pd.crosstab(df.type, df.isFraud))"
      ],
      "metadata": {
        "colab": {
          "base_uri": "https://localhost:8080/",
          "height": 296
        },
        "id": "XDHu63VUwFJl",
        "outputId": "ebb844b4-9e2a-42e9-a568-3fd69ba56906"
      },
      "execution_count": 6,
      "outputs": [
        {
          "output_type": "execute_result",
          "data": {
            "text/plain": [
              "<matplotlib.axes._subplots.AxesSubplot at 0x7fce5dd78f50>"
            ]
          },
          "metadata": {},
          "execution_count": 6
        },
        {
          "output_type": "display_data",
          "data": {
            "text/plain": [
              "<Figure size 432x288 with 2 Axes>"
            ],
            "image/png": "[encoded data removed]"
          },
          "metadata": {
            "needs_background": "light"
          }
        }
      ]
    }
  ]
}