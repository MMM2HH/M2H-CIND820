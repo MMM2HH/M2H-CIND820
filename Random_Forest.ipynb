{
  "nbformat": 4,
  "nbformat_minor": 0,
  "metadata": {
    "colab": {
      "name": "Random Forest.ipynb",
      "provenance": [],
      "collapsed_sections": []
    },
    "kernelspec": {
      "name": "python3",
      "display_name": "Python 3"
    },
    "language_info": {
      "name": "python"
    }
  },
  "cells": [
    {
      "cell_type": "markdown",
      "source": [
        "**Data Modeling - Random Forest**"
      ],
      "metadata": {
        "id": "r87g4wQyRwKp"
      }
    },
    {
      "cell_type": "code",
      "source": [
        "import rpy2\n",
        "import pandas as pd \n",
        "import numpy as np\n",
        "import os \n",
        "import random\n",
        "import matplotlib.pyplot as plt\n",
        "import seaborn as sns\n",
        "import statsmodels.api as sm\n",
        "import scipy.stats as stats\n",
        "from mpl_toolkits.mplot3d import Axes3D\n",
        "from sklearn.preprocessing import StandardScaler\n",
        "\n",
        "#!pip install sklearn\n",
        "df = pd.read_csv('ExportedSubsetData.csv')\n",
        "#Print data frame\n",
        "df\n",
        "#Dataset Info Summary\n",
        "df.info()"
      ],
      "metadata": {
        "colab": {
          "base_uri": "https://localhost:8080/"
        },
        "id": "ZaWA5UQLSrl2",
        "outputId": "10d9e6eb-16f2-4836-b7ca-ee35983df215"
      },
      "execution_count": null,
      "outputs": [
        {
          "output_type": "stream",
          "name": "stdout",
          "text": [
            "<class 'pandas.core.frame.DataFrame'>\n",
            "RangeIndex: 50000 entries, 0 to 49999\n",
            "Data columns (total 11 columns):\n",
            " #   Column          Non-Null Count  Dtype  \n",
            "---  ------          --------------  -----  \n",
            " 0   step            50000 non-null  int64  \n",
            " 1   type            50000 non-null  object \n",
            " 2   amount          50000 non-null  float64\n",
            " 3   nameOrig        50000 non-null  object \n",
            " 4   oldbalanceOrg   50000 non-null  float64\n",
            " 5   newbalanceOrig  50000 non-null  float64\n",
            " 6   nameDest        50000 non-null  object \n",
            " 7   oldbalanceDest  50000 non-null  float64\n",
            " 8   newbalanceDest  50000 non-null  float64\n",
            " 9   isFraud         50000 non-null  int64  \n",
            " 10  isFlaggedFraud  50000 non-null  int64  \n",
            "dtypes: float64(5), int64(3), object(3)\n",
            "memory usage: 4.2+ MB\n"
          ]
        }
      ]
    },
    {
      "cell_type": "markdown",
      "source": [
        "**1. Data Cleaning**"
      ],
      "metadata": {
        "id": "OqO9bbjlwJ38"
      }
    },
    {
      "cell_type": "code",
      "execution_count": null,
      "metadata": {
        "colab": {
          "base_uri": "https://localhost:8080/"
        },
        "id": "mfCCAjxcRuY0",
        "outputId": "fe1276e2-3968-4d1a-ae23-af763d89ca32"
      },
      "outputs": [
        {
          "output_type": "stream",
          "name": "stdout",
          "text": [
            "<class 'pandas.core.frame.DataFrame'>\n",
            "RangeIndex: 50000 entries, 0 to 49999\n",
            "Data columns (total 8 columns):\n",
            " #   Column          Non-Null Count  Dtype  \n",
            "---  ------          --------------  -----  \n",
            " 0   step            50000 non-null  int64  \n",
            " 1   type            50000 non-null  object \n",
            " 2   amount          50000 non-null  float64\n",
            " 3   oldbalanceOrg   50000 non-null  float64\n",
            " 4   newbalanceOrig  50000 non-null  float64\n",
            " 5   oldbalanceDest  50000 non-null  float64\n",
            " 6   newbalanceDest  50000 non-null  float64\n",
            " 7   isFraud         50000 non-null  int64  \n",
            "dtypes: float64(5), int64(2), object(1)\n",
            "memory usage: 3.1+ MB\n"
          ]
        }
      ],
      "source": [
        "# 1.1 - Removing Variables not needed for Calssification\n",
        "newData = df.drop(['isFlaggedFraud', 'nameOrig', 'nameDest'], axis=1)\n",
        "newData.info()"
      ]
    },
    {
      "cell_type": "code",
      "source": [
        "# 1.2 - Retaining only CASH-OUT and TRANSFER transactions\n",
        "newData = newData.loc[newData['type'].isin(['CASH_OUT', 'TRANSFER']),:]\n",
        "print('The new data now has', len(newData), ' transations.')"
      ],
      "metadata": {
        "colab": {
          "base_uri": "https://localhost:8080/"
        },
        "id": "uZN1Lq-fUlsh",
        "outputId": "6c1f0050-1589-4ec2-f465-a47db9525e8c"
      },
      "execution_count": null,
      "outputs": [
        {
          "output_type": "stream",
          "name": "stdout",
          "text": [
            "The new data now has 21879  transations.\n"
          ]
        }
      ]
    },
    {
      "cell_type": "code",
      "source": [
        "# 1.3 - Converting categorical varaible to numeric representation\n",
        "# Encoding categorical \"type\" variable to convert transation type to binary variables\n",
        "newData = pd.get_dummies(newData, columns=['type'], prefix=['type'])\n",
        "newData.info()"
      ],
      "metadata": {
        "colab": {
          "base_uri": "https://localhost:8080/"
        },
        "id": "x_2TC2QtTGQc",
        "outputId": "2ae6fd6c-bf74-4ad2-8441-d06a698ca6c7"
      },
      "execution_count": null,
      "outputs": [
        {
          "output_type": "stream",
          "name": "stdout",
          "text": [
            "<class 'pandas.core.frame.DataFrame'>\n",
            "Int64Index: 21879 entries, 0 to 49999\n",
            "Data columns (total 9 columns):\n",
            " #   Column          Non-Null Count  Dtype  \n",
            "---  ------          --------------  -----  \n",
            " 0   step            21879 non-null  int64  \n",
            " 1   amount          21879 non-null  float64\n",
            " 2   oldbalanceOrg   21879 non-null  float64\n",
            " 3   newbalanceOrig  21879 non-null  float64\n",
            " 4   oldbalanceDest  21879 non-null  float64\n",
            " 5   newbalanceDest  21879 non-null  float64\n",
            " 6   isFraud         21879 non-null  int64  \n",
            " 7   type_CASH_OUT   21879 non-null  uint8  \n",
            " 8   type_TRANSFER   21879 non-null  uint8  \n",
            "dtypes: float64(5), int64(2), uint8(2)\n",
            "memory usage: 1.4 MB\n"
          ]
        }
      ]
    },
    {
      "cell_type": "code",
      "source": [
        "# Print first 5 rows\n",
        "newData.head()"
      ],
      "metadata": {
        "colab": {
          "base_uri": "https://localhost:8080/",
          "height": 206
        },
        "id": "cEPrMiE9qIAR",
        "outputId": "e04cbf1b-9ff4-4b95-d7f8-0bc257ac911f"
      },
      "execution_count": null,
      "outputs": [
        {
          "output_type": "execute_result",
          "data": {
            "text/plain": [
              "   step     amount  oldbalanceOrg  newbalanceOrig  oldbalanceDest  \\\n",
              "0   182  129804.96           0.00             0.0      4225880.68   \n",
              "4   252   61214.57           0.00             0.0       364102.11   \n",
              "5    18  125379.52           0.00             0.0       883177.46   \n",
              "6   331   30449.41           0.00             0.0       456924.04   \n",
              "7   277  157649.53        7660.25             0.0       491363.14   \n",
              "\n",
              "   newbalanceDest  isFraud  type_CASH_OUT  type_TRANSFER  \n",
              "0      4355685.64        0              1              0  \n",
              "4       425316.68        0              1              0  \n",
              "5      1120071.12        0              1              0  \n",
              "6       487373.45        0              1              0  \n",
              "7       649012.67        0              1              0  "
            ],
            "text/html": [
              "\n",
              "  <div id=\"df-206c607a-3f8a-4660-8d7e-1e4f0539bffb\">\n",
              "    <div class=\"colab-df-container\">\n",
              "      <div>\n",
              "<style scoped>\n",
              "    .dataframe tbody tr th:only-of-type {\n",
              "        vertical-align: middle;\n",
              "    }\n",
              "\n",
              "    .dataframe tbody tr th {\n",
              "        vertical-align: top;\n",
              "    }\n",
              "\n",
              "    .dataframe thead th {\n",
              "        text-align: right;\n",
              "    }\n",
              "</style>\n",
              "<table border=\"1\" class=\"dataframe\">\n",
              "  <thead>\n",
              "    <tr style=\"text-align: right;\">\n",
              "      <th></th>\n",
              "      <th>step</th>\n",
              "      <th>amount</th>\n",
              "      <th>oldbalanceOrg</th>\n",
              "      <th>newbalanceOrig</th>\n",
              "      <th>oldbalanceDest</th>\n",
              "      <th>newbalanceDest</th>\n",
              "      <th>isFraud</th>\n",
              "      <th>type_CASH_OUT</th>\n",
              "      <th>type_TRANSFER</th>\n",
              "    </tr>\n",
              "  </thead>\n",
              "  <tbody>\n",
              "    <tr>\n",
              "      <th>0</th>\n",
              "      <td>182</td>\n",
              "      <td>129804.96</td>\n",
              "      <td>0.00</td>\n",
              "      <td>0.0</td>\n",
              "      <td>4225880.68</td>\n",
              "      <td>4355685.64</td>\n",
              "      <td>0</td>\n",
              "      <td>1</td>\n",
              "      <td>0</td>\n",
              "    </tr>\n",
              "    <tr>\n",
              "      <th>4</th>\n",
              "      <td>252</td>\n",
              "      <td>61214.57</td>\n",
              "      <td>0.00</td>\n",
              "      <td>0.0</td>\n",
              "      <td>364102.11</td>\n",
              "      <td>425316.68</td>\n",
              "      <td>0</td>\n",
              "      <td>1</td>\n",
              "      <td>0</td>\n",
              "    </tr>\n",
              "    <tr>\n",
              "      <th>5</th>\n",
              "      <td>18</td>\n",
              "      <td>125379.52</td>\n",
              "      <td>0.00</td>\n",
              "      <td>0.0</td>\n",
              "      <td>883177.46</td>\n",
              "      <td>1120071.12</td>\n",
              "      <td>0</td>\n",
              "      <td>1</td>\n",
              "      <td>0</td>\n",
              "    </tr>\n",
              "    <tr>\n",
              "      <th>6</th>\n",
              "      <td>331</td>\n",
              "      <td>30449.41</td>\n",
              "      <td>0.00</td>\n",
              "      <td>0.0</td>\n",
              "      <td>456924.04</td>\n",
              "      <td>487373.45</td>\n",
              "      <td>0</td>\n",
              "      <td>1</td>\n",
              "      <td>0</td>\n",
              "    </tr>\n",
              "    <tr>\n",
              "      <th>7</th>\n",
              "      <td>277</td>\n",
              "      <td>157649.53</td>\n",
              "      <td>7660.25</td>\n",
              "      <td>0.0</td>\n",
              "      <td>491363.14</td>\n",
              "      <td>649012.67</td>\n",
              "      <td>0</td>\n",
              "      <td>1</td>\n",
              "      <td>0</td>\n",
              "    </tr>\n",
              "  </tbody>\n",
              "</table>\n",
              "</div>\n",
              "      <button class=\"colab-df-convert\" onclick=\"convertToInteractive('df-206c607a-3f8a-4660-8d7e-1e4f0539bffb')\"\n",
              "              title=\"Convert this dataframe to an interactive table.\"\n",
              "              style=\"display:none;\">\n",
              "        \n",
              "  <svg xmlns=\"http://www.w3.org/2000/svg\" height=\"24px\"viewBox=\"0 0 24 24\"\n",
              "       width=\"24px\">\n",
              "    <path d=\"M0 0h24v24H0V0z\" fill=\"none\"/>\n",
              "    <path d=\"M18.56 5.44l.94 2.06.94-2.06 2.06-.94-2.06-.94-.94-2.06-.94 2.06-2.06.94zm-11 1L8.5 8.5l.94-2.06 2.06-.94-2.06-.94L8.5 2.5l-.94 2.06-2.06.94zm10 10l.94 2.06.94-2.06 2.06-.94-2.06-.94-.94-2.06-.94 2.06-2.06.94z\"/><path d=\"M17.41 7.96l-1.37-1.37c-.4-.4-.92-.59-1.43-.59-.52 0-1.04.2-1.43.59L10.3 9.45l-7.72 7.72c-.78.78-.78 2.05 0 2.83L4 21.41c.39.39.9.59 1.41.59.51 0 1.02-.2 1.41-.59l7.78-7.78 2.81-2.81c.8-.78.8-2.07 0-2.86zM5.41 20L4 18.59l7.72-7.72 1.47 1.35L5.41 20z\"/>\n",
              "  </svg>\n",
              "      </button>\n",
              "      \n",
              "  <style>\n",
              "    .colab-df-container {\n",
              "      display:flex;\n",
              "      flex-wrap:wrap;\n",
              "      gap: 12px;\n",
              "    }\n",
              "\n",
              "    .colab-df-convert {\n",
              "      background-color: #E8F0FE;\n",
              "      border: none;\n",
              "      border-radius: 50%;\n",
              "      cursor: pointer;\n",
              "      display: none;\n",
              "      fill: #1967D2;\n",
              "      height: 32px;\n",
              "      padding: 0 0 0 0;\n",
              "      width: 32px;\n",
              "    }\n",
              "\n",
              "    .colab-df-convert:hover {\n",
              "      background-color: #E2EBFA;\n",
              "      box-shadow: 0px 1px 2px rgba(60, 64, 67, 0.3), 0px 1px 3px 1px rgba(60, 64, 67, 0.15);\n",
              "      fill: #174EA6;\n",
              "    }\n",
              "\n",
              "    [theme=dark] .colab-df-convert {\n",
              "      background-color: #3B4455;\n",
              "      fill: #D2E3FC;\n",
              "    }\n",
              "\n",
              "    [theme=dark] .colab-df-convert:hover {\n",
              "      background-color: #434B5C;\n",
              "      box-shadow: 0px 1px 3px 1px rgba(0, 0, 0, 0.15);\n",
              "      filter: drop-shadow(0px 1px 2px rgba(0, 0, 0, 0.3));\n",
              "      fill: #FFFFFF;\n",
              "    }\n",
              "  </style>\n",
              "\n",
              "      <script>\n",
              "        const buttonEl =\n",
              "          document.querySelector('#df-206c607a-3f8a-4660-8d7e-1e4f0539bffb button.colab-df-convert');\n",
              "        buttonEl.style.display =\n",
              "          google.colab.kernel.accessAllowed ? 'block' : 'none';\n",
              "\n",
              "        async function convertToInteractive(key) {\n",
              "          const element = document.querySelector('#df-206c607a-3f8a-4660-8d7e-1e4f0539bffb');\n",
              "          const dataTable =\n",
              "            await google.colab.kernel.invokeFunction('convertToInteractive',\n",
              "                                                     [key], {});\n",
              "          if (!dataTable) return;\n",
              "\n",
              "          const docLinkHtml = 'Like what you see? Visit the ' +\n",
              "            '<a target=\"_blank\" href=https://colab.research.google.com/notebooks/data_table.ipynb>data table notebook</a>'\n",
              "            + ' to learn more about interactive tables.';\n",
              "          element.innerHTML = '';\n",
              "          dataTable['output_type'] = 'display_data';\n",
              "          await google.colab.output.renderOutput(dataTable, element);\n",
              "          const docLink = document.createElement('div');\n",
              "          docLink.innerHTML = docLinkHtml;\n",
              "          element.appendChild(docLink);\n",
              "        }\n",
              "      </script>\n",
              "    </div>\n",
              "  </div>\n",
              "  "
            ]
          },
          "metadata": {},
          "execution_count": 121
        }
      ]
    },
    {
      "cell_type": "code",
      "source": [
        "# To check min value of a feature. For Example:\n",
        "newData['step'].min()"
      ],
      "metadata": {
        "colab": {
          "base_uri": "https://localhost:8080/"
        },
        "id": "1Y2PrVC-t9H5",
        "outputId": "63750391-d291-4a83-e65d-cb6fa5791e40"
      },
      "execution_count": null,
      "outputs": [
        {
          "output_type": "execute_result",
          "data": {
            "text/plain": [
              "1"
            ]
          },
          "metadata": {},
          "execution_count": 122
        }
      ]
    },
    {
      "cell_type": "code",
      "source": [
        "# To check max value of a feature. For Example:\n",
        "newData['step'].max()"
      ],
      "metadata": {
        "colab": {
          "base_uri": "https://localhost:8080/"
        },
        "id": "6Bl5yqNdt9gp",
        "outputId": "d16ced9c-eb8f-457e-9ec1-eff7c3d97890"
      },
      "execution_count": null,
      "outputs": [
        {
          "output_type": "execute_result",
          "data": {
            "text/plain": [
              "742"
            ]
          },
          "metadata": {},
          "execution_count": 123
        }
      ]
    },
    {
      "cell_type": "markdown",
      "source": [
        "**2. Data Normalization**"
      ],
      "metadata": {
        "id": "9UfEOhJvabyK"
      }
    },
    {
      "cell_type": "code",
      "source": [
        "# 2.1 (a) - Standardizing the Data or Scale Data using MinMaxScaler to convert the value between the min and max\n",
        "# https://www.youtube.com/watch?v=sFVxFCYiIQI (15:00)\n",
        "from sklearn.preprocessing import MinMaxScaler\n",
        "scale_vars = ['step','amount','oldbalanceOrg','newbalanceOrig','oldbalanceDest','newbalanceDest','isFraud' ]\n",
        "scaler = MinMaxScaler()\n",
        "newData[scale_vars] = scaler.fit_transform(newData[scale_vars])\n",
        "newData.head()"
      ],
      "metadata": {
        "colab": {
          "base_uri": "https://localhost:8080/",
          "height": 206
        },
        "id": "D0m8B8W7rbic",
        "outputId": "49d7a9c1-2995-4a0e-b801-8e35fcdaab40"
      },
      "execution_count": null,
      "outputs": [
        {
          "output_type": "execute_result",
          "data": {
            "text/plain": [
              "       step    amount  oldbalanceOrg  newbalanceOrig  oldbalanceDest  \\\n",
              "0  0.244265  0.003076       0.000000             0.0        0.026917   \n",
              "4  0.338731  0.001450       0.000000             0.0        0.002319   \n",
              "5  0.022942  0.002971       0.000000             0.0        0.005626   \n",
              "6  0.445344  0.000721       0.000000             0.0        0.002910   \n",
              "7  0.372470  0.003736       0.000175             0.0        0.003130   \n",
              "\n",
              "   newbalanceDest  isFraud  type_CASH_OUT  type_TRANSFER  \n",
              "0        0.027718      0.0              1              0  \n",
              "4        0.002707      0.0              1              0  \n",
              "5        0.007128      0.0              1              0  \n",
              "6        0.003102      0.0              1              0  \n",
              "7        0.004130      0.0              1              0  "
            ],
            "text/html": [
              "\n",
              "  <div id=\"df-9c637af0-cff7-45dd-813c-1509150b0c48\">\n",
              "    <div class=\"colab-df-container\">\n",
              "      <div>\n",
              "<style scoped>\n",
              "    .dataframe tbody tr th:only-of-type {\n",
              "        vertical-align: middle;\n",
              "    }\n",
              "\n",
              "    .dataframe tbody tr th {\n",
              "        vertical-align: top;\n",
              "    }\n",
              "\n",
              "    .dataframe thead th {\n",
              "        text-align: right;\n",
              "    }\n",
              "</style>\n",
              "<table border=\"1\" class=\"dataframe\">\n",
              "  <thead>\n",
              "    <tr style=\"text-align: right;\">\n",
              "      <th></th>\n",
              "      <th>step</th>\n",
              "      <th>amount</th>\n",
              "      <th>oldbalanceOrg</th>\n",
              "      <th>newbalanceOrig</th>\n",
              "      <th>oldbalanceDest</th>\n",
              "      <th>newbalanceDest</th>\n",
              "      <th>isFraud</th>\n",
              "      <th>type_CASH_OUT</th>\n",
              "      <th>type_TRANSFER</th>\n",
              "    </tr>\n",
              "  </thead>\n",
              "  <tbody>\n",
              "    <tr>\n",
              "      <th>0</th>\n",
              "      <td>0.244265</td>\n",
              "      <td>0.003076</td>\n",
              "      <td>0.000000</td>\n",
              "      <td>0.0</td>\n",
              "      <td>0.026917</td>\n",
              "      <td>0.027718</td>\n",
              "      <td>0.0</td>\n",
              "      <td>1</td>\n",
              "      <td>0</td>\n",
              "    </tr>\n",
              "    <tr>\n",
              "      <th>4</th>\n",
              "      <td>0.338731</td>\n",
              "      <td>0.001450</td>\n",
              "      <td>0.000000</td>\n",
              "      <td>0.0</td>\n",
              "      <td>0.002319</td>\n",
              "      <td>0.002707</td>\n",
              "      <td>0.0</td>\n",
              "      <td>1</td>\n",
              "      <td>0</td>\n",
              "    </tr>\n",
              "    <tr>\n",
              "      <th>5</th>\n",
              "      <td>0.022942</td>\n",
              "      <td>0.002971</td>\n",
              "      <td>0.000000</td>\n",
              "      <td>0.0</td>\n",
              "      <td>0.005626</td>\n",
              "      <td>0.007128</td>\n",
              "      <td>0.0</td>\n",
              "      <td>1</td>\n",
              "      <td>0</td>\n",
              "    </tr>\n",
              "    <tr>\n",
              "      <th>6</th>\n",
              "      <td>0.445344</td>\n",
              "      <td>0.000721</td>\n",
              "      <td>0.000000</td>\n",
              "      <td>0.0</td>\n",
              "      <td>0.002910</td>\n",
              "      <td>0.003102</td>\n",
              "      <td>0.0</td>\n",
              "      <td>1</td>\n",
              "      <td>0</td>\n",
              "    </tr>\n",
              "    <tr>\n",
              "      <th>7</th>\n",
              "      <td>0.372470</td>\n",
              "      <td>0.003736</td>\n",
              "      <td>0.000175</td>\n",
              "      <td>0.0</td>\n",
              "      <td>0.003130</td>\n",
              "      <td>0.004130</td>\n",
              "      <td>0.0</td>\n",
              "      <td>1</td>\n",
              "      <td>0</td>\n",
              "    </tr>\n",
              "  </tbody>\n",
              "</table>\n",
              "</div>\n",
              "      <button class=\"colab-df-convert\" onclick=\"convertToInteractive('df-9c637af0-cff7-45dd-813c-1509150b0c48')\"\n",
              "              title=\"Convert this dataframe to an interactive table.\"\n",
              "              style=\"display:none;\">\n",
              "        \n",
              "  <svg xmlns=\"http://www.w3.org/2000/svg\" height=\"24px\"viewBox=\"0 0 24 24\"\n",
              "       width=\"24px\">\n",
              "    <path d=\"M0 0h24v24H0V0z\" fill=\"none\"/>\n",
              "    <path d=\"M18.56 5.44l.94 2.06.94-2.06 2.06-.94-2.06-.94-.94-2.06-.94 2.06-2.06.94zm-11 1L8.5 8.5l.94-2.06 2.06-.94-2.06-.94L8.5 2.5l-.94 2.06-2.06.94zm10 10l.94 2.06.94-2.06 2.06-.94-2.06-.94-.94-2.06-.94 2.06-2.06.94z\"/><path d=\"M17.41 7.96l-1.37-1.37c-.4-.4-.92-.59-1.43-.59-.52 0-1.04.2-1.43.59L10.3 9.45l-7.72 7.72c-.78.78-.78 2.05 0 2.83L4 21.41c.39.39.9.59 1.41.59.51 0 1.02-.2 1.41-.59l7.78-7.78 2.81-2.81c.8-.78.8-2.07 0-2.86zM5.41 20L4 18.59l7.72-7.72 1.47 1.35L5.41 20z\"/>\n",
              "  </svg>\n",
              "      </button>\n",
              "      \n",
              "  <style>\n",
              "    .colab-df-container {\n",
              "      display:flex;\n",
              "      flex-wrap:wrap;\n",
              "      gap: 12px;\n",
              "    }\n",
              "\n",
              "    .colab-df-convert {\n",
              "      background-color: #E8F0FE;\n",
              "      border: none;\n",
              "      border-radius: 50%;\n",
              "      cursor: pointer;\n",
              "      display: none;\n",
              "      fill: #1967D2;\n",
              "      height: 32px;\n",
              "      padding: 0 0 0 0;\n",
              "      width: 32px;\n",
              "    }\n",
              "\n",
              "    .colab-df-convert:hover {\n",
              "      background-color: #E2EBFA;\n",
              "      box-shadow: 0px 1px 2px rgba(60, 64, 67, 0.3), 0px 1px 3px 1px rgba(60, 64, 67, 0.15);\n",
              "      fill: #174EA6;\n",
              "    }\n",
              "\n",
              "    [theme=dark] .colab-df-convert {\n",
              "      background-color: #3B4455;\n",
              "      fill: #D2E3FC;\n",
              "    }\n",
              "\n",
              "    [theme=dark] .colab-df-convert:hover {\n",
              "      background-color: #434B5C;\n",
              "      box-shadow: 0px 1px 3px 1px rgba(0, 0, 0, 0.15);\n",
              "      filter: drop-shadow(0px 1px 2px rgba(0, 0, 0, 0.3));\n",
              "      fill: #FFFFFF;\n",
              "    }\n",
              "  </style>\n",
              "\n",
              "      <script>\n",
              "        const buttonEl =\n",
              "          document.querySelector('#df-9c637af0-cff7-45dd-813c-1509150b0c48 button.colab-df-convert');\n",
              "        buttonEl.style.display =\n",
              "          google.colab.kernel.accessAllowed ? 'block' : 'none';\n",
              "\n",
              "        async function convertToInteractive(key) {\n",
              "          const element = document.querySelector('#df-9c637af0-cff7-45dd-813c-1509150b0c48');\n",
              "          const dataTable =\n",
              "            await google.colab.kernel.invokeFunction('convertToInteractive',\n",
              "                                                     [key], {});\n",
              "          if (!dataTable) return;\n",
              "\n",
              "          const docLinkHtml = 'Like what you see? Visit the ' +\n",
              "            '<a target=\"_blank\" href=https://colab.research.google.com/notebooks/data_table.ipynb>data table notebook</a>'\n",
              "            + ' to learn more about interactive tables.';\n",
              "          element.innerHTML = '';\n",
              "          dataTable['output_type'] = 'display_data';\n",
              "          await google.colab.output.renderOutput(dataTable, element);\n",
              "          const docLink = document.createElement('div');\n",
              "          docLink.innerHTML = docLinkHtml;\n",
              "          element.appendChild(docLink);\n",
              "        }\n",
              "      </script>\n",
              "    </div>\n",
              "  </div>\n",
              "  "
            ]
          },
          "metadata": {},
          "execution_count": 124
        }
      ]
    },
    {
      "cell_type": "code",
      "source": [
        "# 2.1 (b) - Data Normalization using the Min-Max Method \n",
        "normalized_df = newData.copy()\n",
        "\n",
        "for column in normalized_df.columns:\n",
        "  normalized_df[column] = (normalized_df[column] - normalized_df[column].min())/(normalized_df[column].max() - normalized_df[column].min())\n",
        "normalized_df.head()"
      ],
      "metadata": {
        "id": "a8ZNZlZRa9-a",
        "colab": {
          "base_uri": "https://localhost:8080/",
          "height": 206
        },
        "outputId": "3bbdfc00-c6c1-41f8-e5a9-d1c34d8369c4"
      },
      "execution_count": null,
      "outputs": [
        {
          "output_type": "execute_result",
          "data": {
            "text/plain": [
              "       step    amount  oldbalanceOrg  newbalanceOrig  oldbalanceDest  \\\n",
              "0  0.244265  0.003076       0.000000             0.0        0.026917   \n",
              "4  0.338731  0.001450       0.000000             0.0        0.002319   \n",
              "5  0.022942  0.002971       0.000000             0.0        0.005626   \n",
              "6  0.445344  0.000721       0.000000             0.0        0.002910   \n",
              "7  0.372470  0.003736       0.000175             0.0        0.003130   \n",
              "\n",
              "   newbalanceDest  isFraud  type_CASH_OUT  type_TRANSFER  \n",
              "0        0.027718      0.0            1.0            0.0  \n",
              "4        0.002707      0.0            1.0            0.0  \n",
              "5        0.007128      0.0            1.0            0.0  \n",
              "6        0.003102      0.0            1.0            0.0  \n",
              "7        0.004130      0.0            1.0            0.0  "
            ],
            "text/html": [
              "\n",
              "  <div id=\"df-1dbd5ea8-ba4f-49f0-9b3e-1e40b3ce9f9c\">\n",
              "    <div class=\"colab-df-container\">\n",
              "      <div>\n",
              "<style scoped>\n",
              "    .dataframe tbody tr th:only-of-type {\n",
              "        vertical-align: middle;\n",
              "    }\n",
              "\n",
              "    .dataframe tbody tr th {\n",
              "        vertical-align: top;\n",
              "    }\n",
              "\n",
              "    .dataframe thead th {\n",
              "        text-align: right;\n",
              "    }\n",
              "</style>\n",
              "<table border=\"1\" class=\"dataframe\">\n",
              "  <thead>\n",
              "    <tr style=\"text-align: right;\">\n",
              "      <th></th>\n",
              "      <th>step</th>\n",
              "      <th>amount</th>\n",
              "      <th>oldbalanceOrg</th>\n",
              "      <th>newbalanceOrig</th>\n",
              "      <th>oldbalanceDest</th>\n",
              "      <th>newbalanceDest</th>\n",
              "      <th>isFraud</th>\n",
              "      <th>type_CASH_OUT</th>\n",
              "      <th>type_TRANSFER</th>\n",
              "    </tr>\n",
              "  </thead>\n",
              "  <tbody>\n",
              "    <tr>\n",
              "      <th>0</th>\n",
              "      <td>0.244265</td>\n",
              "      <td>0.003076</td>\n",
              "      <td>0.000000</td>\n",
              "      <td>0.0</td>\n",
              "      <td>0.026917</td>\n",
              "      <td>0.027718</td>\n",
              "      <td>0.0</td>\n",
              "      <td>1.0</td>\n",
              "      <td>0.0</td>\n",
              "    </tr>\n",
              "    <tr>\n",
              "      <th>4</th>\n",
              "      <td>0.338731</td>\n",
              "      <td>0.001450</td>\n",
              "      <td>0.000000</td>\n",
              "      <td>0.0</td>\n",
              "      <td>0.002319</td>\n",
              "      <td>0.002707</td>\n",
              "      <td>0.0</td>\n",
              "      <td>1.0</td>\n",
              "      <td>0.0</td>\n",
              "    </tr>\n",
              "    <tr>\n",
              "      <th>5</th>\n",
              "      <td>0.022942</td>\n",
              "      <td>0.002971</td>\n",
              "      <td>0.000000</td>\n",
              "      <td>0.0</td>\n",
              "      <td>0.005626</td>\n",
              "      <td>0.007128</td>\n",
              "      <td>0.0</td>\n",
              "      <td>1.0</td>\n",
              "      <td>0.0</td>\n",
              "    </tr>\n",
              "    <tr>\n",
              "      <th>6</th>\n",
              "      <td>0.445344</td>\n",
              "      <td>0.000721</td>\n",
              "      <td>0.000000</td>\n",
              "      <td>0.0</td>\n",
              "      <td>0.002910</td>\n",
              "      <td>0.003102</td>\n",
              "      <td>0.0</td>\n",
              "      <td>1.0</td>\n",
              "      <td>0.0</td>\n",
              "    </tr>\n",
              "    <tr>\n",
              "      <th>7</th>\n",
              "      <td>0.372470</td>\n",
              "      <td>0.003736</td>\n",
              "      <td>0.000175</td>\n",
              "      <td>0.0</td>\n",
              "      <td>0.003130</td>\n",
              "      <td>0.004130</td>\n",
              "      <td>0.0</td>\n",
              "      <td>1.0</td>\n",
              "      <td>0.0</td>\n",
              "    </tr>\n",
              "  </tbody>\n",
              "</table>\n",
              "</div>\n",
              "      <button class=\"colab-df-convert\" onclick=\"convertToInteractive('df-1dbd5ea8-ba4f-49f0-9b3e-1e40b3ce9f9c')\"\n",
              "              title=\"Convert this dataframe to an interactive table.\"\n",
              "              style=\"display:none;\">\n",
              "        \n",
              "  <svg xmlns=\"http://www.w3.org/2000/svg\" height=\"24px\"viewBox=\"0 0 24 24\"\n",
              "       width=\"24px\">\n",
              "    <path d=\"M0 0h24v24H0V0z\" fill=\"none\"/>\n",
              "    <path d=\"M18.56 5.44l.94 2.06.94-2.06 2.06-.94-2.06-.94-.94-2.06-.94 2.06-2.06.94zm-11 1L8.5 8.5l.94-2.06 2.06-.94-2.06-.94L8.5 2.5l-.94 2.06-2.06.94zm10 10l.94 2.06.94-2.06 2.06-.94-2.06-.94-.94-2.06-.94 2.06-2.06.94z\"/><path d=\"M17.41 7.96l-1.37-1.37c-.4-.4-.92-.59-1.43-.59-.52 0-1.04.2-1.43.59L10.3 9.45l-7.72 7.72c-.78.78-.78 2.05 0 2.83L4 21.41c.39.39.9.59 1.41.59.51 0 1.02-.2 1.41-.59l7.78-7.78 2.81-2.81c.8-.78.8-2.07 0-2.86zM5.41 20L4 18.59l7.72-7.72 1.47 1.35L5.41 20z\"/>\n",
              "  </svg>\n",
              "      </button>\n",
              "      \n",
              "  <style>\n",
              "    .colab-df-container {\n",
              "      display:flex;\n",
              "      flex-wrap:wrap;\n",
              "      gap: 12px;\n",
              "    }\n",
              "\n",
              "    .colab-df-convert {\n",
              "      background-color: #E8F0FE;\n",
              "      border: none;\n",
              "      border-radius: 50%;\n",
              "      cursor: pointer;\n",
              "      display: none;\n",
              "      fill: #1967D2;\n",
              "      height: 32px;\n",
              "      padding: 0 0 0 0;\n",
              "      width: 32px;\n",
              "    }\n",
              "\n",
              "    .colab-df-convert:hover {\n",
              "      background-color: #E2EBFA;\n",
              "      box-shadow: 0px 1px 2px rgba(60, 64, 67, 0.3), 0px 1px 3px 1px rgba(60, 64, 67, 0.15);\n",
              "      fill: #174EA6;\n",
              "    }\n",
              "\n",
              "    [theme=dark] .colab-df-convert {\n",
              "      background-color: #3B4455;\n",
              "      fill: #D2E3FC;\n",
              "    }\n",
              "\n",
              "    [theme=dark] .colab-df-convert:hover {\n",
              "      background-color: #434B5C;\n",
              "      box-shadow: 0px 1px 3px 1px rgba(0, 0, 0, 0.15);\n",
              "      filter: drop-shadow(0px 1px 2px rgba(0, 0, 0, 0.3));\n",
              "      fill: #FFFFFF;\n",
              "    }\n",
              "  </style>\n",
              "\n",
              "      <script>\n",
              "        const buttonEl =\n",
              "          document.querySelector('#df-1dbd5ea8-ba4f-49f0-9b3e-1e40b3ce9f9c button.colab-df-convert');\n",
              "        buttonEl.style.display =\n",
              "          google.colab.kernel.accessAllowed ? 'block' : 'none';\n",
              "\n",
              "        async function convertToInteractive(key) {\n",
              "          const element = document.querySelector('#df-1dbd5ea8-ba4f-49f0-9b3e-1e40b3ce9f9c');\n",
              "          const dataTable =\n",
              "            await google.colab.kernel.invokeFunction('convertToInteractive',\n",
              "                                                     [key], {});\n",
              "          if (!dataTable) return;\n",
              "\n",
              "          const docLinkHtml = 'Like what you see? Visit the ' +\n",
              "            '<a target=\"_blank\" href=https://colab.research.google.com/notebooks/data_table.ipynb>data table notebook</a>'\n",
              "            + ' to learn more about interactive tables.';\n",
              "          element.innerHTML = '';\n",
              "          dataTable['output_type'] = 'display_data';\n",
              "          await google.colab.output.renderOutput(dataTable, element);\n",
              "          const docLink = document.createElement('div');\n",
              "          docLink.innerHTML = docLinkHtml;\n",
              "          element.appendChild(docLink);\n",
              "        }\n",
              "      </script>\n",
              "    </div>\n",
              "  </div>\n",
              "  "
            ]
          },
          "metadata": {},
          "execution_count": 125
        }
      ]
    },
    {
      "cell_type": "code",
      "source": [
        "# 2.1 (c) Standardizing the Data: converting all columns to have the same range\n",
        "# Normalization of dataset\n",
        "std_scaler = StandardScaler()\n",
        "data_scaled = pd.DataFrame(std_scaler.fit_transform(newData.loc[:,~newData.columns.isin(['isFraud'])]))\n",
        "data_scaled.columns = newData.columns[:-1]\n",
        "data_scaled['isFraud'] = newData['isFraud']"
      ],
      "metadata": {
        "id": "D1uMKPzVvQaR"
      },
      "execution_count": null,
      "outputs": []
    },
    {
      "cell_type": "code",
      "source": [
        "# To validate min value of a feature has been converted. For Example:\n",
        "newData['step'].min()"
      ],
      "metadata": {
        "colab": {
          "base_uri": "https://localhost:8080/"
        },
        "id": "0GOGCbZQtpe6",
        "outputId": "52487245-28e6-47a8-be3f-dad4fe5c078a"
      },
      "execution_count": null,
      "outputs": [
        {
          "output_type": "execute_result",
          "data": {
            "text/plain": [
              "0.0"
            ]
          },
          "metadata": {},
          "execution_count": 88
        }
      ]
    },
    {
      "cell_type": "code",
      "source": [
        "# To validate max value of a feature has been converted. For Example:\n",
        "newData['step'].max()"
      ],
      "metadata": {
        "colab": {
          "base_uri": "https://localhost:8080/"
        },
        "id": "31LXlYBit5gu",
        "outputId": "7c4ea307-048a-4151-c825-1e421359a928"
      },
      "execution_count": null,
      "outputs": [
        {
          "output_type": "execute_result",
          "data": {
            "text/plain": [
              "0.9999999999999999"
            ]
          },
          "metadata": {},
          "execution_count": 89
        }
      ]
    },
    {
      "cell_type": "code",
      "source": [
        "# 2.2 - Visualize distributions\n",
        "newData.hist(bins=30, figsize=(20,30), layout=(8,3));"
      ],
      "metadata": {
        "colab": {
          "base_uri": "https://localhost:8080/",
          "height": 644
        },
        "id": "HJLeip4faeih",
        "outputId": "859a44d7-1dab-40b6-9f7e-dd3dabec9c15"
      },
      "execution_count": null,
      "outputs": [
        {
          "output_type": "display_data",
          "data": {
            "text/plain": [
              "<Figure size 1440x2160 with 24 Axes>"
            ],
            "image/png": "[encoded data removed]"
          },
          "metadata": {
            "needs_background": "light"
          }
        }
      ]
    },
    {
      "cell_type": "code",
      "source": [
        "# 2.3 - Transformation of Independent Variables with visually non-normal distributions \n",
        "normalized_df[['step', \n",
        "         'amount',\n",
        "         'oldbalanceOrg',\n",
        "         'newbalanceOrig',\n",
        "         'oldbalanceDest',\n",
        "         'newbalanceDest',\n",
        "         'isFraud']] = normalized_df[['step', \n",
        "         'amount',\n",
        "         'oldbalanceOrg',\n",
        "         'newbalanceOrig',\n",
        "         'oldbalanceDest',\n",
        "         'newbalanceDest',\n",
        "         'isFraud']].applymap(lambda x: np.log(1+x))\n",
        "\n",
        "normalized_df.describe()"
      ],
      "metadata": {
        "id": "Nq1fcFujbewB",
        "colab": {
          "base_uri": "https://localhost:8080/",
          "height": 300
        },
        "outputId": "ad2d90e9-22ab-4190-872c-f8218af33c05"
      },
      "execution_count": null,
      "outputs": [
        {
          "output_type": "execute_result",
          "data": {
            "text/plain": [
              "               step        amount  oldbalanceOrg  newbalanceOrig  \\\n",
              "count  21879.000000  21879.000000   21879.000000    21879.000000   \n",
              "mean       0.271409      0.007560       0.001104        0.000364   \n",
              "std        0.144908      0.019878       0.006662        0.005033   \n",
              "min        0.000000      0.000000       0.000000        0.000000   \n",
              "25%        0.188823      0.001944       0.000000        0.000000   \n",
              "50%        0.275462      0.004021       0.000006        0.000000   \n",
              "75%        0.370213      0.007182       0.000701        0.000000   \n",
              "max        0.693147      0.693147       0.693147        0.693147   \n",
              "\n",
              "       oldbalanceDest  newbalanceDest       isFraud  type_CASH_OUT  \\\n",
              "count    21879.000000    21879.000000  21879.000000   21879.000000   \n",
              "mean         0.010620        0.012774      0.002154       0.810046   \n",
              "std          0.022766        0.025241      0.038583       0.392273   \n",
              "min          0.000000        0.000000      0.000000       0.000000   \n",
              "25%          0.000867        0.002119      0.000000       1.000000   \n",
              "50%          0.003567        0.005284      0.000000       1.000000   \n",
              "75%          0.011085        0.013629      0.000000       1.000000   \n",
              "max          0.693147        0.693147      0.693147       1.000000   \n",
              "\n",
              "       type_TRANSFER  \n",
              "count   21879.000000  \n",
              "mean        0.189954  \n",
              "std         0.392273  \n",
              "min         0.000000  \n",
              "25%         0.000000  \n",
              "50%         0.000000  \n",
              "75%         0.000000  \n",
              "max         1.000000  "
            ],
            "text/html": [
              "\n",
              "  <div id=\"df-6f0eb071-2a0c-4e32-9c95-4a02a39d13db\">\n",
              "    <div class=\"colab-df-container\">\n",
              "      <div>\n",
              "<style scoped>\n",
              "    .dataframe tbody tr th:only-of-type {\n",
              "        vertical-align: middle;\n",
              "    }\n",
              "\n",
              "    .dataframe tbody tr th {\n",
              "        vertical-align: top;\n",
              "    }\n",
              "\n",
              "    .dataframe thead th {\n",
              "        text-align: right;\n",
              "    }\n",
              "</style>\n",
              "<table border=\"1\" class=\"dataframe\">\n",
              "  <thead>\n",
              "    <tr style=\"text-align: right;\">\n",
              "      <th></th>\n",
              "      <th>step</th>\n",
              "      <th>amount</th>\n",
              "      <th>oldbalanceOrg</th>\n",
              "      <th>newbalanceOrig</th>\n",
              "      <th>oldbalanceDest</th>\n",
              "      <th>newbalanceDest</th>\n",
              "      <th>isFraud</th>\n",
              "      <th>type_CASH_OUT</th>\n",
              "      <th>type_TRANSFER</th>\n",
              "    </tr>\n",
              "  </thead>\n",
              "  <tbody>\n",
              "    <tr>\n",
              "      <th>count</th>\n",
              "      <td>21879.000000</td>\n",
              "      <td>21879.000000</td>\n",
              "      <td>21879.000000</td>\n",
              "      <td>21879.000000</td>\n",
              "      <td>21879.000000</td>\n",
              "      <td>21879.000000</td>\n",
              "      <td>21879.000000</td>\n",
              "      <td>21879.000000</td>\n",
              "      <td>21879.000000</td>\n",
              "    </tr>\n",
              "    <tr>\n",
              "      <th>mean</th>\n",
              "      <td>0.271409</td>\n",
              "      <td>0.007560</td>\n",
              "      <td>0.001104</td>\n",
              "      <td>0.000364</td>\n",
              "      <td>0.010620</td>\n",
              "      <td>0.012774</td>\n",
              "      <td>0.002154</td>\n",
              "      <td>0.810046</td>\n",
              "      <td>0.189954</td>\n",
              "    </tr>\n",
              "    <tr>\n",
              "      <th>std</th>\n",
              "      <td>0.144908</td>\n",
              "      <td>0.019878</td>\n",
              "      <td>0.006662</td>\n",
              "      <td>0.005033</td>\n",
              "      <td>0.022766</td>\n",
              "      <td>0.025241</td>\n",
              "      <td>0.038583</td>\n",
              "      <td>0.392273</td>\n",
              "      <td>0.392273</td>\n",
              "    </tr>\n",
              "    <tr>\n",
              "      <th>min</th>\n",
              "      <td>0.000000</td>\n",
              "      <td>0.000000</td>\n",
              "      <td>0.000000</td>\n",
              "      <td>0.000000</td>\n",
              "      <td>0.000000</td>\n",
              "      <td>0.000000</td>\n",
              "      <td>0.000000</td>\n",
              "      <td>0.000000</td>\n",
              "      <td>0.000000</td>\n",
              "    </tr>\n",
              "    <tr>\n",
              "      <th>25%</th>\n",
              "      <td>0.188823</td>\n",
              "      <td>0.001944</td>\n",
              "      <td>0.000000</td>\n",
              "      <td>0.000000</td>\n",
              "      <td>0.000867</td>\n",
              "      <td>0.002119</td>\n",
              "      <td>0.000000</td>\n",
              "      <td>1.000000</td>\n",
              "      <td>0.000000</td>\n",
              "    </tr>\n",
              "    <tr>\n",
              "      <th>50%</th>\n",
              "      <td>0.275462</td>\n",
              "      <td>0.004021</td>\n",
              "      <td>0.000006</td>\n",
              "      <td>0.000000</td>\n",
              "      <td>0.003567</td>\n",
              "      <td>0.005284</td>\n",
              "      <td>0.000000</td>\n",
              "      <td>1.000000</td>\n",
              "      <td>0.000000</td>\n",
              "    </tr>\n",
              "    <tr>\n",
              "      <th>75%</th>\n",
              "      <td>0.370213</td>\n",
              "      <td>0.007182</td>\n",
              "      <td>0.000701</td>\n",
              "      <td>0.000000</td>\n",
              "      <td>0.011085</td>\n",
              "      <td>0.013629</td>\n",
              "      <td>0.000000</td>\n",
              "      <td>1.000000</td>\n",
              "      <td>0.000000</td>\n",
              "    </tr>\n",
              "    <tr>\n",
              "      <th>max</th>\n",
              "      <td>0.693147</td>\n",
              "      <td>0.693147</td>\n",
              "      <td>0.693147</td>\n",
              "      <td>0.693147</td>\n",
              "      <td>0.693147</td>\n",
              "      <td>0.693147</td>\n",
              "      <td>0.693147</td>\n",
              "      <td>1.000000</td>\n",
              "      <td>1.000000</td>\n",
              "    </tr>\n",
              "  </tbody>\n",
              "</table>\n",
              "</div>\n",
              "      <button class=\"colab-df-convert\" onclick=\"convertToInteractive('df-6f0eb071-2a0c-4e32-9c95-4a02a39d13db')\"\n",
              "              title=\"Convert this dataframe to an interactive table.\"\n",
              "              style=\"display:none;\">\n",
              "        \n",
              "  <svg xmlns=\"http://www.w3.org/2000/svg\" height=\"24px\"viewBox=\"0 0 24 24\"\n",
              "       width=\"24px\">\n",
              "    <path d=\"M0 0h24v24H0V0z\" fill=\"none\"/>\n",
              "    <path d=\"M18.56 5.44l.94 2.06.94-2.06 2.06-.94-2.06-.94-.94-2.06-.94 2.06-2.06.94zm-11 1L8.5 8.5l.94-2.06 2.06-.94-2.06-.94L8.5 2.5l-.94 2.06-2.06.94zm10 10l.94 2.06.94-2.06 2.06-.94-2.06-.94-.94-2.06-.94 2.06-2.06.94z\"/><path d=\"M17.41 7.96l-1.37-1.37c-.4-.4-.92-.59-1.43-.59-.52 0-1.04.2-1.43.59L10.3 9.45l-7.72 7.72c-.78.78-.78 2.05 0 2.83L4 21.41c.39.39.9.59 1.41.59.51 0 1.02-.2 1.41-.59l7.78-7.78 2.81-2.81c.8-.78.8-2.07 0-2.86zM5.41 20L4 18.59l7.72-7.72 1.47 1.35L5.41 20z\"/>\n",
              "  </svg>\n",
              "      </button>\n",
              "      \n",
              "  <style>\n",
              "    .colab-df-container {\n",
              "      display:flex;\n",
              "      flex-wrap:wrap;\n",
              "      gap: 12px;\n",
              "    }\n",
              "\n",
              "    .colab-df-convert {\n",
              "      background-color: #E8F0FE;\n",
              "      border: none;\n",
              "      border-radius: 50%;\n",
              "      cursor: pointer;\n",
              "      display: none;\n",
              "      fill: #1967D2;\n",
              "      height: 32px;\n",
              "      padding: 0 0 0 0;\n",
              "      width: 32px;\n",
              "    }\n",
              "\n",
              "    .colab-df-convert:hover {\n",
              "      background-color: #E2EBFA;\n",
              "      box-shadow: 0px 1px 2px rgba(60, 64, 67, 0.3), 0px 1px 3px 1px rgba(60, 64, 67, 0.15);\n",
              "      fill: #174EA6;\n",
              "    }\n",
              "\n",
              "    [theme=dark] .colab-df-convert {\n",
              "      background-color: #3B4455;\n",
              "      fill: #D2E3FC;\n",
              "    }\n",
              "\n",
              "    [theme=dark] .colab-df-convert:hover {\n",
              "      background-color: #434B5C;\n",
              "      box-shadow: 0px 1px 3px 1px rgba(0, 0, 0, 0.15);\n",
              "      filter: drop-shadow(0px 1px 2px rgba(0, 0, 0, 0.3));\n",
              "      fill: #FFFFFF;\n",
              "    }\n",
              "  </style>\n",
              "\n",
              "      <script>\n",
              "        const buttonEl =\n",
              "          document.querySelector('#df-6f0eb071-2a0c-4e32-9c95-4a02a39d13db button.colab-df-convert');\n",
              "        buttonEl.style.display =\n",
              "          google.colab.kernel.accessAllowed ? 'block' : 'none';\n",
              "\n",
              "        async function convertToInteractive(key) {\n",
              "          const element = document.querySelector('#df-6f0eb071-2a0c-4e32-9c95-4a02a39d13db');\n",
              "          const dataTable =\n",
              "            await google.colab.kernel.invokeFunction('convertToInteractive',\n",
              "                                                     [key], {});\n",
              "          if (!dataTable) return;\n",
              "\n",
              "          const docLinkHtml = 'Like what you see? Visit the ' +\n",
              "            '<a target=\"_blank\" href=https://colab.research.google.com/notebooks/data_table.ipynb>data table notebook</a>'\n",
              "            + ' to learn more about interactive tables.';\n",
              "          element.innerHTML = '';\n",
              "          dataTable['output_type'] = 'display_data';\n",
              "          await google.colab.output.renderOutput(dataTable, element);\n",
              "          const docLink = document.createElement('div');\n",
              "          docLink.innerHTML = docLinkHtml;\n",
              "          element.appendChild(docLink);\n",
              "        }\n",
              "      </script>\n",
              "    </div>\n",
              "  </div>\n",
              "  "
            ]
          },
          "metadata": {},
          "execution_count": 91
        }
      ]
    },
    {
      "cell_type": "code",
      "source": [
        "# Visualize distributions\n",
        "normalized_df.hist(bins=30, figsize=(20,30), layout=(8,3));"
      ],
      "metadata": {
        "colab": {
          "base_uri": "https://localhost:8080/",
          "height": 644
        },
        "id": "cX7uLqaOboGK",
        "outputId": "04008ec5-37de-457b-d8c4-05a4a04c5407"
      },
      "execution_count": null,
      "outputs": [
        {
          "output_type": "display_data",
          "data": {
            "text/plain": [
              "<Figure size 1440x2160 with 24 Axes>"
            ],
            "image/png": "[encoded data removed]"
          },
          "metadata": {
            "needs_background": "light"
          }
        }
      ]
    },
    {
      "cell_type": "markdown",
      "source": [
        "**3. Create Train and Test Datasets**"
      ],
      "metadata": {
        "id": "Prw-Ul8Ft2Ml"
      }
    },
    {
      "cell_type": "code",
      "source": [
        "# 3.1 - Split the scaled cleaned dataset into 70%  training and 30% testing datasets\n",
        "# https://www.datacamp.com/tutorial/understanding-logistic-regression-python\n",
        "# Model building in Scikit-learn\n",
        "# Split dataset into feature (independant variable) and target variable (isFraud)\n",
        "feature_cols = ['step','amount','oldbalanceOrg','newbalanceOrig','oldbalanceDest','newbalanceDest','type_CASH_OUT','type_TRANSFER']\n",
        "X = newData[feature_cols] # Features\n",
        "y = newData.isFraud # Target variable\n",
        "\n",
        "# Split X and y into training and testing datasets\n",
        "from sklearn.model_selection import train_test_split\n",
        "X_train,X_test,y_train,y_test=train_test_split(X,y,test_size=0.3,random_state=0)"
      ],
      "metadata": {
        "id": "hML7yQk9FxWJ"
      },
      "execution_count": null,
      "outputs": []
    },
    {
      "cell_type": "code",
      "source": [
        "# 3.2 - SMOT\n",
        "# https://towardsdatascience.com/methods-for-dealing-with-imbalanced-data-5b761be45a18\n",
        "from sklearn.utils import resample\n",
        "from imblearn.over_sampling import SMOTE\n",
        "\n",
        "oversample = SMOTE()\n",
        "X, y = oversample.fit_resample(X, y)\n",
        "\n",
        "sm = SMOTE(random_state=25, sampling_strategy=1.0)\n",
        "X_train, y_train = sm.fit_resample(X_train, y_train)"
      ],
      "metadata": {
        "id": "fVUOeIIgFz3c"
      },
      "execution_count": null,
      "outputs": []
    },
    {
      "cell_type": "markdown",
      "source": [
        "**4. Setup Random Forest Model**"
      ],
      "metadata": {
        "id": "WZ2H_qz3EcSq"
      }
    },
    {
      "cell_type": "code",
      "source": [
        "# 4.1 - Import and setup Random Forest Model\n",
        "from sklearn.ensemble import RandomForestClassifier\n",
        "from sklearn.ensemble import RandomForestRegressor# Instantiate model with 1000 decision trees\n",
        "rf = RandomForestClassifier(n_estimators = 100, criterion = 'entropy')# Train the model on training data\n",
        "rf.fit(X_train, y_train)\n",
        "prediction_test = rf.predict(X=X_test)\n",
        "#Y_pred = model.predict_generator(test_generator)\n",
        "#y_pred = np.argmax(Y_pred, axis=1)\n",
        "\n",
        "#Accuracy on Test\n",
        "#print(\"Training Accuracy is: \", rf.score(X_train, y_train))\n",
        "#Accuracy on Train\n",
        "#print(\"Testing Accuracy is: \", rf.score(X_test, y_test))\n",
        "\n",
        "#Conusion Matrix\n",
        "from sklearn.metrics import confusion_matrix\n",
        "from sklearn.metrics import plot_confusion_matrix\n",
        "#cm = confusion_matrix(y_test, prediction_test)\n",
        "#cm_norm = cm/cm.sum(axis=1)[:, np.newaxis]\n",
        "#plt.figure()\n",
        "#plot_confusion_matrix(cm_norm, classes=rf.classes_)\n",
        "\n",
        "#cm = confusion_matrix(test_generator.classes, y_pred)\n",
        "#plot_consution_matrix(X = test_generator.classes, y_true = y_pred,labels= category_names, normalize=False)"
      ],
      "metadata": {
        "id": "1tAndYAsEPhQ"
      },
      "execution_count": null,
      "outputs": []
    },
    {
      "cell_type": "code",
      "source": [
        "# 4.2 - Import the metrics class\n",
        "from sklearn import metrics\n",
        "y_pred = classifier.predict(X_test)\n",
        "cnf_matrix = metrics.confusion_matrix(y_test, y_pred)\n",
        "cnf_matrix"
      ],
      "metadata": {
        "colab": {
          "base_uri": "https://localhost:8080/"
        },
        "id": "ZBdjXjCtG6Zs",
        "outputId": "ee5bfe3d-09ea-4c9d-8713-6c35b93199fd"
      },
      "execution_count": null,
      "outputs": [
        {
          "output_type": "execute_result",
          "data": {
            "text/plain": [
              "array([[6534,   10],\n",
              "       [   5,   15]])"
            ]
          },
          "metadata": {},
          "execution_count": 131
        }
      ]
    },
    {
      "cell_type": "code",
      "source": [
        "# 4.3 - Visualizing Confusion Matrix using Heatmap\n",
        "class_names=[0,1] # name  of classes\n",
        "fig, ax = plt.subplots()\n",
        "tick_marks = np.arange(len(class_names))\n",
        "plt.xticks(tick_marks, class_names)\n",
        "plt.yticks(tick_marks, class_names)\n",
        "# create heatmap\n",
        "sns.heatmap(pd.DataFrame(cnf_matrix), annot=True, cmap=\"PiYG\" ,fmt='g')\n",
        "ax.xaxis.set_label_position(\"top\")\n",
        "plt.tight_layout()\n",
        "plt.title('Confusion matrix', y=1.1)\n",
        "plt.ylabel('Actual label')\n",
        "plt.xlabel('Predicted label')"
      ],
      "metadata": {
        "colab": {
          "base_uri": "https://localhost:8080/",
          "height": 342
        },
        "id": "oY0F-KfXHsn3",
        "outputId": "0c415b72-1f3f-4f77-eb1d-1e9f4b80564d"
      },
      "execution_count": null,
      "outputs": [
        {
          "output_type": "execute_result",
          "data": {
            "text/plain": [
              "Text(0.5, 257.44, 'Predicted label')"
            ]
          },
          "metadata": {},
          "execution_count": 132
        },
        {
          "output_type": "display_data",
          "data": {
            "text/plain": [
              "<Figure size 432x288 with 2 Axes>"
            ],
            "image/png": "[encoded data removed]"
          },
          "metadata": {
            "needs_background": "light"
          }
        }
      ]
    },
    {
      "cell_type": "code",
      "source": [
        "#Confusion Matrix Evaluation Metrics:  classification rate of 80%, considered as good accuracy.\n",
        "print(\"Accuracy:\",metrics.accuracy_score(y_test, y_pred))\n",
        "print(\"Precision:\",metrics.precision_score(y_test, y_pred))\n",
        "print(\"Recall:\",metrics.recall_score(y_test, y_pred))\n",
        "\n",
        "#Well, you got a classification rate of 80%, considered as good accuracy.\n",
        "#Precision: Precision is about being precise, i.e., how accurate your model is. In other words, you can say, when a model makes a prediction, how often it is correct. In your prediction case, when your Logistic Regression model predicted patients are going to suffer from diabetes, that patients have 76% of the time.\n",
        "#Recall: If there are patients who have diabetes in the test set and your Logistic Regression model can identify it 58% of the time."
      ],
      "metadata": {
        "colab": {
          "base_uri": "https://localhost:8080/"
        },
        "id": "8POSP3lqHdqJ",
        "outputId": "65e6a629-5677-48f2-f456-215f99ace79a"
      },
      "execution_count": null,
      "outputs": [
        {
          "output_type": "stream",
          "name": "stdout",
          "text": [
            "Accuracy: 0.9977148080438757\n",
            "Precision: 0.6\n",
            "Recall: 0.75\n"
          ]
        }
      ]
    },
    {
      "cell_type": "markdown",
      "source": [
        "**5. Model Evaluation & Validation (TBD)**"
      ],
      "metadata": {
        "id": "EKwc4MLdNEjZ"
      }
    },
    {
      "cell_type": "code",
      "source": [
        "# 5.1 - Calculate Evaluation Metrics \n",
        "from sklearn import metrics\n",
        "print('MAE', metrics.mean_absolute_error(y_test, y_pred))\n",
        "print('R^2', metrics.r2_score(y_test, y_pred))\n",
        "print('RMSE', metrics.mean_squared_error(y_test, y_pred))"
      ],
      "metadata": {
        "id": "s-lLi39YNJBK",
        "outputId": "f6d3399c-7d6a-41d0-c148-f1b2f83ec423",
        "colab": {
          "base_uri": "https://localhost:8080/"
        }
      },
      "execution_count": null,
      "outputs": [
        {
          "output_type": "stream",
          "name": "stdout",
          "text": [
            "MAE 0.0022851919561243145\n",
            "R^2 0.24770782396088042\n",
            "RMSE 0.0022851919561243145\n"
          ]
        }
      ]
    },
    {
      "cell_type": "code",
      "source": [
        "# 5.2 - Plot residuals to determine variance \n",
        "residuals = y_pred - y_test \n",
        "sns.regplot(y=y_pred, x=residuals, lowess=True)\n",
        "plt.title(\"Variance of Residuals vs Predictors\")\n",
        "plt.ylabel(\"Residuals\")\n",
        "plt.xlabel(\"Fitted Values\")\n",
        "plt.show()"
      ],
      "metadata": {
        "id": "e9UhxpEiNM1C",
        "outputId": "9fc77ca3-8c15-48c1-9546-153f0515f23c",
        "colab": {
          "base_uri": "https://localhost:8080/",
          "height": 330
        }
      },
      "execution_count": null,
      "outputs": [
        {
          "output_type": "stream",
          "name": "stderr",
          "text": [
            "/usr/local/lib/python3.7/dist-packages/statsmodels/nonparametric/smoothers_lowess.py:165: RuntimeWarning: invalid value encountered in true_divide\n",
            "  res = _lowess(y, x, frac=frac, it=it, delta=delta)\n"
          ]
        },
        {
          "output_type": "display_data",
          "data": {
            "text/plain": [
              "<Figure size 432x288 with 1 Axes>"
            ],
            "image/png": "[encoded data removed]"
          },
          "metadata": {
            "needs_background": "light"
          }
        }
      ]
    },
    {
      "cell_type": "markdown",
      "source": [
        "*****Extra Codes for Reference**"
      ],
      "metadata": {
        "id": "_fG-bKpFF8pi"
      }
    },
    {
      "cell_type": "code",
      "source": [
        "# Version 1: Create Train and Test Datasets: 70% for training and 30% for testing\n",
        "# Check https://www.youtube.com/watch?v=sFVxFCYiIQI (16:20) Splitting Raw Data - X = exclude isFraud, y = isFraud only\n",
        "from sklearn.model_selection import KFold, cross_val_score, train_test_split\n",
        "from sklearn.preprocessing import LabelEncoder\n",
        "X = data_scaled.loc[:, data_scaled.columns != 'isFraud']\n",
        "y = data_scaled.loc[:, data_scaled.columns == 'isFraud']\n",
        "\n",
        "X_train_original, X_test_original, y_train_original, y_test_original = train_test_split(X,y,test_size = 0.3, random_state = 0)\n",
        "\n",
        "label_encoder = LabelEncoder()\n",
        "y_train_original = label_encoder.fit_transform(y_train_original.values.ravel())\n",
        "y_test_original = label_encoder.fit_transform(y_test_original.values.ravel())"
      ],
      "metadata": {
        "id": "iNUoiwpnYgCQ"
      },
      "execution_count": null,
      "outputs": []
    },
    {
      "cell_type": "code",
      "source": [
        "print('X shape:{}'.format(np.shape(X)))\n",
        "print('y shape: {}'.format(np.shape(y)))"
      ],
      "metadata": {
        "colab": {
          "base_uri": "https://localhost:8080/"
        },
        "id": "t-bNEaPpsrUT",
        "outputId": "53828828-b20d-4e00-be44-7b3ebe82ec36"
      },
      "execution_count": null,
      "outputs": [
        {
          "output_type": "stream",
          "name": "stdout",
          "text": [
            "X shape:(21879, 7)\n",
            "y shape: (21879, 1)\n"
          ]
        }
      ]
    },
    {
      "cell_type": "code",
      "source": [
        "# Version 2: Check https://www.youtube.com/watch?v=sFVxFCYiIQI (16:20) Splitting Raw Data - X = exclude isFraud, y = isFraud only\n",
        "from sklearn.model_selection import train_test_split\n",
        "X = newData.drop('isFraud', axis=1).values\n",
        "y = newData['isFraud'].values\n",
        "print('X shape:{}'.format(np.shape(X)))\n",
        "print('y shape: {}'.format(np.shape(y)))\n",
        "\n",
        "X_train, X_test, y_train, y_test = train_test_split(X, y, train_size = 0.7, test_size = 0.3, random_state = 0)"
      ],
      "metadata": {
        "colab": {
          "base_uri": "https://localhost:8080/"
        },
        "id": "wUh1a5Ckvw30",
        "outputId": "4c27ee9e-9eeb-4874-a3e4-84877c894a9c"
      },
      "execution_count": null,
      "outputs": [
        {
          "output_type": "stream",
          "name": "stdout",
          "text": [
            "X shape:(21879, 8)\n",
            "y shape: (21879,)\n"
          ]
        }
      ]
    },
    {
      "cell_type": "code",
      "source": [
        "# 6. Check class imbalance in Train and Test Datasets\n",
        "#Class Imbalance - Percentage Frequency\n",
        "dFraud = pd.DataFrame(y_train, columns= ['isFraud'])\n",
        "# Percentage calculation\n",
        "(dFraud['isFraud'].value_counts()/dFraud['isFraud'].count())*100"
      ],
      "metadata": {
        "colab": {
          "base_uri": "https://localhost:8080/"
        },
        "id": "9dVaHmxvdDi2",
        "outputId": "9b718263-696b-4279-b216-35002a8d7b57"
      },
      "execution_count": null,
      "outputs": [
        {
          "output_type": "execute_result",
          "data": {
            "text/plain": [
              "0.0    50.0\n",
              "1.0    50.0\n",
              "Name: isFraud, dtype: float64"
            ]
          },
          "metadata": {},
          "execution_count": 109
        }
      ]
    },
    {
      "cell_type": "code",
      "source": [
        "#Class Imbalance - Percentage Frequency\n",
        "dFraud = pd.DataFrame(y_test, columns= ['isFraud'])\n",
        "# Percentage calculation\n",
        "(dFraud['isFraud'].value_counts()/dFraud['isFraud'].count())*100"
      ],
      "metadata": {
        "colab": {
          "base_uri": "https://localhost:8080/"
        },
        "id": "bnUaUh1wgFq6",
        "outputId": "515f6b44-f724-421c-8a55-bd82c2cfe69d"
      },
      "execution_count": null,
      "outputs": [
        {
          "output_type": "execute_result",
          "data": {
            "text/plain": [
              "0.0    99.695308\n",
              "1.0     0.304692\n",
              "Name: isFraud, dtype: float64"
            ]
          },
          "metadata": {},
          "execution_count": 110
        }
      ]
    },
    {
      "cell_type": "markdown",
      "source": [
        "**Classification Models for Fraud Detection**"
      ],
      "metadata": {
        "id": "4JjTOsA0hF8B"
      }
    },
    {
      "cell_type": "code",
      "source": [
        "# Defining the Models: Random Forest\n",
        "from sklearn.ensemble import RandomForestClassifier\n",
        "accuracy_dict = {}\n",
        "model_rf = RandomForestClassifier()"
      ],
      "metadata": {
        "id": "mFhoj5XxhBSh"
      },
      "execution_count": null,
      "outputs": []
    },
    {
      "cell_type": "code",
      "source": [
        "# Stratified 5-fold cross-validation: to ensure models do not overfit the training data\n",
        "from sklearn.model_selection import StratifiedKFold\n",
        "skf = StratifiedKFold(5)"
      ],
      "metadata": {
        "id": "8jN1FlCBrieH"
      },
      "execution_count": null,
      "outputs": []
    },
    {
      "cell_type": "code",
      "source": [
        "# import the metrics class\n",
        "from sklearn import metrics\n",
        "cnf_matrix = metrics.confusion_matrix(y_test, y_pred)\n",
        "cnf_matrix"
      ],
      "metadata": {
        "colab": {
          "base_uri": "https://localhost:8080/"
        },
        "id": "LnAe_HktHK8v",
        "outputId": "f301e8d9-9e50-4b37-c58a-634f3b68956b"
      },
      "execution_count": null,
      "outputs": [
        {
          "output_type": "execute_result",
          "data": {
            "text/plain": [
              "array([[5863,  681],\n",
              "       [   6,   14]])"
            ]
          },
          "metadata": {},
          "execution_count": 105
        }
      ]
    },
    {
      "cell_type": "code",
      "source": [
        "#Visualizing Confusion Matrix using Heatmap\n",
        "class_names=[0,1] # name  of classes\n",
        "fig, ax = plt.subplots()\n",
        "tick_marks = np.arange(len(class_names))\n",
        "plt.xticks(tick_marks, class_names)\n",
        "plt.yticks(tick_marks, class_names)\n",
        "# create heatmap\n",
        "sns.heatmap(pd.DataFrame(cnf_matrix), annot=True, cmap=\"YlGnBu\" ,fmt='g')\n",
        "ax.xaxis.set_label_position(\"top\")\n",
        "plt.tight_layout()\n",
        "plt.title('Confusion matrix', y=1.1)\n",
        "plt.ylabel('Actual label')\n",
        "plt.xlabel('Predicted label')"
      ],
      "metadata": {
        "colab": {
          "base_uri": "https://localhost:8080/",
          "height": 342
        },
        "id": "F2W_P9X9HSLu",
        "outputId": "fd190682-07a9-4295-c311-bf88a959bcb3"
      },
      "execution_count": null,
      "outputs": [
        {
          "output_type": "execute_result",
          "data": {
            "text/plain": [
              "Text(0.5, 257.44, 'Predicted label')"
            ]
          },
          "metadata": {},
          "execution_count": 106
        },
        {
          "output_type": "display_data",
          "data": {
            "text/plain": [
              "<Figure size 432x288 with 2 Axes>"
            ],
            "image/png": "[encoded data removed]"
          },
          "metadata": {
            "needs_background": "light"
          }
        }
      ]
    },
    {
      "cell_type": "markdown",
      "source": [
        "**Random Forrest - Version #1**"
      ],
      "metadata": {
        "id": "aOLfnIozIIOF"
      }
    },
    {
      "cell_type": "code",
      "source": [
        "# 4.2 - Testing the Model\n",
        "y_pred = classifier.predict(X_test)\n",
        "\n",
        "# importing accuracy score\n",
        "from sklearn.metrics import accuracy_score\n",
        "\n",
        "# printing the accuracy of the model\n",
        "print(accuracy_score(y_test, y_pred))\n",
        "\n",
        "#Accuracy on Test\n",
        "print(\"Training Accuracy is: \", rf.score(X_train, y_train))\n",
        "#Accuracy on Train\n",
        "print(\"Testing Accuracy is: \", rf.score(X_test, y_test))"
      ],
      "metadata": {
        "colab": {
          "base_uri": "https://localhost:8080/"
        },
        "id": "mVGIVGM1vMZB",
        "outputId": "a98b886c-5e53-4c25-9f74-584c53c5e166"
      },
      "execution_count": null,
      "outputs": [
        {
          "output_type": "stream",
          "name": "stdout",
          "text": [
            "0.9977148080438757\n",
            "Training Accuracy is:  1.0\n",
            "Testing Accuracy is:  0.9974101157830592\n"
          ]
        }
      ]
    },
    {
      "cell_type": "code",
      "source": [
        "#Conusion Matrix\n",
        "def plot_confusion_matrix(cm, classes=None, title='Confusion Matrix'):\n",
        "  if classes is not None:\n",
        "    sns.heatmap(cm, xticklables=classes, yticklables=classes, vmin=0., vmax=1., annot=True, annot_kws={'size':50})\n",
        "  else:\n",
        "    sns.heatmap(cm, vmin=1., vmax=1.)\n",
        "  plt.title(title)\n",
        "  plt.ylable('True Label')\n",
        "  plt.xlabel('Predicted Label')\n",
        "\n",
        "y_pred = rf.predict(X_train)\n",
        "cm = confusion_matrix(y_test, prediction_test)\n",
        "cm\n",
        "#cm_norm = cm/cm.sum(axis=1)[:, np.newaxis]\n",
        "#plt.figure()\n",
        "#plot_confusion_matrix(cm_norm, classes=rf.classes_, title=\"Training Confusion\")"
      ],
      "metadata": {
        "colab": {
          "base_uri": "https://localhost:8080/"
        },
        "id": "vorlij9ncrYc",
        "outputId": "c95d61ea-6418-4c54-82ad-b44b57f740f4"
      },
      "execution_count": null,
      "outputs": [
        {
          "output_type": "execute_result",
          "data": {
            "text/plain": [
              "array([[6534,   10],\n",
              "       [   5,   15]])"
            ]
          },
          "metadata": {},
          "execution_count": 73
        }
      ]
    },
    {
      "cell_type": "markdown",
      "source": [
        "**Random Forrest - Version #2**"
      ],
      "metadata": {
        "id": "dYPdlzpvnpgB"
      }
    },
    {
      "cell_type": "code",
      "source": [
        "#Random Forrest: Version 2 https://towardsdatascience.com/random-forest-in-python-24d0893d51c0\n",
        "\n",
        "# Labels are the values we want to predict\n",
        "#labels = np.array(features['actual'])\n",
        "# Remove the labels from the features\n",
        "# axis 1 refers to the columns\n",
        "#features= features.drop('actual', axis = 1)\n",
        "# Saving feature names for later use\n",
        "#feature_list = list(features.columns)\n",
        "# Convert to numpy array\n",
        "#features = np.array(features)\n",
        "\n",
        "#Should be same as Logistic Regression\n",
        "feature_cols = ['step','amount','oldbalanceOrg','newbalanceOrig','oldbalanceDest','newbalanceDest','type_CASH_OUT','type_TRANSFER']\n",
        "X = newData[feature_cols] # Features\n",
        "y = newData.isFraud # Target variable / Labels\n",
        "\n",
        "# split X and y into training and testing sets\n",
        "from sklearn.model_selection import train_test_split\n",
        "X_train,X_test,y_train,y_test=train_test_split(X,y,test_size=0.3,random_state=0)\n",
        "\n",
        "print('Training Features Shape:', X_train.shape)\n",
        "print('Training Labels Shape:', y_train.shape)\n",
        "print('Testing Features Shape:', X_test.shape)\n",
        "print('Testing Labels Shape:', y_test.shape)"
      ],
      "metadata": {
        "colab": {
          "base_uri": "https://localhost:8080/"
        },
        "id": "D2lH2mzQk4bd",
        "outputId": "1495a7b0-b8d3-446e-f009-bf8417f39d96"
      },
      "execution_count": null,
      "outputs": [
        {
          "output_type": "stream",
          "name": "stdout",
          "text": [
            "Training Features Shape: (15315, 8)\n",
            "Training Labels Shape: (15315,)\n",
            "Testing Features Shape: (6564, 8)\n",
            "Testing Labels Shape: (6564,)\n"
          ]
        }
      ]
    },
    {
      "cell_type": "code",
      "source": [
        "from sklearn.ensemble import RandomForestRegressor\n",
        "# Instantiate model with 1000 decision trees\n",
        "rf = RandomForestRegressor(n_estimators = 100, random_state = 42)\n",
        "# Train the model on training data\n",
        "rf.fit(X_train, y_train);"
      ],
      "metadata": {
        "id": "upPzSvdznnqC"
      },
      "execution_count": null,
      "outputs": []
    },
    {
      "cell_type": "code",
      "source": [
        "# Use the forest's predict method on the test data\n",
        "predictions = rf.predict(X_test)\n",
        "# Calculate the absolute errors\n",
        "errors = abs(predictions - y_test)\n",
        "# Print out the mean absolute error (mae)\n",
        "print('Mean Absolute Error:', round(np.mean(errors), 2), 'degrees.')\n",
        "\n",
        "# Calculate mean absolute percentage error (MAPE)\n",
        "mape = 100 * (errors / y_test)\n",
        "# Calculate and display accuracy\n",
        "accuracy = 100 - np.mean(mape)\n",
        "print('Accuracy:', round(accuracy, 2), '%.')"
      ],
      "metadata": {
        "colab": {
          "base_uri": "https://localhost:8080/"
        },
        "id": "8jveFxZ0pem7",
        "outputId": "315a4bd8-6b0b-4a62-976c-d9bd598512f4"
      },
      "execution_count": null,
      "outputs": [
        {
          "output_type": "stream",
          "name": "stdout",
          "text": [
            "Mean Absolute Error: 0.0 degrees.\n",
            "Accuracy: -inf %.\n"
          ]
        }
      ]
    },
    {
      "cell_type": "markdown",
      "source": [
        "**Random Forrest - Verstion #3**"
      ],
      "metadata": {
        "id": "ji_3w64Butnz"
      }
    },
    {
      "cell_type": "code",
      "source": [
        "# https://hands-on.cloud/implementation-of-random-forest-algorithm-using-python/\n",
        "# import Random Forest classifier\n",
        "from sklearn.ensemble import RandomForestClassifier\n",
        "\n",
        "# instantiate the classifier \n",
        "classifier = RandomForestClassifier()\n",
        "\n",
        "# fit the model\n",
        "classifier.fit(X_train, y_train)"
      ],
      "metadata": {
        "colab": {
          "base_uri": "https://localhost:8080/"
        },
        "id": "OgEgByTMrbUu",
        "outputId": "a49f05a9-e532-4fcc-e160-8a05cc17d57b"
      },
      "execution_count": null,
      "outputs": [
        {
          "output_type": "execute_result",
          "data": {
            "text/plain": [
              "RandomForestClassifier()"
            ]
          },
          "metadata": {},
          "execution_count": 38
        }
      ]
    },
    {
      "cell_type": "code",
      "source": [
        "# predicting the outcome\n",
        "#y_output = classifier.predict([[1, 333,44,55,6666,77777 19.43]])\n",
        "\n",
        "# printing the output\n",
        "#print(y_output)"
      ],
      "metadata": {
        "id": "2NKQaSmVvAlv"
      },
      "execution_count": null,
      "outputs": []
    },
    {
      "cell_type": "code",
      "source": [
        "#Visualizing Confusion Matrix\n",
        "# importing the required modules\n",
        "import matplotlib.pyplot as plt\n",
        "from sklearn.metrics import confusion_matrix, ConfusionMatrixDisplay\n",
        "\n",
        "# Plot the confusion matrix in graph\n",
        "cm = confusion_matrix(y_test,y_pred, labels=classifier.classes_)\n",
        "\n",
        "# ploting with labels\n",
        "disp = ConfusionMatrixDisplay(confusion_matrix=cm, display_labels=classifier.classes_)\n",
        "disp.plot()\n",
        "\n",
        "# showing the matrix\n",
        "plt.show()"
      ],
      "metadata": {
        "colab": {
          "base_uri": "https://localhost:8080/",
          "height": 380
        },
        "id": "AkcoGizkvVGD",
        "outputId": "66b65fad-93b7-4ee0-9e79-c11d49e107dd"
      },
      "execution_count": null,
      "outputs": [
        {
          "output_type": "error",
          "ename": "ValueError",
          "evalue": "ignored",
          "traceback": [
            "\u001b[0;31m---------------------------------------------------------------------------\u001b[0m",
            "\u001b[0;31mValueError\u001b[0m                                Traceback (most recent call last)",
            "\u001b[0;32m<ipython-input-40-dfe975c1036d>\u001b[0m in \u001b[0;36m<module>\u001b[0;34m()\u001b[0m\n\u001b[1;32m      5\u001b[0m \u001b[0;34m\u001b[0m\u001b[0m\n\u001b[1;32m      6\u001b[0m \u001b[0;31m# Plot the confusion matrix in graph\u001b[0m\u001b[0;34m\u001b[0m\u001b[0;34m\u001b[0m\u001b[0;34m\u001b[0m\u001b[0m\n\u001b[0;32m----> 7\u001b[0;31m \u001b[0mcm\u001b[0m \u001b[0;34m=\u001b[0m \u001b[0mconfusion_matrix\u001b[0m\u001b[0;34m(\u001b[0m\u001b[0my_test\u001b[0m\u001b[0;34m,\u001b[0m\u001b[0my_pred\u001b[0m\u001b[0;34m,\u001b[0m \u001b[0mlabels\u001b[0m\u001b[0;34m=\u001b[0m\u001b[0mclassifier\u001b[0m\u001b[0;34m.\u001b[0m\u001b[0mclasses_\u001b[0m\u001b[0;34m)\u001b[0m\u001b[0;34m\u001b[0m\u001b[0;34m\u001b[0m\u001b[0m\n\u001b[0m\u001b[1;32m      8\u001b[0m \u001b[0;34m\u001b[0m\u001b[0m\n\u001b[1;32m      9\u001b[0m \u001b[0;31m# ploting with labels\u001b[0m\u001b[0;34m\u001b[0m\u001b[0;34m\u001b[0m\u001b[0;34m\u001b[0m\u001b[0m\n",
            "\u001b[0;32m/usr/local/lib/python3.7/dist-packages/sklearn/metrics/_classification.py\u001b[0m in \u001b[0;36mconfusion_matrix\u001b[0;34m(y_true, y_pred, labels, sample_weight, normalize)\u001b[0m\n\u001b[1;32m    305\u001b[0m     \u001b[0;34m(\u001b[0m\u001b[0;36m0\u001b[0m\u001b[0;34m,\u001b[0m \u001b[0;36m2\u001b[0m\u001b[0;34m,\u001b[0m \u001b[0;36m1\u001b[0m\u001b[0;34m,\u001b[0m \u001b[0;36m1\u001b[0m\u001b[0;34m)\u001b[0m\u001b[0;34m\u001b[0m\u001b[0;34m\u001b[0m\u001b[0m\n\u001b[1;32m    306\u001b[0m     \"\"\"\n\u001b[0;32m--> 307\u001b[0;31m     \u001b[0my_type\u001b[0m\u001b[0;34m,\u001b[0m \u001b[0my_true\u001b[0m\u001b[0;34m,\u001b[0m \u001b[0my_pred\u001b[0m \u001b[0;34m=\u001b[0m \u001b[0m_check_targets\u001b[0m\u001b[0;34m(\u001b[0m\u001b[0my_true\u001b[0m\u001b[0;34m,\u001b[0m \u001b[0my_pred\u001b[0m\u001b[0;34m)\u001b[0m\u001b[0;34m\u001b[0m\u001b[0;34m\u001b[0m\u001b[0m\n\u001b[0m\u001b[1;32m    308\u001b[0m     \u001b[0;32mif\u001b[0m \u001b[0my_type\u001b[0m \u001b[0;32mnot\u001b[0m \u001b[0;32min\u001b[0m \u001b[0;34m(\u001b[0m\u001b[0;34m\"binary\"\u001b[0m\u001b[0;34m,\u001b[0m \u001b[0;34m\"multiclass\"\u001b[0m\u001b[0;34m)\u001b[0m\u001b[0;34m:\u001b[0m\u001b[0;34m\u001b[0m\u001b[0;34m\u001b[0m\u001b[0m\n\u001b[1;32m    309\u001b[0m         \u001b[0;32mraise\u001b[0m \u001b[0mValueError\u001b[0m\u001b[0;34m(\u001b[0m\u001b[0;34m\"%s is not supported\"\u001b[0m \u001b[0;34m%\u001b[0m \u001b[0my_type\u001b[0m\u001b[0;34m)\u001b[0m\u001b[0;34m\u001b[0m\u001b[0;34m\u001b[0m\u001b[0m\n",
            "\u001b[0;32m/usr/local/lib/python3.7/dist-packages/sklearn/metrics/_classification.py\u001b[0m in \u001b[0;36m_check_targets\u001b[0;34m(y_true, y_pred)\u001b[0m\n\u001b[1;32m     82\u001b[0m     \u001b[0my_pred\u001b[0m \u001b[0;34m:\u001b[0m \u001b[0marray\u001b[0m \u001b[0;32mor\u001b[0m \u001b[0mindicator\u001b[0m \u001b[0mmatrix\u001b[0m\u001b[0;34m\u001b[0m\u001b[0;34m\u001b[0m\u001b[0m\n\u001b[1;32m     83\u001b[0m     \"\"\"\n\u001b[0;32m---> 84\u001b[0;31m     \u001b[0mcheck_consistent_length\u001b[0m\u001b[0;34m(\u001b[0m\u001b[0my_true\u001b[0m\u001b[0;34m,\u001b[0m \u001b[0my_pred\u001b[0m\u001b[0;34m)\u001b[0m\u001b[0;34m\u001b[0m\u001b[0;34m\u001b[0m\u001b[0m\n\u001b[0m\u001b[1;32m     85\u001b[0m     \u001b[0mtype_true\u001b[0m \u001b[0;34m=\u001b[0m \u001b[0mtype_of_target\u001b[0m\u001b[0;34m(\u001b[0m\u001b[0my_true\u001b[0m\u001b[0;34m)\u001b[0m\u001b[0;34m\u001b[0m\u001b[0;34m\u001b[0m\u001b[0m\n\u001b[1;32m     86\u001b[0m     \u001b[0mtype_pred\u001b[0m \u001b[0;34m=\u001b[0m \u001b[0mtype_of_target\u001b[0m\u001b[0;34m(\u001b[0m\u001b[0my_pred\u001b[0m\u001b[0;34m)\u001b[0m\u001b[0;34m\u001b[0m\u001b[0;34m\u001b[0m\u001b[0m\n",
            "\u001b[0;32m/usr/local/lib/python3.7/dist-packages/sklearn/utils/validation.py\u001b[0m in \u001b[0;36mcheck_consistent_length\u001b[0;34m(*arrays)\u001b[0m\n\u001b[1;32m    332\u001b[0m         raise ValueError(\n\u001b[1;32m    333\u001b[0m             \u001b[0;34m\"Found input variables with inconsistent numbers of samples: %r\"\u001b[0m\u001b[0;34m\u001b[0m\u001b[0;34m\u001b[0m\u001b[0m\n\u001b[0;32m--> 334\u001b[0;31m             \u001b[0;34m%\u001b[0m \u001b[0;34m[\u001b[0m\u001b[0mint\u001b[0m\u001b[0;34m(\u001b[0m\u001b[0ml\u001b[0m\u001b[0;34m)\u001b[0m \u001b[0;32mfor\u001b[0m \u001b[0ml\u001b[0m \u001b[0;32min\u001b[0m \u001b[0mlengths\u001b[0m\u001b[0;34m]\u001b[0m\u001b[0;34m\u001b[0m\u001b[0;34m\u001b[0m\u001b[0m\n\u001b[0m\u001b[1;32m    335\u001b[0m         )\n\u001b[1;32m    336\u001b[0m \u001b[0;34m\u001b[0m\u001b[0m\n",
            "\u001b[0;31mValueError\u001b[0m: Found input variables with inconsistent numbers of samples: [6564, 30534]"
          ]
        }
      ]
    },
    {
      "cell_type": "code",
      "source": [
        "# Random Forest Model\n",
        "sc_rf = cross_val_score(model_rf, x_train_original, y_train_original, cv=skf, scoring=scr)"
      ],
      "metadata": {
        "id": "1_OJS7FNxRED"
      },
      "execution_count": null,
      "outputs": []
    }
  ]
}