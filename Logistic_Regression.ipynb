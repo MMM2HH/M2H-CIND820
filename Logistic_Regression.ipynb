{
  "nbformat": 4,
  "nbformat_minor": 0,
  "metadata": {
    "colab": {
      "name": "Logistic Regression.ipynb",
      "provenance": [],
      "collapsed_sections": []
    },
    "kernelspec": {
      "name": "python3",
      "display_name": "Python 3"
    },
    "language_info": {
      "name": "python"
    }
  },
  "cells": [
    {
      "cell_type": "markdown",
      "source": [
        "**Data Modeling - Logistic Regression**"
      ],
      "metadata": {
        "id": "r87g4wQyRwKp"
      }
    },
    {
      "cell_type": "code",
      "source": [
        "import rpy2\n",
        "import pandas as pd \n",
        "import numpy as np\n",
        "import os \n",
        "import random\n",
        "import matplotlib.pyplot as plt\n",
        "import seaborn as sns\n",
        "import statsmodels.api as sm\n",
        "import scipy.stats as stats\n",
        "from mpl_toolkits.mplot3d import Axes3D\n",
        "from sklearn.preprocessing import StandardScaler\n",
        "\n",
        "#!pip install sklearn\n",
        "df = pd.read_csv('ExportedSubsetData.csv')\n",
        "#Print data frame\n",
        "df\n",
        "#Dataset Info Summary\n",
        "df.info()"
      ],
      "metadata": {
        "colab": {
          "base_uri": "https://localhost:8080/"
        },
        "id": "ZaWA5UQLSrl2",
        "outputId": "3879de63-35d3-4bbe-ac9a-fc96ecb01704"
      },
      "execution_count": null,
      "outputs": [
        {
          "output_type": "stream",
          "name": "stderr",
          "text": [
            "/usr/local/lib/python3.7/dist-packages/statsmodels/tools/_testing.py:19: FutureWarning: pandas.util.testing is deprecated. Use the functions in the public API at pandas.testing instead.\n",
            "  import pandas.util.testing as tm\n"
          ]
        },
        {
          "output_type": "stream",
          "name": "stdout",
          "text": [
            "<class 'pandas.core.frame.DataFrame'>\n",
            "RangeIndex: 50000 entries, 0 to 49999\n",
            "Data columns (total 11 columns):\n",
            " #   Column          Non-Null Count  Dtype  \n",
            "---  ------          --------------  -----  \n",
            " 0   step            50000 non-null  int64  \n",
            " 1   type            50000 non-null  object \n",
            " 2   amount          50000 non-null  float64\n",
            " 3   nameOrig        50000 non-null  object \n",
            " 4   oldbalanceOrg   50000 non-null  float64\n",
            " 5   newbalanceOrig  50000 non-null  float64\n",
            " 6   nameDest        50000 non-null  object \n",
            " 7   oldbalanceDest  50000 non-null  float64\n",
            " 8   newbalanceDest  50000 non-null  float64\n",
            " 9   isFraud         50000 non-null  int64  \n",
            " 10  isFlaggedFraud  50000 non-null  int64  \n",
            "dtypes: float64(5), int64(3), object(3)\n",
            "memory usage: 4.2+ MB\n"
          ]
        }
      ]
    },
    {
      "cell_type": "markdown",
      "source": [
        "**1. Data Cleaning**"
      ],
      "metadata": {
        "id": "OqO9bbjlwJ38"
      }
    },
    {
      "cell_type": "code",
      "execution_count": null,
      "metadata": {
        "colab": {
          "base_uri": "https://localhost:8080/"
        },
        "id": "mfCCAjxcRuY0",
        "outputId": "e1f19d88-2af2-47fa-f87a-673a9417304b"
      },
      "outputs": [
        {
          "output_type": "stream",
          "name": "stdout",
          "text": [
            "<class 'pandas.core.frame.DataFrame'>\n",
            "RangeIndex: 50000 entries, 0 to 49999\n",
            "Data columns (total 8 columns):\n",
            " #   Column          Non-Null Count  Dtype  \n",
            "---  ------          --------------  -----  \n",
            " 0   step            50000 non-null  int64  \n",
            " 1   type            50000 non-null  object \n",
            " 2   amount          50000 non-null  float64\n",
            " 3   oldbalanceOrg   50000 non-null  float64\n",
            " 4   newbalanceOrig  50000 non-null  float64\n",
            " 5   oldbalanceDest  50000 non-null  float64\n",
            " 6   newbalanceDest  50000 non-null  float64\n",
            " 7   isFraud         50000 non-null  int64  \n",
            "dtypes: float64(5), int64(2), object(1)\n",
            "memory usage: 3.1+ MB\n"
          ]
        }
      ],
      "source": [
        "# 1.1 - Removing Variables not needed for Calssification\n",
        "newData = df.drop(['isFlaggedFraud', 'nameOrig', 'nameDest'], axis=1)\n",
        "newData.info()"
      ]
    },
    {
      "cell_type": "code",
      "source": [
        "# 1.2 - Retaining only CASH-OUT and TRANSFER transactions\n",
        "newData = newData.loc[newData['type'].isin(['CASH_OUT', 'TRANSFER']),:]\n",
        "print('The new data now has', len(newData), ' transations.')"
      ],
      "metadata": {
        "colab": {
          "base_uri": "https://localhost:8080/"
        },
        "id": "uZN1Lq-fUlsh",
        "outputId": "e51cec6b-6031-43f9-d211-5b829c3df500"
      },
      "execution_count": null,
      "outputs": [
        {
          "output_type": "stream",
          "name": "stdout",
          "text": [
            "The new data now has 21879  transations.\n"
          ]
        }
      ]
    },
    {
      "cell_type": "code",
      "source": [
        "# 1.3 - Converting categorical varaible to numeric representation\n",
        "# Encoding categorical \"type\" variable to convert transation type to binary variables\n",
        "newData = pd.get_dummies(newData, columns=['type'], prefix=['type'])\n",
        "newData.info()"
      ],
      "metadata": {
        "colab": {
          "base_uri": "https://localhost:8080/"
        },
        "id": "x_2TC2QtTGQc",
        "outputId": "40d4cb10-300e-4efc-f654-da88c945faf5"
      },
      "execution_count": null,
      "outputs": [
        {
          "output_type": "stream",
          "name": "stdout",
          "text": [
            "<class 'pandas.core.frame.DataFrame'>\n",
            "Int64Index: 21879 entries, 0 to 49999\n",
            "Data columns (total 9 columns):\n",
            " #   Column          Non-Null Count  Dtype  \n",
            "---  ------          --------------  -----  \n",
            " 0   step            21879 non-null  int64  \n",
            " 1   amount          21879 non-null  float64\n",
            " 2   oldbalanceOrg   21879 non-null  float64\n",
            " 3   newbalanceOrig  21879 non-null  float64\n",
            " 4   oldbalanceDest  21879 non-null  float64\n",
            " 5   newbalanceDest  21879 non-null  float64\n",
            " 6   isFraud         21879 non-null  int64  \n",
            " 7   type_CASH_OUT   21879 non-null  uint8  \n",
            " 8   type_TRANSFER   21879 non-null  uint8  \n",
            "dtypes: float64(5), int64(2), uint8(2)\n",
            "memory usage: 1.4 MB\n"
          ]
        }
      ]
    },
    {
      "cell_type": "code",
      "source": [
        "# Print first 5 rows\n",
        "newData.head()"
      ],
      "metadata": {
        "colab": {
          "base_uri": "https://localhost:8080/",
          "height": 206
        },
        "id": "cEPrMiE9qIAR",
        "outputId": "69341e24-9b1d-4f4b-d6ad-edfcad359a99"
      },
      "execution_count": null,
      "outputs": [
        {
          "output_type": "execute_result",
          "data": {
            "text/plain": [
              "   step     amount  oldbalanceOrg  newbalanceOrig  oldbalanceDest  \\\n",
              "0   182  129804.96           0.00             0.0      4225880.68   \n",
              "4   252   61214.57           0.00             0.0       364102.11   \n",
              "5    18  125379.52           0.00             0.0       883177.46   \n",
              "6   331   30449.41           0.00             0.0       456924.04   \n",
              "7   277  157649.53        7660.25             0.0       491363.14   \n",
              "\n",
              "   newbalanceDest  isFraud  type_CASH_OUT  type_TRANSFER  \n",
              "0      4355685.64        0              1              0  \n",
              "4       425316.68        0              1              0  \n",
              "5      1120071.12        0              1              0  \n",
              "6       487373.45        0              1              0  \n",
              "7       649012.67        0              1              0  "
            ],
            "text/html": [
              "\n",
              "  <div id=\"df-05c66302-414f-4594-99d3-68f6d6ba4683\">\n",
              "    <div class=\"colab-df-container\">\n",
              "      <div>\n",
              "<style scoped>\n",
              "    .dataframe tbody tr th:only-of-type {\n",
              "        vertical-align: middle;\n",
              "    }\n",
              "\n",
              "    .dataframe tbody tr th {\n",
              "        vertical-align: top;\n",
              "    }\n",
              "\n",
              "    .dataframe thead th {\n",
              "        text-align: right;\n",
              "    }\n",
              "</style>\n",
              "<table border=\"1\" class=\"dataframe\">\n",
              "  <thead>\n",
              "    <tr style=\"text-align: right;\">\n",
              "      <th></th>\n",
              "      <th>step</th>\n",
              "      <th>amount</th>\n",
              "      <th>oldbalanceOrg</th>\n",
              "      <th>newbalanceOrig</th>\n",
              "      <th>oldbalanceDest</th>\n",
              "      <th>newbalanceDest</th>\n",
              "      <th>isFraud</th>\n",
              "      <th>type_CASH_OUT</th>\n",
              "      <th>type_TRANSFER</th>\n",
              "    </tr>\n",
              "  </thead>\n",
              "  <tbody>\n",
              "    <tr>\n",
              "      <th>0</th>\n",
              "      <td>182</td>\n",
              "      <td>129804.96</td>\n",
              "      <td>0.00</td>\n",
              "      <td>0.0</td>\n",
              "      <td>4225880.68</td>\n",
              "      <td>4355685.64</td>\n",
              "      <td>0</td>\n",
              "      <td>1</td>\n",
              "      <td>0</td>\n",
              "    </tr>\n",
              "    <tr>\n",
              "      <th>4</th>\n",
              "      <td>252</td>\n",
              "      <td>61214.57</td>\n",
              "      <td>0.00</td>\n",
              "      <td>0.0</td>\n",
              "      <td>364102.11</td>\n",
              "      <td>425316.68</td>\n",
              "      <td>0</td>\n",
              "      <td>1</td>\n",
              "      <td>0</td>\n",
              "    </tr>\n",
              "    <tr>\n",
              "      <th>5</th>\n",
              "      <td>18</td>\n",
              "      <td>125379.52</td>\n",
              "      <td>0.00</td>\n",
              "      <td>0.0</td>\n",
              "      <td>883177.46</td>\n",
              "      <td>1120071.12</td>\n",
              "      <td>0</td>\n",
              "      <td>1</td>\n",
              "      <td>0</td>\n",
              "    </tr>\n",
              "    <tr>\n",
              "      <th>6</th>\n",
              "      <td>331</td>\n",
              "      <td>30449.41</td>\n",
              "      <td>0.00</td>\n",
              "      <td>0.0</td>\n",
              "      <td>456924.04</td>\n",
              "      <td>487373.45</td>\n",
              "      <td>0</td>\n",
              "      <td>1</td>\n",
              "      <td>0</td>\n",
              "    </tr>\n",
              "    <tr>\n",
              "      <th>7</th>\n",
              "      <td>277</td>\n",
              "      <td>157649.53</td>\n",
              "      <td>7660.25</td>\n",
              "      <td>0.0</td>\n",
              "      <td>491363.14</td>\n",
              "      <td>649012.67</td>\n",
              "      <td>0</td>\n",
              "      <td>1</td>\n",
              "      <td>0</td>\n",
              "    </tr>\n",
              "  </tbody>\n",
              "</table>\n",
              "</div>\n",
              "      <button class=\"colab-df-convert\" onclick=\"convertToInteractive('df-05c66302-414f-4594-99d3-68f6d6ba4683')\"\n",
              "              title=\"Convert this dataframe to an interactive table.\"\n",
              "              style=\"display:none;\">\n",
              "        \n",
              "  <svg xmlns=\"http://www.w3.org/2000/svg\" height=\"24px\"viewBox=\"0 0 24 24\"\n",
              "       width=\"24px\">\n",
              "    <path d=\"M0 0h24v24H0V0z\" fill=\"none\"/>\n",
              "    <path d=\"M18.56 5.44l.94 2.06.94-2.06 2.06-.94-2.06-.94-.94-2.06-.94 2.06-2.06.94zm-11 1L8.5 8.5l.94-2.06 2.06-.94-2.06-.94L8.5 2.5l-.94 2.06-2.06.94zm10 10l.94 2.06.94-2.06 2.06-.94-2.06-.94-.94-2.06-.94 2.06-2.06.94z\"/><path d=\"M17.41 7.96l-1.37-1.37c-.4-.4-.92-.59-1.43-.59-.52 0-1.04.2-1.43.59L10.3 9.45l-7.72 7.72c-.78.78-.78 2.05 0 2.83L4 21.41c.39.39.9.59 1.41.59.51 0 1.02-.2 1.41-.59l7.78-7.78 2.81-2.81c.8-.78.8-2.07 0-2.86zM5.41 20L4 18.59l7.72-7.72 1.47 1.35L5.41 20z\"/>\n",
              "  </svg>\n",
              "      </button>\n",
              "      \n",
              "  <style>\n",
              "    .colab-df-container {\n",
              "      display:flex;\n",
              "      flex-wrap:wrap;\n",
              "      gap: 12px;\n",
              "    }\n",
              "\n",
              "    .colab-df-convert {\n",
              "      background-color: #E8F0FE;\n",
              "      border: none;\n",
              "      border-radius: 50%;\n",
              "      cursor: pointer;\n",
              "      display: none;\n",
              "      fill: #1967D2;\n",
              "      height: 32px;\n",
              "      padding: 0 0 0 0;\n",
              "      width: 32px;\n",
              "    }\n",
              "\n",
              "    .colab-df-convert:hover {\n",
              "      background-color: #E2EBFA;\n",
              "      box-shadow: 0px 1px 2px rgba(60, 64, 67, 0.3), 0px 1px 3px 1px rgba(60, 64, 67, 0.15);\n",
              "      fill: #174EA6;\n",
              "    }\n",
              "\n",
              "    [theme=dark] .colab-df-convert {\n",
              "      background-color: #3B4455;\n",
              "      fill: #D2E3FC;\n",
              "    }\n",
              "\n",
              "    [theme=dark] .colab-df-convert:hover {\n",
              "      background-color: #434B5C;\n",
              "      box-shadow: 0px 1px 3px 1px rgba(0, 0, 0, 0.15);\n",
              "      filter: drop-shadow(0px 1px 2px rgba(0, 0, 0, 0.3));\n",
              "      fill: #FFFFFF;\n",
              "    }\n",
              "  </style>\n",
              "\n",
              "      <script>\n",
              "        const buttonEl =\n",
              "          document.querySelector('#df-05c66302-414f-4594-99d3-68f6d6ba4683 button.colab-df-convert');\n",
              "        buttonEl.style.display =\n",
              "          google.colab.kernel.accessAllowed ? 'block' : 'none';\n",
              "\n",
              "        async function convertToInteractive(key) {\n",
              "          const element = document.querySelector('#df-05c66302-414f-4594-99d3-68f6d6ba4683');\n",
              "          const dataTable =\n",
              "            await google.colab.kernel.invokeFunction('convertToInteractive',\n",
              "                                                     [key], {});\n",
              "          if (!dataTable) return;\n",
              "\n",
              "          const docLinkHtml = 'Like what you see? Visit the ' +\n",
              "            '<a target=\"_blank\" href=https://colab.research.google.com/notebooks/data_table.ipynb>data table notebook</a>'\n",
              "            + ' to learn more about interactive tables.';\n",
              "          element.innerHTML = '';\n",
              "          dataTable['output_type'] = 'display_data';\n",
              "          await google.colab.output.renderOutput(dataTable, element);\n",
              "          const docLink = document.createElement('div');\n",
              "          docLink.innerHTML = docLinkHtml;\n",
              "          element.appendChild(docLink);\n",
              "        }\n",
              "      </script>\n",
              "    </div>\n",
              "  </div>\n",
              "  "
            ]
          },
          "metadata": {},
          "execution_count": 5
        }
      ]
    },
    {
      "cell_type": "code",
      "source": [
        "# To check min value of a feature. For Example:\n",
        "newData['step'].min()"
      ],
      "metadata": {
        "colab": {
          "base_uri": "https://localhost:8080/"
        },
        "id": "1Y2PrVC-t9H5",
        "outputId": "8ba947c0-3422-44c1-98a4-2b660a4985cb"
      },
      "execution_count": null,
      "outputs": [
        {
          "output_type": "execute_result",
          "data": {
            "text/plain": [
              "1"
            ]
          },
          "metadata": {},
          "execution_count": 6
        }
      ]
    },
    {
      "cell_type": "code",
      "source": [
        "# To check max value of a feature. For Example:\n",
        "newData['step'].max()"
      ],
      "metadata": {
        "colab": {
          "base_uri": "https://localhost:8080/"
        },
        "id": "6Bl5yqNdt9gp",
        "outputId": "2cab4f03-6f8b-4370-d815-ab60d21f6a60"
      },
      "execution_count": null,
      "outputs": [
        {
          "output_type": "execute_result",
          "data": {
            "text/plain": [
              "742"
            ]
          },
          "metadata": {},
          "execution_count": 7
        }
      ]
    },
    {
      "cell_type": "markdown",
      "source": [
        "**2. Data Normalization**"
      ],
      "metadata": {
        "id": "9UfEOhJvabyK"
      }
    },
    {
      "cell_type": "code",
      "source": [
        "# 2.1 (a) - Standardizing the Data or Scale Data using MinMaxScaler to convert the value between the min and max\n",
        "# https://www.youtube.com/watch?v=sFVxFCYiIQI (15:00)\n",
        "from sklearn.preprocessing import MinMaxScaler\n",
        "scale_vars = ['step','amount','oldbalanceOrg','newbalanceOrig','oldbalanceDest','newbalanceDest','isFraud' ]\n",
        "scaler = MinMaxScaler()\n",
        "newData[scale_vars] = scaler.fit_transform(newData[scale_vars])\n",
        "newData.head()"
      ],
      "metadata": {
        "colab": {
          "base_uri": "https://localhost:8080/",
          "height": 206
        },
        "id": "D0m8B8W7rbic",
        "outputId": "844feb94-b107-4192-e62c-8c4957be5651"
      },
      "execution_count": null,
      "outputs": [
        {
          "output_type": "execute_result",
          "data": {
            "text/plain": [
              "       step    amount  oldbalanceOrg  newbalanceOrig  oldbalanceDest  \\\n",
              "0  0.244265  0.003076       0.000000             0.0        0.026917   \n",
              "4  0.338731  0.001450       0.000000             0.0        0.002319   \n",
              "5  0.022942  0.002971       0.000000             0.0        0.005626   \n",
              "6  0.445344  0.000721       0.000000             0.0        0.002910   \n",
              "7  0.372470  0.003736       0.000175             0.0        0.003130   \n",
              "\n",
              "   newbalanceDest  isFraud  type_CASH_OUT  type_TRANSFER  \n",
              "0        0.027718      0.0              1              0  \n",
              "4        0.002707      0.0              1              0  \n",
              "5        0.007128      0.0              1              0  \n",
              "6        0.003102      0.0              1              0  \n",
              "7        0.004130      0.0              1              0  "
            ],
            "text/html": [
              "\n",
              "  <div id=\"df-4205a7ad-a1b6-440c-ba54-aee2402c5c2d\">\n",
              "    <div class=\"colab-df-container\">\n",
              "      <div>\n",
              "<style scoped>\n",
              "    .dataframe tbody tr th:only-of-type {\n",
              "        vertical-align: middle;\n",
              "    }\n",
              "\n",
              "    .dataframe tbody tr th {\n",
              "        vertical-align: top;\n",
              "    }\n",
              "\n",
              "    .dataframe thead th {\n",
              "        text-align: right;\n",
              "    }\n",
              "</style>\n",
              "<table border=\"1\" class=\"dataframe\">\n",
              "  <thead>\n",
              "    <tr style=\"text-align: right;\">\n",
              "      <th></th>\n",
              "      <th>step</th>\n",
              "      <th>amount</th>\n",
              "      <th>oldbalanceOrg</th>\n",
              "      <th>newbalanceOrig</th>\n",
              "      <th>oldbalanceDest</th>\n",
              "      <th>newbalanceDest</th>\n",
              "      <th>isFraud</th>\n",
              "      <th>type_CASH_OUT</th>\n",
              "      <th>type_TRANSFER</th>\n",
              "    </tr>\n",
              "  </thead>\n",
              "  <tbody>\n",
              "    <tr>\n",
              "      <th>0</th>\n",
              "      <td>0.244265</td>\n",
              "      <td>0.003076</td>\n",
              "      <td>0.000000</td>\n",
              "      <td>0.0</td>\n",
              "      <td>0.026917</td>\n",
              "      <td>0.027718</td>\n",
              "      <td>0.0</td>\n",
              "      <td>1</td>\n",
              "      <td>0</td>\n",
              "    </tr>\n",
              "    <tr>\n",
              "      <th>4</th>\n",
              "      <td>0.338731</td>\n",
              "      <td>0.001450</td>\n",
              "      <td>0.000000</td>\n",
              "      <td>0.0</td>\n",
              "      <td>0.002319</td>\n",
              "      <td>0.002707</td>\n",
              "      <td>0.0</td>\n",
              "      <td>1</td>\n",
              "      <td>0</td>\n",
              "    </tr>\n",
              "    <tr>\n",
              "      <th>5</th>\n",
              "      <td>0.022942</td>\n",
              "      <td>0.002971</td>\n",
              "      <td>0.000000</td>\n",
              "      <td>0.0</td>\n",
              "      <td>0.005626</td>\n",
              "      <td>0.007128</td>\n",
              "      <td>0.0</td>\n",
              "      <td>1</td>\n",
              "      <td>0</td>\n",
              "    </tr>\n",
              "    <tr>\n",
              "      <th>6</th>\n",
              "      <td>0.445344</td>\n",
              "      <td>0.000721</td>\n",
              "      <td>0.000000</td>\n",
              "      <td>0.0</td>\n",
              "      <td>0.002910</td>\n",
              "      <td>0.003102</td>\n",
              "      <td>0.0</td>\n",
              "      <td>1</td>\n",
              "      <td>0</td>\n",
              "    </tr>\n",
              "    <tr>\n",
              "      <th>7</th>\n",
              "      <td>0.372470</td>\n",
              "      <td>0.003736</td>\n",
              "      <td>0.000175</td>\n",
              "      <td>0.0</td>\n",
              "      <td>0.003130</td>\n",
              "      <td>0.004130</td>\n",
              "      <td>0.0</td>\n",
              "      <td>1</td>\n",
              "      <td>0</td>\n",
              "    </tr>\n",
              "  </tbody>\n",
              "</table>\n",
              "</div>\n",
              "      <button class=\"colab-df-convert\" onclick=\"convertToInteractive('df-4205a7ad-a1b6-440c-ba54-aee2402c5c2d')\"\n",
              "              title=\"Convert this dataframe to an interactive table.\"\n",
              "              style=\"display:none;\">\n",
              "        \n",
              "  <svg xmlns=\"http://www.w3.org/2000/svg\" height=\"24px\"viewBox=\"0 0 24 24\"\n",
              "       width=\"24px\">\n",
              "    <path d=\"M0 0h24v24H0V0z\" fill=\"none\"/>\n",
              "    <path d=\"M18.56 5.44l.94 2.06.94-2.06 2.06-.94-2.06-.94-.94-2.06-.94 2.06-2.06.94zm-11 1L8.5 8.5l.94-2.06 2.06-.94-2.06-.94L8.5 2.5l-.94 2.06-2.06.94zm10 10l.94 2.06.94-2.06 2.06-.94-2.06-.94-.94-2.06-.94 2.06-2.06.94z\"/><path d=\"M17.41 7.96l-1.37-1.37c-.4-.4-.92-.59-1.43-.59-.52 0-1.04.2-1.43.59L10.3 9.45l-7.72 7.72c-.78.78-.78 2.05 0 2.83L4 21.41c.39.39.9.59 1.41.59.51 0 1.02-.2 1.41-.59l7.78-7.78 2.81-2.81c.8-.78.8-2.07 0-2.86zM5.41 20L4 18.59l7.72-7.72 1.47 1.35L5.41 20z\"/>\n",
              "  </svg>\n",
              "      </button>\n",
              "      \n",
              "  <style>\n",
              "    .colab-df-container {\n",
              "      display:flex;\n",
              "      flex-wrap:wrap;\n",
              "      gap: 12px;\n",
              "    }\n",
              "\n",
              "    .colab-df-convert {\n",
              "      background-color: #E8F0FE;\n",
              "      border: none;\n",
              "      border-radius: 50%;\n",
              "      cursor: pointer;\n",
              "      display: none;\n",
              "      fill: #1967D2;\n",
              "      height: 32px;\n",
              "      padding: 0 0 0 0;\n",
              "      width: 32px;\n",
              "    }\n",
              "\n",
              "    .colab-df-convert:hover {\n",
              "      background-color: #E2EBFA;\n",
              "      box-shadow: 0px 1px 2px rgba(60, 64, 67, 0.3), 0px 1px 3px 1px rgba(60, 64, 67, 0.15);\n",
              "      fill: #174EA6;\n",
              "    }\n",
              "\n",
              "    [theme=dark] .colab-df-convert {\n",
              "      background-color: #3B4455;\n",
              "      fill: #D2E3FC;\n",
              "    }\n",
              "\n",
              "    [theme=dark] .colab-df-convert:hover {\n",
              "      background-color: #434B5C;\n",
              "      box-shadow: 0px 1px 3px 1px rgba(0, 0, 0, 0.15);\n",
              "      filter: drop-shadow(0px 1px 2px rgba(0, 0, 0, 0.3));\n",
              "      fill: #FFFFFF;\n",
              "    }\n",
              "  </style>\n",
              "\n",
              "      <script>\n",
              "        const buttonEl =\n",
              "          document.querySelector('#df-4205a7ad-a1b6-440c-ba54-aee2402c5c2d button.colab-df-convert');\n",
              "        buttonEl.style.display =\n",
              "          google.colab.kernel.accessAllowed ? 'block' : 'none';\n",
              "\n",
              "        async function convertToInteractive(key) {\n",
              "          const element = document.querySelector('#df-4205a7ad-a1b6-440c-ba54-aee2402c5c2d');\n",
              "          const dataTable =\n",
              "            await google.colab.kernel.invokeFunction('convertToInteractive',\n",
              "                                                     [key], {});\n",
              "          if (!dataTable) return;\n",
              "\n",
              "          const docLinkHtml = 'Like what you see? Visit the ' +\n",
              "            '<a target=\"_blank\" href=https://colab.research.google.com/notebooks/data_table.ipynb>data table notebook</a>'\n",
              "            + ' to learn more about interactive tables.';\n",
              "          element.innerHTML = '';\n",
              "          dataTable['output_type'] = 'display_data';\n",
              "          await google.colab.output.renderOutput(dataTable, element);\n",
              "          const docLink = document.createElement('div');\n",
              "          docLink.innerHTML = docLinkHtml;\n",
              "          element.appendChild(docLink);\n",
              "        }\n",
              "      </script>\n",
              "    </div>\n",
              "  </div>\n",
              "  "
            ]
          },
          "metadata": {},
          "execution_count": 8
        }
      ]
    },
    {
      "cell_type": "code",
      "source": [
        "# 2.1 (b) - Data Normalization using the Min-Max Method \n",
        "normalized_df = newData.copy()\n",
        "\n",
        "for column in normalized_df.columns:\n",
        "  normalized_df[column] = (normalized_df[column] - normalized_df[column].min())/(normalized_df[column].max() - normalized_df[column].min())\n",
        "normalized_df.head()"
      ],
      "metadata": {
        "id": "a8ZNZlZRa9-a",
        "colab": {
          "base_uri": "https://localhost:8080/",
          "height": 206
        },
        "outputId": "77d411ec-ef2b-4c65-87ef-a8b8454e4779"
      },
      "execution_count": null,
      "outputs": [
        {
          "output_type": "execute_result",
          "data": {
            "text/plain": [
              "       step    amount  oldbalanceOrg  newbalanceOrig  oldbalanceDest  \\\n",
              "0  0.244265  0.003076       0.000000             0.0        0.026917   \n",
              "4  0.338731  0.001450       0.000000             0.0        0.002319   \n",
              "5  0.022942  0.002971       0.000000             0.0        0.005626   \n",
              "6  0.445344  0.000721       0.000000             0.0        0.002910   \n",
              "7  0.372470  0.003736       0.000175             0.0        0.003130   \n",
              "\n",
              "   newbalanceDest  isFraud  type_CASH_OUT  type_TRANSFER  \n",
              "0        0.027718      0.0            1.0            0.0  \n",
              "4        0.002707      0.0            1.0            0.0  \n",
              "5        0.007128      0.0            1.0            0.0  \n",
              "6        0.003102      0.0            1.0            0.0  \n",
              "7        0.004130      0.0            1.0            0.0  "
            ],
            "text/html": [
              "\n",
              "  <div id=\"df-b559c004-d605-476d-979c-56df2d98582d\">\n",
              "    <div class=\"colab-df-container\">\n",
              "      <div>\n",
              "<style scoped>\n",
              "    .dataframe tbody tr th:only-of-type {\n",
              "        vertical-align: middle;\n",
              "    }\n",
              "\n",
              "    .dataframe tbody tr th {\n",
              "        vertical-align: top;\n",
              "    }\n",
              "\n",
              "    .dataframe thead th {\n",
              "        text-align: right;\n",
              "    }\n",
              "</style>\n",
              "<table border=\"1\" class=\"dataframe\">\n",
              "  <thead>\n",
              "    <tr style=\"text-align: right;\">\n",
              "      <th></th>\n",
              "      <th>step</th>\n",
              "      <th>amount</th>\n",
              "      <th>oldbalanceOrg</th>\n",
              "      <th>newbalanceOrig</th>\n",
              "      <th>oldbalanceDest</th>\n",
              "      <th>newbalanceDest</th>\n",
              "      <th>isFraud</th>\n",
              "      <th>type_CASH_OUT</th>\n",
              "      <th>type_TRANSFER</th>\n",
              "    </tr>\n",
              "  </thead>\n",
              "  <tbody>\n",
              "    <tr>\n",
              "      <th>0</th>\n",
              "      <td>0.244265</td>\n",
              "      <td>0.003076</td>\n",
              "      <td>0.000000</td>\n",
              "      <td>0.0</td>\n",
              "      <td>0.026917</td>\n",
              "      <td>0.027718</td>\n",
              "      <td>0.0</td>\n",
              "      <td>1.0</td>\n",
              "      <td>0.0</td>\n",
              "    </tr>\n",
              "    <tr>\n",
              "      <th>4</th>\n",
              "      <td>0.338731</td>\n",
              "      <td>0.001450</td>\n",
              "      <td>0.000000</td>\n",
              "      <td>0.0</td>\n",
              "      <td>0.002319</td>\n",
              "      <td>0.002707</td>\n",
              "      <td>0.0</td>\n",
              "      <td>1.0</td>\n",
              "      <td>0.0</td>\n",
              "    </tr>\n",
              "    <tr>\n",
              "      <th>5</th>\n",
              "      <td>0.022942</td>\n",
              "      <td>0.002971</td>\n",
              "      <td>0.000000</td>\n",
              "      <td>0.0</td>\n",
              "      <td>0.005626</td>\n",
              "      <td>0.007128</td>\n",
              "      <td>0.0</td>\n",
              "      <td>1.0</td>\n",
              "      <td>0.0</td>\n",
              "    </tr>\n",
              "    <tr>\n",
              "      <th>6</th>\n",
              "      <td>0.445344</td>\n",
              "      <td>0.000721</td>\n",
              "      <td>0.000000</td>\n",
              "      <td>0.0</td>\n",
              "      <td>0.002910</td>\n",
              "      <td>0.003102</td>\n",
              "      <td>0.0</td>\n",
              "      <td>1.0</td>\n",
              "      <td>0.0</td>\n",
              "    </tr>\n",
              "    <tr>\n",
              "      <th>7</th>\n",
              "      <td>0.372470</td>\n",
              "      <td>0.003736</td>\n",
              "      <td>0.000175</td>\n",
              "      <td>0.0</td>\n",
              "      <td>0.003130</td>\n",
              "      <td>0.004130</td>\n",
              "      <td>0.0</td>\n",
              "      <td>1.0</td>\n",
              "      <td>0.0</td>\n",
              "    </tr>\n",
              "  </tbody>\n",
              "</table>\n",
              "</div>\n",
              "      <button class=\"colab-df-convert\" onclick=\"convertToInteractive('df-b559c004-d605-476d-979c-56df2d98582d')\"\n",
              "              title=\"Convert this dataframe to an interactive table.\"\n",
              "              style=\"display:none;\">\n",
              "        \n",
              "  <svg xmlns=\"http://www.w3.org/2000/svg\" height=\"24px\"viewBox=\"0 0 24 24\"\n",
              "       width=\"24px\">\n",
              "    <path d=\"M0 0h24v24H0V0z\" fill=\"none\"/>\n",
              "    <path d=\"M18.56 5.44l.94 2.06.94-2.06 2.06-.94-2.06-.94-.94-2.06-.94 2.06-2.06.94zm-11 1L8.5 8.5l.94-2.06 2.06-.94-2.06-.94L8.5 2.5l-.94 2.06-2.06.94zm10 10l.94 2.06.94-2.06 2.06-.94-2.06-.94-.94-2.06-.94 2.06-2.06.94z\"/><path d=\"M17.41 7.96l-1.37-1.37c-.4-.4-.92-.59-1.43-.59-.52 0-1.04.2-1.43.59L10.3 9.45l-7.72 7.72c-.78.78-.78 2.05 0 2.83L4 21.41c.39.39.9.59 1.41.59.51 0 1.02-.2 1.41-.59l7.78-7.78 2.81-2.81c.8-.78.8-2.07 0-2.86zM5.41 20L4 18.59l7.72-7.72 1.47 1.35L5.41 20z\"/>\n",
              "  </svg>\n",
              "      </button>\n",
              "      \n",
              "  <style>\n",
              "    .colab-df-container {\n",
              "      display:flex;\n",
              "      flex-wrap:wrap;\n",
              "      gap: 12px;\n",
              "    }\n",
              "\n",
              "    .colab-df-convert {\n",
              "      background-color: #E8F0FE;\n",
              "      border: none;\n",
              "      border-radius: 50%;\n",
              "      cursor: pointer;\n",
              "      display: none;\n",
              "      fill: #1967D2;\n",
              "      height: 32px;\n",
              "      padding: 0 0 0 0;\n",
              "      width: 32px;\n",
              "    }\n",
              "\n",
              "    .colab-df-convert:hover {\n",
              "      background-color: #E2EBFA;\n",
              "      box-shadow: 0px 1px 2px rgba(60, 64, 67, 0.3), 0px 1px 3px 1px rgba(60, 64, 67, 0.15);\n",
              "      fill: #174EA6;\n",
              "    }\n",
              "\n",
              "    [theme=dark] .colab-df-convert {\n",
              "      background-color: #3B4455;\n",
              "      fill: #D2E3FC;\n",
              "    }\n",
              "\n",
              "    [theme=dark] .colab-df-convert:hover {\n",
              "      background-color: #434B5C;\n",
              "      box-shadow: 0px 1px 3px 1px rgba(0, 0, 0, 0.15);\n",
              "      filter: drop-shadow(0px 1px 2px rgba(0, 0, 0, 0.3));\n",
              "      fill: #FFFFFF;\n",
              "    }\n",
              "  </style>\n",
              "\n",
              "      <script>\n",
              "        const buttonEl =\n",
              "          document.querySelector('#df-b559c004-d605-476d-979c-56df2d98582d button.colab-df-convert');\n",
              "        buttonEl.style.display =\n",
              "          google.colab.kernel.accessAllowed ? 'block' : 'none';\n",
              "\n",
              "        async function convertToInteractive(key) {\n",
              "          const element = document.querySelector('#df-b559c004-d605-476d-979c-56df2d98582d');\n",
              "          const dataTable =\n",
              "            await google.colab.kernel.invokeFunction('convertToInteractive',\n",
              "                                                     [key], {});\n",
              "          if (!dataTable) return;\n",
              "\n",
              "          const docLinkHtml = 'Like what you see? Visit the ' +\n",
              "            '<a target=\"_blank\" href=https://colab.research.google.com/notebooks/data_table.ipynb>data table notebook</a>'\n",
              "            + ' to learn more about interactive tables.';\n",
              "          element.innerHTML = '';\n",
              "          dataTable['output_type'] = 'display_data';\n",
              "          await google.colab.output.renderOutput(dataTable, element);\n",
              "          const docLink = document.createElement('div');\n",
              "          docLink.innerHTML = docLinkHtml;\n",
              "          element.appendChild(docLink);\n",
              "        }\n",
              "      </script>\n",
              "    </div>\n",
              "  </div>\n",
              "  "
            ]
          },
          "metadata": {},
          "execution_count": 9
        }
      ]
    },
    {
      "cell_type": "code",
      "source": [
        "# 2.1 (c) Standardizing the Data: converting all columns to have the same range\n",
        "# Normalization of dataset\n",
        "std_scaler = StandardScaler()\n",
        "data_scaled = pd.DataFrame(std_scaler.fit_transform(newData.loc[:,~newData.columns.isin(['isFraud'])]))\n",
        "data_scaled.columns = newData.columns[:-1]\n",
        "data_scaled['isFraud'] = newData['isFraud']"
      ],
      "metadata": {
        "id": "D1uMKPzVvQaR"
      },
      "execution_count": null,
      "outputs": []
    },
    {
      "cell_type": "code",
      "source": [
        "# To validate min value of a feature has been converted. For Example:\n",
        "newData['step'].min()"
      ],
      "metadata": {
        "colab": {
          "base_uri": "https://localhost:8080/"
        },
        "id": "0GOGCbZQtpe6",
        "outputId": "bab9f485-5e44-43de-d895-1ab6a6c79c4d"
      },
      "execution_count": null,
      "outputs": [
        {
          "output_type": "execute_result",
          "data": {
            "text/plain": [
              "0.0"
            ]
          },
          "metadata": {},
          "execution_count": 10
        }
      ]
    },
    {
      "cell_type": "code",
      "source": [
        "# To validate max value of a feature has been converted. For Example:\n",
        "newData['step'].max()"
      ],
      "metadata": {
        "colab": {
          "base_uri": "https://localhost:8080/"
        },
        "id": "31LXlYBit5gu",
        "outputId": "1a4c4094-f21e-4ca8-c54d-9addd7e050d5"
      },
      "execution_count": null,
      "outputs": [
        {
          "output_type": "execute_result",
          "data": {
            "text/plain": [
              "0.9999999999999999"
            ]
          },
          "metadata": {},
          "execution_count": 11
        }
      ]
    },
    {
      "cell_type": "code",
      "source": [
        "# 2.2 - Visualize distributions\n",
        "newData.hist(bins=30, figsize=(20,30), layout=(8,3));"
      ],
      "metadata": {
        "colab": {
          "base_uri": "https://localhost:8080/",
          "height": 644
        },
        "id": "HJLeip4faeih",
        "outputId": "498c819c-54eb-431b-858a-9772c45b22b9"
      },
      "execution_count": null,
      "outputs": [
        {
          "output_type": "display_data",
          "data": {
            "text/plain": [
              "<Figure size 1440x2160 with 24 Axes>"
            ],
            "image/png": "[encoded data removed]"
          },
          "metadata": {
            "needs_background": "light"
          }
        }
      ]
    },
    {
      "cell_type": "code",
      "source": [
        "# 2.3 - Transformation of Independent Variables with visually non-normal distributions \n",
        "normalized_df[['step', \n",
        "         'amount',\n",
        "         'oldbalanceOrg',\n",
        "         'newbalanceOrig',\n",
        "         'oldbalanceDest',\n",
        "         'newbalanceDest',\n",
        "         'isFraud']] = normalized_df[['step', \n",
        "         'amount',\n",
        "         'oldbalanceOrg',\n",
        "         'newbalanceOrig',\n",
        "         'oldbalanceDest',\n",
        "         'newbalanceDest',\n",
        "         'isFraud']].applymap(lambda x: np.log(1+x))\n",
        "\n",
        "normalized_df.describe()"
      ],
      "metadata": {
        "id": "Nq1fcFujbewB",
        "colab": {
          "base_uri": "https://localhost:8080/",
          "height": 300
        },
        "outputId": "7b6834e5-5b50-4a52-e92d-c7a963088e3b"
      },
      "execution_count": null,
      "outputs": [
        {
          "output_type": "execute_result",
          "data": {
            "text/plain": [
              "               step        amount  oldbalanceOrg  newbalanceOrig  \\\n",
              "count  21879.000000  21879.000000   21879.000000    21879.000000   \n",
              "mean       0.271409      0.007560       0.001104        0.000364   \n",
              "std        0.144908      0.019878       0.006662        0.005033   \n",
              "min        0.000000      0.000000       0.000000        0.000000   \n",
              "25%        0.188823      0.001944       0.000000        0.000000   \n",
              "50%        0.275462      0.004021       0.000006        0.000000   \n",
              "75%        0.370213      0.007182       0.000701        0.000000   \n",
              "max        0.693147      0.693147       0.693147        0.693147   \n",
              "\n",
              "       oldbalanceDest  newbalanceDest       isFraud  type_CASH_OUT  \\\n",
              "count    21879.000000    21879.000000  21879.000000   21879.000000   \n",
              "mean         0.010620        0.012774      0.002154       0.810046   \n",
              "std          0.022766        0.025241      0.038583       0.392273   \n",
              "min          0.000000        0.000000      0.000000       0.000000   \n",
              "25%          0.000867        0.002119      0.000000       1.000000   \n",
              "50%          0.003567        0.005284      0.000000       1.000000   \n",
              "75%          0.011085        0.013629      0.000000       1.000000   \n",
              "max          0.693147        0.693147      0.693147       1.000000   \n",
              "\n",
              "       type_TRANSFER  \n",
              "count   21879.000000  \n",
              "mean        0.189954  \n",
              "std         0.392273  \n",
              "min         0.000000  \n",
              "25%         0.000000  \n",
              "50%         0.000000  \n",
              "75%         0.000000  \n",
              "max         1.000000  "
            ],
            "text/html": [
              "\n",
              "  <div id=\"df-2f2ff84a-936a-44e2-893b-9f8679c02069\">\n",
              "    <div class=\"colab-df-container\">\n",
              "      <div>\n",
              "<style scoped>\n",
              "    .dataframe tbody tr th:only-of-type {\n",
              "        vertical-align: middle;\n",
              "    }\n",
              "\n",
              "    .dataframe tbody tr th {\n",
              "        vertical-align: top;\n",
              "    }\n",
              "\n",
              "    .dataframe thead th {\n",
              "        text-align: right;\n",
              "    }\n",
              "</style>\n",
              "<table border=\"1\" class=\"dataframe\">\n",
              "  <thead>\n",
              "    <tr style=\"text-align: right;\">\n",
              "      <th></th>\n",
              "      <th>step</th>\n",
              "      <th>amount</th>\n",
              "      <th>oldbalanceOrg</th>\n",
              "      <th>newbalanceOrig</th>\n",
              "      <th>oldbalanceDest</th>\n",
              "      <th>newbalanceDest</th>\n",
              "      <th>isFraud</th>\n",
              "      <th>type_CASH_OUT</th>\n",
              "      <th>type_TRANSFER</th>\n",
              "    </tr>\n",
              "  </thead>\n",
              "  <tbody>\n",
              "    <tr>\n",
              "      <th>count</th>\n",
              "      <td>21879.000000</td>\n",
              "      <td>21879.000000</td>\n",
              "      <td>21879.000000</td>\n",
              "      <td>21879.000000</td>\n",
              "      <td>21879.000000</td>\n",
              "      <td>21879.000000</td>\n",
              "      <td>21879.000000</td>\n",
              "      <td>21879.000000</td>\n",
              "      <td>21879.000000</td>\n",
              "    </tr>\n",
              "    <tr>\n",
              "      <th>mean</th>\n",
              "      <td>0.271409</td>\n",
              "      <td>0.007560</td>\n",
              "      <td>0.001104</td>\n",
              "      <td>0.000364</td>\n",
              "      <td>0.010620</td>\n",
              "      <td>0.012774</td>\n",
              "      <td>0.002154</td>\n",
              "      <td>0.810046</td>\n",
              "      <td>0.189954</td>\n",
              "    </tr>\n",
              "    <tr>\n",
              "      <th>std</th>\n",
              "      <td>0.144908</td>\n",
              "      <td>0.019878</td>\n",
              "      <td>0.006662</td>\n",
              "      <td>0.005033</td>\n",
              "      <td>0.022766</td>\n",
              "      <td>0.025241</td>\n",
              "      <td>0.038583</td>\n",
              "      <td>0.392273</td>\n",
              "      <td>0.392273</td>\n",
              "    </tr>\n",
              "    <tr>\n",
              "      <th>min</th>\n",
              "      <td>0.000000</td>\n",
              "      <td>0.000000</td>\n",
              "      <td>0.000000</td>\n",
              "      <td>0.000000</td>\n",
              "      <td>0.000000</td>\n",
              "      <td>0.000000</td>\n",
              "      <td>0.000000</td>\n",
              "      <td>0.000000</td>\n",
              "      <td>0.000000</td>\n",
              "    </tr>\n",
              "    <tr>\n",
              "      <th>25%</th>\n",
              "      <td>0.188823</td>\n",
              "      <td>0.001944</td>\n",
              "      <td>0.000000</td>\n",
              "      <td>0.000000</td>\n",
              "      <td>0.000867</td>\n",
              "      <td>0.002119</td>\n",
              "      <td>0.000000</td>\n",
              "      <td>1.000000</td>\n",
              "      <td>0.000000</td>\n",
              "    </tr>\n",
              "    <tr>\n",
              "      <th>50%</th>\n",
              "      <td>0.275462</td>\n",
              "      <td>0.004021</td>\n",
              "      <td>0.000006</td>\n",
              "      <td>0.000000</td>\n",
              "      <td>0.003567</td>\n",
              "      <td>0.005284</td>\n",
              "      <td>0.000000</td>\n",
              "      <td>1.000000</td>\n",
              "      <td>0.000000</td>\n",
              "    </tr>\n",
              "    <tr>\n",
              "      <th>75%</th>\n",
              "      <td>0.370213</td>\n",
              "      <td>0.007182</td>\n",
              "      <td>0.000701</td>\n",
              "      <td>0.000000</td>\n",
              "      <td>0.011085</td>\n",
              "      <td>0.013629</td>\n",
              "      <td>0.000000</td>\n",
              "      <td>1.000000</td>\n",
              "      <td>0.000000</td>\n",
              "    </tr>\n",
              "    <tr>\n",
              "      <th>max</th>\n",
              "      <td>0.693147</td>\n",
              "      <td>0.693147</td>\n",
              "      <td>0.693147</td>\n",
              "      <td>0.693147</td>\n",
              "      <td>0.693147</td>\n",
              "      <td>0.693147</td>\n",
              "      <td>0.693147</td>\n",
              "      <td>1.000000</td>\n",
              "      <td>1.000000</td>\n",
              "    </tr>\n",
              "  </tbody>\n",
              "</table>\n",
              "</div>\n",
              "      <button class=\"colab-df-convert\" onclick=\"convertToInteractive('df-2f2ff84a-936a-44e2-893b-9f8679c02069')\"\n",
              "              title=\"Convert this dataframe to an interactive table.\"\n",
              "              style=\"display:none;\">\n",
              "        \n",
              "  <svg xmlns=\"http://www.w3.org/2000/svg\" height=\"24px\"viewBox=\"0 0 24 24\"\n",
              "       width=\"24px\">\n",
              "    <path d=\"M0 0h24v24H0V0z\" fill=\"none\"/>\n",
              "    <path d=\"M18.56 5.44l.94 2.06.94-2.06 2.06-.94-2.06-.94-.94-2.06-.94 2.06-2.06.94zm-11 1L8.5 8.5l.94-2.06 2.06-.94-2.06-.94L8.5 2.5l-.94 2.06-2.06.94zm10 10l.94 2.06.94-2.06 2.06-.94-2.06-.94-.94-2.06-.94 2.06-2.06.94z\"/><path d=\"M17.41 7.96l-1.37-1.37c-.4-.4-.92-.59-1.43-.59-.52 0-1.04.2-1.43.59L10.3 9.45l-7.72 7.72c-.78.78-.78 2.05 0 2.83L4 21.41c.39.39.9.59 1.41.59.51 0 1.02-.2 1.41-.59l7.78-7.78 2.81-2.81c.8-.78.8-2.07 0-2.86zM5.41 20L4 18.59l7.72-7.72 1.47 1.35L5.41 20z\"/>\n",
              "  </svg>\n",
              "      </button>\n",
              "      \n",
              "  <style>\n",
              "    .colab-df-container {\n",
              "      display:flex;\n",
              "      flex-wrap:wrap;\n",
              "      gap: 12px;\n",
              "    }\n",
              "\n",
              "    .colab-df-convert {\n",
              "      background-color: #E8F0FE;\n",
              "      border: none;\n",
              "      border-radius: 50%;\n",
              "      cursor: pointer;\n",
              "      display: none;\n",
              "      fill: #1967D2;\n",
              "      height: 32px;\n",
              "      padding: 0 0 0 0;\n",
              "      width: 32px;\n",
              "    }\n",
              "\n",
              "    .colab-df-convert:hover {\n",
              "      background-color: #E2EBFA;\n",
              "      box-shadow: 0px 1px 2px rgba(60, 64, 67, 0.3), 0px 1px 3px 1px rgba(60, 64, 67, 0.15);\n",
              "      fill: #174EA6;\n",
              "    }\n",
              "\n",
              "    [theme=dark] .colab-df-convert {\n",
              "      background-color: #3B4455;\n",
              "      fill: #D2E3FC;\n",
              "    }\n",
              "\n",
              "    [theme=dark] .colab-df-convert:hover {\n",
              "      background-color: #434B5C;\n",
              "      box-shadow: 0px 1px 3px 1px rgba(0, 0, 0, 0.15);\n",
              "      filter: drop-shadow(0px 1px 2px rgba(0, 0, 0, 0.3));\n",
              "      fill: #FFFFFF;\n",
              "    }\n",
              "  </style>\n",
              "\n",
              "      <script>\n",
              "        const buttonEl =\n",
              "          document.querySelector('#df-2f2ff84a-936a-44e2-893b-9f8679c02069 button.colab-df-convert');\n",
              "        buttonEl.style.display =\n",
              "          google.colab.kernel.accessAllowed ? 'block' : 'none';\n",
              "\n",
              "        async function convertToInteractive(key) {\n",
              "          const element = document.querySelector('#df-2f2ff84a-936a-44e2-893b-9f8679c02069');\n",
              "          const dataTable =\n",
              "            await google.colab.kernel.invokeFunction('convertToInteractive',\n",
              "                                                     [key], {});\n",
              "          if (!dataTable) return;\n",
              "\n",
              "          const docLinkHtml = 'Like what you see? Visit the ' +\n",
              "            '<a target=\"_blank\" href=https://colab.research.google.com/notebooks/data_table.ipynb>data table notebook</a>'\n",
              "            + ' to learn more about interactive tables.';\n",
              "          element.innerHTML = '';\n",
              "          dataTable['output_type'] = 'display_data';\n",
              "          await google.colab.output.renderOutput(dataTable, element);\n",
              "          const docLink = document.createElement('div');\n",
              "          docLink.innerHTML = docLinkHtml;\n",
              "          element.appendChild(docLink);\n",
              "        }\n",
              "      </script>\n",
              "    </div>\n",
              "  </div>\n",
              "  "
            ]
          },
          "metadata": {},
          "execution_count": 13
        }
      ]
    },
    {
      "cell_type": "code",
      "source": [
        "# Visualize distributions\n",
        "normalized_df.hist(bins=30, figsize=(20,30), layout=(8,3));"
      ],
      "metadata": {
        "colab": {
          "base_uri": "https://localhost:8080/",
          "height": 644
        },
        "id": "cX7uLqaOboGK",
        "outputId": "67207fe1-db6c-40e0-d4e1-f2d82d490a09"
      },
      "execution_count": null,
      "outputs": [
        {
          "output_type": "display_data",
          "data": {
            "text/plain": [
              "<Figure size 1440x2160 with 24 Axes>"
            ],
            "image/png": "[encoded data removed]"
          },
          "metadata": {
            "needs_background": "light"
          }
        }
      ]
    },
    {
      "cell_type": "markdown",
      "source": [
        "**3.\tCreate Train and Test Datasets**"
      ],
      "metadata": {
        "id": "Np22dgBXETW7"
      }
    },
    {
      "cell_type": "code",
      "source": [
        "# 3.1 - Split the scaled cleaned dataset into 70%  training and 30% testing datasets\n",
        "# https://www.datacamp.com/tutorial/understanding-logistic-regression-python\n",
        "# Model building in Scikit-learn\n",
        "# Split dataset into feature (independant variable) and target variable (isFraud)\n",
        "feature_cols = ['step','amount','oldbalanceOrg','newbalanceOrig','oldbalanceDest','newbalanceDest','type_CASH_OUT','type_TRANSFER']\n",
        "X = newData[feature_cols] # Features\n",
        "y = newData.isFraud # Target variable\n",
        "\n",
        "# Split X and y into training and testing datasets\n",
        "from sklearn.model_selection import train_test_split\n",
        "X_train,X_test,y_train,y_test=train_test_split(X,y,test_size=0.3,random_state=0)"
      ],
      "metadata": {
        "id": "EoiRi4rWDN8u"
      },
      "execution_count": null,
      "outputs": []
    },
    {
      "cell_type": "code",
      "source": [
        "# 3.2 - SMOT\n",
        "# https://towardsdatascience.com/methods-for-dealing-with-imbalanced-data-5b761be45a18\n",
        "from sklearn.utils import resample\n",
        "from imblearn.over_sampling import SMOTE\n",
        "\n",
        "oversample = SMOTE()\n",
        "X, y = oversample.fit_resample(X, y)\n",
        "\n",
        "sm = SMOTE(random_state=25, sampling_strategy=1.0)\n",
        "X_train, y_train = sm.fit_resample(X_train, y_train)"
      ],
      "metadata": {
        "id": "Y2ehG3Jh82tC"
      },
      "execution_count": null,
      "outputs": []
    },
    {
      "cell_type": "markdown",
      "source": [
        "**4. Setup Logistic Regression Model**"
      ],
      "metadata": {
        "id": "-UYO2JYUBuh7"
      }
    },
    {
      "cell_type": "code",
      "source": [
        "# 4.1 - Import and setup Logistic Regression Model\n",
        "from sklearn.linear_model import LogisticRegression\n",
        "\n",
        "# Instantiate the model (using the default parameters)\n",
        "scr = 'recall'\n",
        "accuracy_dict = {}\n",
        "model_lr = LogisticRegression()\n",
        "\n",
        "# Fit the model with data\n",
        "model_lr.fit(X_train,y_train)\n",
        "\n",
        "y_pred=model_lr.predict(X_test)"
      ],
      "metadata": {
        "id": "G359DN4ZHFzr"
      },
      "execution_count": null,
      "outputs": []
    },
    {
      "cell_type": "code",
      "source": [
        "# 4.2 - Import the metrics class\n",
        "from sklearn import metrics\n",
        "cnf_matrix = metrics.confusion_matrix(y_test, y_pred)\n",
        "cnf_matrix"
      ],
      "metadata": {
        "colab": {
          "base_uri": "https://localhost:8080/"
        },
        "id": "LnAe_HktHK8v",
        "outputId": "1d41b9f6-207b-4d45-e37f-55f612275a64"
      },
      "execution_count": null,
      "outputs": [
        {
          "output_type": "execute_result",
          "data": {
            "text/plain": [
              "array([[5863,  681],\n",
              "       [   6,   14]])"
            ]
          },
          "metadata": {},
          "execution_count": 18
        }
      ]
    },
    {
      "cell_type": "code",
      "source": [
        "# 4.3 - Visualizing Confusion Matrix using Heatmap\n",
        "class_names=[0,1] # name  of classes\n",
        "fig, ax = plt.subplots()\n",
        "tick_marks = np.arange(len(class_names))\n",
        "plt.xticks(tick_marks, class_names)\n",
        "plt.yticks(tick_marks, class_names)\n",
        "# create heatmap\n",
        "sns.heatmap(pd.DataFrame(cnf_matrix), annot=True, cmap=\"PiYG\" ,fmt='g')\n",
        "ax.xaxis.set_label_position(\"top\")\n",
        "plt.tight_layout()\n",
        "plt.title('Confusion matrix', y=1.1)\n",
        "plt.ylabel('Actual label')\n",
        "plt.xlabel('Predicted label')"
      ],
      "metadata": {
        "colab": {
          "base_uri": "https://localhost:8080/",
          "height": 342
        },
        "id": "F2W_P9X9HSLu",
        "outputId": "de6aad6d-0bc6-4d59-c8de-471c0b5daf81"
      },
      "execution_count": null,
      "outputs": [
        {
          "output_type": "execute_result",
          "data": {
            "text/plain": [
              "Text(0.5, 257.44, 'Predicted label')"
            ]
          },
          "metadata": {},
          "execution_count": 19
        },
        {
          "output_type": "display_data",
          "data": {
            "text/plain": [
              "<Figure size 432x288 with 2 Axes>"
            ],
            "image/png": "[encoded data removed]"
          },
          "metadata": {
            "needs_background": "light"
          }
        }
      ]
    },
    {
      "cell_type": "code",
      "source": [
        "# 4.4 - Confusion Matrix Evaluation Metrics (NOTE: classification rate of 80%, considered as good accuracy)\n",
        "print(\"Accuracy:\",metrics.accuracy_score(y_test, y_pred))\n",
        "print(\"Precision:\",metrics.precision_score(y_test, y_pred))\n",
        "print(\"Recall:\",metrics.recall_score(y_test, y_pred))\n",
        "\n",
        "#Classification rate of 80%, considered as good accuracy.\n",
        "#Precision: Precision is about being precise, i.e., how accurate your model is. In other words, when a model makes a prediction,how often it is correct. \n",
        "#In sample prediction case, when Logistic Regression model predicted patients are going to suffer from diabetes, that patients have 76% of the time.\n",
        "#Recall: If there are patients who have diabetes in the test set and the Logistic Regression model can identify it 58% of the time."
      ],
      "metadata": {
        "colab": {
          "base_uri": "https://localhost:8080/"
        },
        "id": "8POSP3lqHdqJ",
        "outputId": "2ef3af65-cdee-46b7-8dc1-94d47ae9ecef"
      },
      "execution_count": null,
      "outputs": [
        {
          "output_type": "stream",
          "name": "stdout",
          "text": [
            "Accuracy: 0.8953382084095064\n",
            "Precision: 0.02014388489208633\n",
            "Recall: 0.7\n"
          ]
        }
      ]
    },
    {
      "cell_type": "markdown",
      "source": [
        "**5. Model Evaluation & Validation (TBD)**"
      ],
      "metadata": {
        "id": "MtsuNtqH_edq"
      }
    },
    {
      "cell_type": "code",
      "source": [
        "# 5.1 - Calculate Evaluation Metrics \n",
        "from sklearn import metrics\n",
        "print('MAE', metrics.mean_absolute_error(y_test, y_pred))\n",
        "print('R^2', metrics.r2_score(y_test, y_pred))\n",
        "print('RMSE', metrics.mean_squared_error(y_test, y_pred))"
      ],
      "metadata": {
        "colab": {
          "base_uri": "https://localhost:8080/"
        },
        "id": "vpmp0X_7_dev",
        "outputId": "a4e1025e-636f-4184-cd10-e3c2ac3f8357"
      },
      "execution_count": null,
      "outputs": [
        {
          "output_type": "stream",
          "name": "stdout",
          "text": [
            "MAE 0.1046617915904936\n",
            "R^2 -33.45498166259168\n",
            "RMSE 0.1046617915904936\n"
          ]
        }
      ]
    },
    {
      "cell_type": "code",
      "source": [
        "# 5.2 - Plot residuals to determine variance \n",
        "residuals = y_pred - y_test \n",
        "sns.regplot(y=y_pred, x=residuals, lowess=True)\n",
        "plt.title(\"Variance of Residuals vs Predictors\")\n",
        "plt.ylabel(\"Residuals\")\n",
        "plt.xlabel(\"Fitted Values\")\n",
        "plt.show()"
      ],
      "metadata": {
        "colab": {
          "base_uri": "https://localhost:8080/",
          "height": 330
        },
        "id": "POGBZ4f8_oxY",
        "outputId": "3ba44444-ca87-4c41-f9fb-b2fe8805dae4"
      },
      "execution_count": null,
      "outputs": [
        {
          "output_type": "stream",
          "name": "stderr",
          "text": [
            "/usr/local/lib/python3.7/dist-packages/statsmodels/nonparametric/smoothers_lowess.py:165: RuntimeWarning: invalid value encountered in true_divide\n",
            "  res = _lowess(y, x, frac=frac, it=it, delta=delta)\n"
          ]
        },
        {
          "output_type": "display_data",
          "data": {
            "text/plain": [
              "<Figure size 432x288 with 1 Axes>"
            ],
            "image/png": "[encoded data removed]"
          },
          "metadata": {
            "needs_background": "light"
          }
        }
      ]
    },
    {
      "cell_type": "markdown",
      "source": [
        "*****Extra Codes for Reference**"
      ],
      "metadata": {
        "id": "DQ70tDVP04RM"
      }
    },
    {
      "cell_type": "markdown",
      "source": [
        "**Defining the Model for Logistic Regression**"
      ],
      "metadata": {
        "id": "4JjTOsA0hF8B"
      }
    },
    {
      "cell_type": "code",
      "source": [
        "# Stratified 5-fold cross-validation: to ensure models do not overfit the training data\n",
        "from sklearn.model_selection import StratifiedKFold\n",
        "skf = StratifiedKFold(5)"
      ],
      "metadata": {
        "id": "8jN1FlCBrieH"
      },
      "execution_count": null,
      "outputs": []
    },
    {
      "cell_type": "code",
      "source": [
        "# 6. Check class imbalance in Train and Test Datasets\n",
        "#Class Imbalance - Percentage Frequency\n",
        "dFraud = pd.DataFrame(y_train_original, columns= ['isFraud'])\n",
        "# Percentage calculation\n",
        "(dFraud['isFraud'].value_counts()/dFraud['isFraud'].count())*100"
      ],
      "metadata": {
        "colab": {
          "base_uri": "https://localhost:8080/"
        },
        "id": "9dVaHmxvdDi2",
        "outputId": "e439de03-ab51-4072-df3e-d7150798f1be"
      },
      "execution_count": null,
      "outputs": [
        {
          "output_type": "execute_result",
          "data": {
            "text/plain": [
              "2    56.271629\n",
              "0    43.578191\n",
              "1     0.150180\n",
              "Name: isFraud, dtype: float64"
            ]
          },
          "metadata": {},
          "execution_count": 108
        }
      ]
    },
    {
      "cell_type": "code",
      "source": [
        "#Class Imbalance - Percentage Frequency\n",
        "dFraud = pd.DataFrame(y_test_original, columns= ['isFraud'])\n",
        "# Percentage calculation\n",
        "(dFraud['isFraud'].value_counts()/dFraud['isFraud'].count())*100"
      ],
      "metadata": {
        "colab": {
          "base_uri": "https://localhost:8080/"
        },
        "id": "bnUaUh1wgFq6",
        "outputId": "c4fbf4a1-835a-4fa3-bcca-21ac74ca120e"
      },
      "execution_count": null,
      "outputs": [
        {
          "output_type": "execute_result",
          "data": {
            "text/plain": [
              "2    56.170018\n",
              "0    43.723339\n",
              "1     0.106642\n",
              "Name: isFraud, dtype: float64"
            ]
          },
          "metadata": {},
          "execution_count": 109
        }
      ]
    },
    {
      "cell_type": "code",
      "source": [
        "from sklearn.linear_model import LogisticRegression\n",
        "scr = 'recall'\n",
        "accuracy_dict = {}\n",
        "model_lr = LogisticRegression()"
      ],
      "metadata": {
        "colab": {
          "base_uri": "https://localhost:8080/"
        },
        "id": "mFhoj5XxhBSh",
        "outputId": "ac068870-2ef1-444c-80df-ebe85debd296"
      },
      "execution_count": null,
      "outputs": [
        {
          "output_type": "stream",
          "name": "stdout",
          "text": [
            "Looking in indexes: https://pypi.org/simple, https://us-python.pkg.dev/colab-wheels/public/simple/\n",
            "Requirement already satisfied: xgboost in /usr/local/lib/python3.7/dist-packages (0.90)\n",
            "Requirement already satisfied: numpy in /usr/local/lib/python3.7/dist-packages (from xgboost) (1.21.6)\n",
            "Requirement already satisfied: scipy in /usr/local/lib/python3.7/dist-packages (from xgboost) (1.4.1)\n"
          ]
        }
      ]
    },
    {
      "cell_type": "code",
      "source": [
        "# Version 1: Create Train and Test Datasets: 70% for training and 30% for testing\n",
        "# Check https://www.youtube.com/watch?v=sFVxFCYiIQI (16:20) Splitting Raw Data - X = exclude isFraud, y = isFraud only\n",
        "from sklearn.model_selection import KFold, cross_val_score, train_test_split\n",
        "from sklearn.preprocessing import LabelEncoder\n",
        "X = data_scaled.loc[:, data_scaled.columns != 'isFraud']\n",
        "y = data_scaled.loc[:, data_scaled.columns == 'isFraud']\n",
        "\n",
        "X_train_original, X_test_original, y_train_original, y_test_original = train_test_split(X,y,test_size = 0.3, random_state = 0)\n",
        "\n",
        "label_encoder = LabelEncoder()\n",
        "y_train_original = label_encoder.fit_transform(y_train_original.values.ravel())\n",
        "y_test_original = label_encoder.fit_transform(y_test_original.values.ravel())"
      ],
      "metadata": {
        "id": "iNUoiwpnYgCQ"
      },
      "execution_count": null,
      "outputs": []
    },
    {
      "cell_type": "code",
      "source": [
        "print('X shape:{}'.format(np.shape(X)))\n",
        "print('y shape: {}'.format(np.shape(y)))"
      ],
      "metadata": {
        "colab": {
          "base_uri": "https://localhost:8080/"
        },
        "id": "t-bNEaPpsrUT",
        "outputId": "53828828-b20d-4e00-be44-7b3ebe82ec36"
      },
      "execution_count": null,
      "outputs": [
        {
          "output_type": "stream",
          "name": "stdout",
          "text": [
            "X shape:(21879, 7)\n",
            "y shape: (21879, 1)\n"
          ]
        }
      ]
    },
    {
      "cell_type": "code",
      "source": [
        "# Version 2: Check https://www.youtube.com/watch?v=sFVxFCYiIQI (16:20) Splitting Raw Data - X = exclude isFraud, y = isFraud only\n",
        "from sklearn.model_selection import train_test_split\n",
        "X = newData.drop('isFraud', axis=1).values\n",
        "y = newData['isFraud'].values\n",
        "print('X shape:{}'.format(np.shape(X)))\n",
        "print('y shape: {}'.format(np.shape(y)))\n",
        "\n",
        "X_train, X_test, y_train, y_test = train_test_split(X, y, train_size = 0.7, test_size = 0.3, random_state = 0)"
      ],
      "metadata": {
        "colab": {
          "base_uri": "https://localhost:8080/"
        },
        "id": "wUh1a5Ckvw30",
        "outputId": "4c27ee9e-9eeb-4874-a3e4-84877c894a9c"
      },
      "execution_count": null,
      "outputs": [
        {
          "output_type": "stream",
          "name": "stdout",
          "text": [
            "X shape:(21879, 8)\n",
            "y shape: (21879,)\n"
          ]
        }
      ]
    },
    {
      "cell_type": "code",
      "source": [
        "# Logistic Regression Model Training\n",
        "sc_lr = cross_val_score(model_lr, x_train_original, y_train_original, scoring =scr)"
      ],
      "metadata": {
        "id": "-ZlDEFlesdx5"
      },
      "execution_count": null,
      "outputs": []
    }
  ]
}